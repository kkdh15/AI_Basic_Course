{
 "metadata": {
  "language_info": {
   "codemirror_mode": {
    "name": "ipython",
    "version": 3
   },
   "file_extension": ".py",
   "mimetype": "text/x-python",
   "name": "python",
   "nbconvert_exporter": "python",
   "pygments_lexer": "ipython3",
   "version": "3.8.5-final"
  },
  "orig_nbformat": 2,
  "kernelspec": {
   "name": "python3",
   "display_name": "Python 3"
  }
 },
 "nbformat": 4,
 "nbformat_minor": 2,
 "cells": [
  {
   "cell_type": "code",
   "execution_count": 606,
   "metadata": {},
   "outputs": [],
   "source": [
    "import pandas as pd\n",
    "# pip install folium\n",
    "import folium "
   ]
  },
  {
   "cell_type": "code",
   "execution_count": 607,
   "metadata": {},
   "outputs": [
    {
     "output_type": "execute_result",
     "data": {
      "text/plain": [
       "   Unnamed: 0   지역               학교명  코드  유형  주야  남학생수  여학생수    일반고   특성화고  \\\n",
       "0           0  성북구    서울대학교사범대학부설중학교   3  국립  주간   277     0  0.585  0.148   \n",
       "1           1  종로구  서울대학교사범대학부설여자중학교   3  국립  주간     0   256  0.680  0.199   \n",
       "2           2  강남구             개원중학교   3  공립  주간   170   152  0.817  0.047   \n",
       "3           3  강남구             개포중학교   3  공립  주간    83    72  0.755  0.097   \n",
       "4           4  서초구             경원중학교   3  공립  주간   199   212  0.669  0.017   \n",
       "\n",
       "   ...  외고_국제고  예고_체고  마이스터고    자사고    자공고   기타진학  취업     미상         위도  \\\n",
       "0  ...   0.007  0.000  0.011  0.227  0.000  0.004   0  0.000  37.594942   \n",
       "1  ...   0.035  0.008  0.000  0.043  0.004  0.031   0  0.000  37.577473   \n",
       "2  ...   0.012  0.003  0.006  0.090  0.003  0.009   0  0.003  37.491637   \n",
       "3  ...   0.013  0.019  0.019  0.065  0.000  0.019   0  0.000  37.480439   \n",
       "4  ...   0.010  0.005  0.000  0.282  0.000  0.010   0  0.000  37.510750   \n",
       "\n",
       "           경도  \n",
       "0  127.038909  \n",
       "1  127.003857  \n",
       "2  127.071744  \n",
       "3  127.062201  \n",
       "4  127.008900  \n",
       "\n",
       "[5 rows x 21 columns]"
      ],
      "text/html": "<div>\n<style scoped>\n    .dataframe tbody tr th:only-of-type {\n        vertical-align: middle;\n    }\n\n    .dataframe tbody tr th {\n        vertical-align: top;\n    }\n\n    .dataframe thead th {\n        text-align: right;\n    }\n</style>\n<table border=\"1\" class=\"dataframe\">\n  <thead>\n    <tr style=\"text-align: right;\">\n      <th></th>\n      <th>Unnamed: 0</th>\n      <th>지역</th>\n      <th>학교명</th>\n      <th>코드</th>\n      <th>유형</th>\n      <th>주야</th>\n      <th>남학생수</th>\n      <th>여학생수</th>\n      <th>일반고</th>\n      <th>특성화고</th>\n      <th>...</th>\n      <th>외고_국제고</th>\n      <th>예고_체고</th>\n      <th>마이스터고</th>\n      <th>자사고</th>\n      <th>자공고</th>\n      <th>기타진학</th>\n      <th>취업</th>\n      <th>미상</th>\n      <th>위도</th>\n      <th>경도</th>\n    </tr>\n  </thead>\n  <tbody>\n    <tr>\n      <th>0</th>\n      <td>0</td>\n      <td>성북구</td>\n      <td>서울대학교사범대학부설중학교</td>\n      <td>3</td>\n      <td>국립</td>\n      <td>주간</td>\n      <td>277</td>\n      <td>0</td>\n      <td>0.585</td>\n      <td>0.148</td>\n      <td>...</td>\n      <td>0.007</td>\n      <td>0.000</td>\n      <td>0.011</td>\n      <td>0.227</td>\n      <td>0.000</td>\n      <td>0.004</td>\n      <td>0</td>\n      <td>0.000</td>\n      <td>37.594942</td>\n      <td>127.038909</td>\n    </tr>\n    <tr>\n      <th>1</th>\n      <td>1</td>\n      <td>종로구</td>\n      <td>서울대학교사범대학부설여자중학교</td>\n      <td>3</td>\n      <td>국립</td>\n      <td>주간</td>\n      <td>0</td>\n      <td>256</td>\n      <td>0.680</td>\n      <td>0.199</td>\n      <td>...</td>\n      <td>0.035</td>\n      <td>0.008</td>\n      <td>0.000</td>\n      <td>0.043</td>\n      <td>0.004</td>\n      <td>0.031</td>\n      <td>0</td>\n      <td>0.000</td>\n      <td>37.577473</td>\n      <td>127.003857</td>\n    </tr>\n    <tr>\n      <th>2</th>\n      <td>2</td>\n      <td>강남구</td>\n      <td>개원중학교</td>\n      <td>3</td>\n      <td>공립</td>\n      <td>주간</td>\n      <td>170</td>\n      <td>152</td>\n      <td>0.817</td>\n      <td>0.047</td>\n      <td>...</td>\n      <td>0.012</td>\n      <td>0.003</td>\n      <td>0.006</td>\n      <td>0.090</td>\n      <td>0.003</td>\n      <td>0.009</td>\n      <td>0</td>\n      <td>0.003</td>\n      <td>37.491637</td>\n      <td>127.071744</td>\n    </tr>\n    <tr>\n      <th>3</th>\n      <td>3</td>\n      <td>강남구</td>\n      <td>개포중학교</td>\n      <td>3</td>\n      <td>공립</td>\n      <td>주간</td>\n      <td>83</td>\n      <td>72</td>\n      <td>0.755</td>\n      <td>0.097</td>\n      <td>...</td>\n      <td>0.013</td>\n      <td>0.019</td>\n      <td>0.019</td>\n      <td>0.065</td>\n      <td>0.000</td>\n      <td>0.019</td>\n      <td>0</td>\n      <td>0.000</td>\n      <td>37.480439</td>\n      <td>127.062201</td>\n    </tr>\n    <tr>\n      <th>4</th>\n      <td>4</td>\n      <td>서초구</td>\n      <td>경원중학교</td>\n      <td>3</td>\n      <td>공립</td>\n      <td>주간</td>\n      <td>199</td>\n      <td>212</td>\n      <td>0.669</td>\n      <td>0.017</td>\n      <td>...</td>\n      <td>0.010</td>\n      <td>0.005</td>\n      <td>0.000</td>\n      <td>0.282</td>\n      <td>0.000</td>\n      <td>0.010</td>\n      <td>0</td>\n      <td>0.000</td>\n      <td>37.510750</td>\n      <td>127.008900</td>\n    </tr>\n  </tbody>\n</table>\n<p>5 rows × 21 columns</p>\n</div>"
     },
     "metadata": {},
     "execution_count": 607
    }
   ],
   "source": [
    "file_path = './data/2016_middle_shcool_graduates_report.xlsx'\n",
    "df = pd.read_excel(file_path)\n",
    "df.head()"
   ]
  },
  {
   "cell_type": "code",
   "execution_count": 608,
   "metadata": {},
   "outputs": [],
   "source": [
    "school_map = folium.Map(location=[37.5, 127.032], zoom_start=15)"
   ]
  },
  {
   "cell_type": "code",
   "execution_count": 609,
   "metadata": {},
   "outputs": [],
   "source": [
    "for name, latitude, longitude in zip(df.학교명, df.위도, df.경도):\n",
    "    folium.CircleMarker(\n",
    "        location=[latitude, longitude],\n",
    "        radius=5,\n",
    "        popup=name,\n",
    "        color='blue',\n",
    "        fill=True,\n",
    "        fill_color='blue'\n",
    "    ).add_to(school_map)"
   ]
  },
  {
   "cell_type": "code",
   "execution_count": 610,
   "metadata": {},
   "outputs": [],
   "source": [
    "school_map.save(\"./2016_middle.html\")"
   ]
  },
  {
   "cell_type": "code",
   "execution_count": 611,
   "metadata": {},
   "outputs": [
    {
     "output_type": "execute_result",
     "data": {
      "text/plain": [
       "   Unnamed: 0   지역               학교명  코드  유형  주야  남학생수  여학생수    일반고   특성화고  \\\n",
       "0           0  성북구    서울대학교사범대학부설중학교   3  국립  주간   277     0  0.585  0.148   \n",
       "1           1  종로구  서울대학교사범대학부설여자중학교   3  국립  주간     0   256  0.680  0.199   \n",
       "2           2  강남구             개원중학교   3  공립  주간   170   152  0.817  0.047   \n",
       "\n",
       "   ...  외고_국제고  예고_체고  마이스터고    자사고    자공고   기타진학  취업     미상         위도  \\\n",
       "0  ...   0.007  0.000  0.011  0.227  0.000  0.004   0  0.000  37.594942   \n",
       "1  ...   0.035  0.008  0.000  0.043  0.004  0.031   0  0.000  37.577473   \n",
       "2  ...   0.012  0.003  0.006  0.090  0.003  0.009   0  0.003  37.491637   \n",
       "\n",
       "           경도  \n",
       "0  127.038909  \n",
       "1  127.003857  \n",
       "2  127.071744  \n",
       "\n",
       "[3 rows x 21 columns]"
      ],
      "text/html": "<div>\n<style scoped>\n    .dataframe tbody tr th:only-of-type {\n        vertical-align: middle;\n    }\n\n    .dataframe tbody tr th {\n        vertical-align: top;\n    }\n\n    .dataframe thead th {\n        text-align: right;\n    }\n</style>\n<table border=\"1\" class=\"dataframe\">\n  <thead>\n    <tr style=\"text-align: right;\">\n      <th></th>\n      <th>Unnamed: 0</th>\n      <th>지역</th>\n      <th>학교명</th>\n      <th>코드</th>\n      <th>유형</th>\n      <th>주야</th>\n      <th>남학생수</th>\n      <th>여학생수</th>\n      <th>일반고</th>\n      <th>특성화고</th>\n      <th>...</th>\n      <th>외고_국제고</th>\n      <th>예고_체고</th>\n      <th>마이스터고</th>\n      <th>자사고</th>\n      <th>자공고</th>\n      <th>기타진학</th>\n      <th>취업</th>\n      <th>미상</th>\n      <th>위도</th>\n      <th>경도</th>\n    </tr>\n  </thead>\n  <tbody>\n    <tr>\n      <th>0</th>\n      <td>0</td>\n      <td>성북구</td>\n      <td>서울대학교사범대학부설중학교</td>\n      <td>3</td>\n      <td>국립</td>\n      <td>주간</td>\n      <td>277</td>\n      <td>0</td>\n      <td>0.585</td>\n      <td>0.148</td>\n      <td>...</td>\n      <td>0.007</td>\n      <td>0.000</td>\n      <td>0.011</td>\n      <td>0.227</td>\n      <td>0.000</td>\n      <td>0.004</td>\n      <td>0</td>\n      <td>0.000</td>\n      <td>37.594942</td>\n      <td>127.038909</td>\n    </tr>\n    <tr>\n      <th>1</th>\n      <td>1</td>\n      <td>종로구</td>\n      <td>서울대학교사범대학부설여자중학교</td>\n      <td>3</td>\n      <td>국립</td>\n      <td>주간</td>\n      <td>0</td>\n      <td>256</td>\n      <td>0.680</td>\n      <td>0.199</td>\n      <td>...</td>\n      <td>0.035</td>\n      <td>0.008</td>\n      <td>0.000</td>\n      <td>0.043</td>\n      <td>0.004</td>\n      <td>0.031</td>\n      <td>0</td>\n      <td>0.000</td>\n      <td>37.577473</td>\n      <td>127.003857</td>\n    </tr>\n    <tr>\n      <th>2</th>\n      <td>2</td>\n      <td>강남구</td>\n      <td>개원중학교</td>\n      <td>3</td>\n      <td>공립</td>\n      <td>주간</td>\n      <td>170</td>\n      <td>152</td>\n      <td>0.817</td>\n      <td>0.047</td>\n      <td>...</td>\n      <td>0.012</td>\n      <td>0.003</td>\n      <td>0.006</td>\n      <td>0.090</td>\n      <td>0.003</td>\n      <td>0.009</td>\n      <td>0</td>\n      <td>0.003</td>\n      <td>37.491637</td>\n      <td>127.071744</td>\n    </tr>\n  </tbody>\n</table>\n<p>3 rows × 21 columns</p>\n</div>"
     },
     "metadata": {},
     "execution_count": 611
    }
   ],
   "source": [
    "df.head(3)"
   ]
  },
  {
   "source": [
    "## Preprocessing"
   ],
   "cell_type": "markdown",
   "metadata": {}
  },
  {
   "cell_type": "code",
   "execution_count": 612,
   "metadata": {},
   "outputs": [],
   "source": [
    "from sklearn import preprocessing"
   ]
  },
  {
   "cell_type": "code",
   "execution_count": 613,
   "metadata": {},
   "outputs": [],
   "source": [
    "label_encoder = preprocessing.LabelEncoder()"
   ]
  },
  {
   "cell_type": "code",
   "execution_count": 614,
   "metadata": {},
   "outputs": [],
   "source": [
    "# 지역, 코드 유형 주야\n",
    "label_location = label_encoder.fit_transform(df['지역'])\n",
    "label_code =  label_encoder.fit_transform(df['코드'])\n",
    "label_type = label_encoder.fit_transform(df['유형'])\n",
    "label_day = label_encoder.fit_transform(df['주야'])"
   ]
  },
  {
   "cell_type": "code",
   "execution_count": 615,
   "metadata": {},
   "outputs": [],
   "source": [
    "df['location'] = label_location\n",
    "df['code'] = label_code\n",
    "df['type'] = label_type\n",
    "df['day'] = label_day"
   ]
  },
  {
   "cell_type": "code",
   "execution_count": 616,
   "metadata": {},
   "outputs": [
    {
     "output_type": "execute_result",
     "data": {
      "text/plain": [
       "    지역               학교명  코드  유형  주야  남학생수  여학생수    일반고   특성화고    과학고  ...  \\\n",
       "0  성북구    서울대학교사범대학부설중학교   3  국립  주간   277     0  0.585  0.148  0.018  ...   \n",
       "1  종로구  서울대학교사범대학부설여자중학교   3  국립  주간     0   256  0.680  0.199  0.000  ...   \n",
       "2  강남구             개원중학교   3  공립  주간   170   152  0.817  0.047  0.009  ...   \n",
       "\n",
       "     자공고   기타진학  취업     미상         위도          경도  location  code  type  day  \n",
       "0  0.000  0.004   0  0.000  37.594942  127.038909        16     0     1    0  \n",
       "1  0.004  0.031   0  0.000  37.577473  127.003857        22     0     1    0  \n",
       "2  0.003  0.009   0  0.003  37.491637  127.071744         0     0     0    0  \n",
       "\n",
       "[3 rows x 24 columns]"
      ],
      "text/html": "<div>\n<style scoped>\n    .dataframe tbody tr th:only-of-type {\n        vertical-align: middle;\n    }\n\n    .dataframe tbody tr th {\n        vertical-align: top;\n    }\n\n    .dataframe thead th {\n        text-align: right;\n    }\n</style>\n<table border=\"1\" class=\"dataframe\">\n  <thead>\n    <tr style=\"text-align: right;\">\n      <th></th>\n      <th>지역</th>\n      <th>학교명</th>\n      <th>코드</th>\n      <th>유형</th>\n      <th>주야</th>\n      <th>남학생수</th>\n      <th>여학생수</th>\n      <th>일반고</th>\n      <th>특성화고</th>\n      <th>과학고</th>\n      <th>...</th>\n      <th>자공고</th>\n      <th>기타진학</th>\n      <th>취업</th>\n      <th>미상</th>\n      <th>위도</th>\n      <th>경도</th>\n      <th>location</th>\n      <th>code</th>\n      <th>type</th>\n      <th>day</th>\n    </tr>\n  </thead>\n  <tbody>\n    <tr>\n      <th>0</th>\n      <td>성북구</td>\n      <td>서울대학교사범대학부설중학교</td>\n      <td>3</td>\n      <td>국립</td>\n      <td>주간</td>\n      <td>277</td>\n      <td>0</td>\n      <td>0.585</td>\n      <td>0.148</td>\n      <td>0.018</td>\n      <td>...</td>\n      <td>0.000</td>\n      <td>0.004</td>\n      <td>0</td>\n      <td>0.000</td>\n      <td>37.594942</td>\n      <td>127.038909</td>\n      <td>16</td>\n      <td>0</td>\n      <td>1</td>\n      <td>0</td>\n    </tr>\n    <tr>\n      <th>1</th>\n      <td>종로구</td>\n      <td>서울대학교사범대학부설여자중학교</td>\n      <td>3</td>\n      <td>국립</td>\n      <td>주간</td>\n      <td>0</td>\n      <td>256</td>\n      <td>0.680</td>\n      <td>0.199</td>\n      <td>0.000</td>\n      <td>...</td>\n      <td>0.004</td>\n      <td>0.031</td>\n      <td>0</td>\n      <td>0.000</td>\n      <td>37.577473</td>\n      <td>127.003857</td>\n      <td>22</td>\n      <td>0</td>\n      <td>1</td>\n      <td>0</td>\n    </tr>\n    <tr>\n      <th>2</th>\n      <td>강남구</td>\n      <td>개원중학교</td>\n      <td>3</td>\n      <td>공립</td>\n      <td>주간</td>\n      <td>170</td>\n      <td>152</td>\n      <td>0.817</td>\n      <td>0.047</td>\n      <td>0.009</td>\n      <td>...</td>\n      <td>0.003</td>\n      <td>0.009</td>\n      <td>0</td>\n      <td>0.003</td>\n      <td>37.491637</td>\n      <td>127.071744</td>\n      <td>0</td>\n      <td>0</td>\n      <td>0</td>\n      <td>0</td>\n    </tr>\n  </tbody>\n</table>\n<p>3 rows × 24 columns</p>\n</div>"
     },
     "metadata": {},
     "execution_count": 616
    }
   ],
   "source": [
    "df.drop(inplace=True,columns='Unnamed: 0')\n",
    "df.head(3)"
   ]
  },
  {
   "cell_type": "code",
   "execution_count": 617,
   "metadata": {},
   "outputs": [
    {
     "output_type": "execute_result",
     "data": {
      "text/plain": [
       "     과학고  외고_국제고    자사고\n",
       "0  0.018   0.007  0.227\n",
       "1  0.000   0.035  0.043\n",
       "2  0.009   0.012  0.090\n",
       "3  0.013   0.013  0.065\n",
       "4  0.007   0.010  0.282"
      ],
      "text/html": "<div>\n<style scoped>\n    .dataframe tbody tr th:only-of-type {\n        vertical-align: middle;\n    }\n\n    .dataframe tbody tr th {\n        vertical-align: top;\n    }\n\n    .dataframe thead th {\n        text-align: right;\n    }\n</style>\n<table border=\"1\" class=\"dataframe\">\n  <thead>\n    <tr style=\"text-align: right;\">\n      <th></th>\n      <th>과학고</th>\n      <th>외고_국제고</th>\n      <th>자사고</th>\n    </tr>\n  </thead>\n  <tbody>\n    <tr>\n      <th>0</th>\n      <td>0.018</td>\n      <td>0.007</td>\n      <td>0.227</td>\n    </tr>\n    <tr>\n      <th>1</th>\n      <td>0.000</td>\n      <td>0.035</td>\n      <td>0.043</td>\n    </tr>\n    <tr>\n      <th>2</th>\n      <td>0.009</td>\n      <td>0.012</td>\n      <td>0.090</td>\n    </tr>\n    <tr>\n      <th>3</th>\n      <td>0.013</td>\n      <td>0.013</td>\n      <td>0.065</td>\n    </tr>\n    <tr>\n      <th>4</th>\n      <td>0.007</td>\n      <td>0.010</td>\n      <td>0.282</td>\n    </tr>\n  </tbody>\n</table>\n</div>"
     },
     "metadata": {},
     "execution_count": 617
    }
   ],
   "source": [
    "x = df.iloc[:,[9,10,13]]  # 과학고, 외고(국제고), 자사고\n",
    "x.head()"
   ]
  },
  {
   "cell_type": "code",
   "execution_count": 618,
   "metadata": {},
   "outputs": [],
   "source": [
    "x = preprocessing.StandardScaler().fit(x).transform(x)"
   ]
  },
  {
   "cell_type": "code",
   "execution_count": 619,
   "metadata": {},
   "outputs": [],
   "source": [
    "# DBSCAN 모델링 => cluster"
   ]
  },
  {
   "cell_type": "code",
   "execution_count": 620,
   "metadata": {},
   "outputs": [],
   "source": [
    "from sklearn import cluster"
   ]
  },
  {
   "cell_type": "code",
   "execution_count": 621,
   "metadata": {},
   "outputs": [
    {
     "output_type": "execute_result",
     "data": {
      "text/plain": [
       "DBSCAN(eps=0.3, min_samples=4)"
      ]
     },
     "metadata": {},
     "execution_count": 621
    }
   ],
   "source": [
    "dbscan = cluster.DBSCAN(eps=0.3, min_samples=4) \n",
    "dbscan.fit(x)  #학습"
   ]
  },
  {
   "cell_type": "code",
   "execution_count": 622,
   "metadata": {},
   "outputs": [],
   "source": [
    "df['Cluster'] = dbscan.labels_\n",
    "group_col = [0,1,3,9,10,13]  # 지역, 학교명, 유형, 과학고, 외고, 자사고"
   ]
  },
  {
   "cell_type": "code",
   "execution_count": 623,
   "metadata": {},
   "outputs": [],
   "source": [
    "grouped = df.groupby('Cluster')"
   ]
  },
  {
   "cell_type": "code",
   "execution_count": 624,
   "metadata": {},
   "outputs": [
    {
     "output_type": "stream",
     "name": "stdout",
     "text": [
      "-1 161\n과학고 :  0.893\n외고_국제고 :  2.0140000000000002\n자사고 :  13.352\n전체 특목고 :  16.258\n\n\n0 172\n과학고 :  0.0\n외고_국제고 :  0.8869999999999999\n자사고 :  3.73\n전체 특목고 :  4.617\n\n\n1 12\n과학고 :  0.4\n외고_국제고 :  1.417\n자사고 :  7.008\n전체 특목고 :  8.825\n\n\n2 4\n과학고 :  0.375\n외고_국제고 :  2.1\n자사고 :  6.7250000000000005\n전체 특목고 :  9.2\n\n\n3 6\n과학고 :  0.65\n외고_국제고 :  2.033\n자사고 :  11.05\n전체 특목고 :  13.733\n\n\n4 4\n과학고 :  0.975\n외고_국제고 :  1.7999999999999998\n자사고 :  6.375\n전체 특목고 :  9.15\n\n\n5 21\n과학고 :  0.45199999999999996\n외고_국제고 :  1.171\n자사고 :  2.524\n전체 특목고 :  4.148000000000001\n\n\n6 4\n과학고 :  0.7000000000000001\n외고_국제고 :  1.275\n자사고 :  6.800000000000001\n전체 특목고 :  8.774999999999999\n\n\n7 5\n과학고 :  0.0\n외고_국제고 :  0.76\n자사고 :  14.44\n전체 특목고 :  15.2\n\n\n8 18\n과학고 :  0.383\n외고_국제고 :  0.35000000000000003\n자사고 :  5.311\n전체 특목고 :  6.0440000000000005\n\n\n9 4\n과학고 :  0.575\n외고_국제고 :  0.0\n자사고 :  10.6\n전체 특목고 :  11.175\n\n\n10 4\n과학고 :  0.6\n외고_국제고 :  1.6500000000000001\n자사고 :  18.95\n전체 특목고 :  21.2\n\n\n"
     ]
    }
   ],
   "source": [
    "for key, group in grouped:\n",
    "    print(key, len(group))\n",
    "    #print(group.iloc[:,group_col].head(10))\n",
    "    print(\"과학고 : \",(group.과학고.sum()/len(group)).round(5) * 100)\n",
    "    print(\"외고_국제고 : \",(group.외고_국제고.sum()/len(group)).round(5) * 100)\n",
    "    print(\"자사고 : \",(group.자사고.sum()/len(group)).round(5) * 100)\n",
    "    total = group.과학고.sum() + group.외고_국제고.sum() + group.자사고.sum()\n",
    "    print(\"전체 특목고 : \",(total/len(group)).round(5) * 100)\n",
    "    print('\\n')\n"
   ]
  },
  {
   "cell_type": "code",
   "execution_count": 625,
   "metadata": {},
   "outputs": [],
   "source": [
    "# 지도에 표시\n",
    "cluster_map = folium.Map(location=[37.5, 127.032], zoom_start=12)\n",
    "cluster_colors = {-1:'black',0:'green',1 :'blue',2:'yellow',3:'purple',4:'brown',5:'red', 6:'skyblue', 7:'gray',8:'pink',9:'gold',10:'black'}"
   ]
  },
  {
   "cell_type": "code",
   "execution_count": 626,
   "metadata": {},
   "outputs": [],
   "source": [
    "for name, latitude, longitude, cluster in zip(df.학교명, df.위도, df.경도, df.Cluster):\n",
    "    folium.CircleMarker(\n",
    "        location=[latitude, longitude],\n",
    "        radius=5,\n",
    "        popup=name,\n",
    "        color=cluster_colors[cluster],\n",
    "        fill=True,\n",
    "        fill_color=cluster_colors[cluster]\n",
    "    ).add_to(cluster_map)\n",
    "cluster_map.save(\"./2016_middle_cluster.html\")"
   ]
  },
  {
   "cell_type": "code",
   "execution_count": 627,
   "metadata": {},
   "outputs": [
    {
     "output_type": "execute_result",
     "data": {
      "text/plain": [
       "     과학고  외고_국제고\n",
       "0  0.018   0.007\n",
       "1  0.000   0.035\n",
       "2  0.009   0.012\n",
       "3  0.013   0.013\n",
       "4  0.007   0.010"
      ],
      "text/html": "<div>\n<style scoped>\n    .dataframe tbody tr th:only-of-type {\n        vertical-align: middle;\n    }\n\n    .dataframe tbody tr th {\n        vertical-align: top;\n    }\n\n    .dataframe thead th {\n        text-align: right;\n    }\n</style>\n<table border=\"1\" class=\"dataframe\">\n  <thead>\n    <tr style=\"text-align: right;\">\n      <th></th>\n      <th>과학고</th>\n      <th>외고_국제고</th>\n    </tr>\n  </thead>\n  <tbody>\n    <tr>\n      <th>0</th>\n      <td>0.018</td>\n      <td>0.007</td>\n    </tr>\n    <tr>\n      <th>1</th>\n      <td>0.000</td>\n      <td>0.035</td>\n    </tr>\n    <tr>\n      <th>2</th>\n      <td>0.009</td>\n      <td>0.012</td>\n    </tr>\n    <tr>\n      <th>3</th>\n      <td>0.013</td>\n      <td>0.013</td>\n    </tr>\n    <tr>\n      <th>4</th>\n      <td>0.007</td>\n      <td>0.010</td>\n    </tr>\n  </tbody>\n</table>\n</div>"
     },
     "metadata": {},
     "execution_count": 627
    }
   ],
   "source": [
    "x2 = df.iloc[:,[9,10]]  # 과학고, 외고(국제고), 자사고\n",
    "x2.head()"
   ]
  },
  {
   "cell_type": "code",
   "execution_count": 628,
   "metadata": {},
   "outputs": [],
   "source": [
    "x2 = preprocessing.StandardScaler().fit(x2).transform(x2)"
   ]
  },
  {
   "cell_type": "code",
   "execution_count": 629,
   "metadata": {},
   "outputs": [
    {
     "output_type": "execute_result",
     "data": {
      "text/plain": [
       "    지역               학교명  코드  유형  주야  남학생수  여학생수    일반고   특성화고    과학고  ...  \\\n",
       "0  성북구    서울대학교사범대학부설중학교   3  국립  주간   277     0  0.585  0.148  0.018  ...   \n",
       "1  종로구  서울대학교사범대학부설여자중학교   3  국립  주간     0   256  0.680  0.199  0.000  ...   \n",
       "2  강남구             개원중학교   3  공립  주간   170   152  0.817  0.047  0.009  ...   \n",
       "3  강남구             개포중학교   3  공립  주간    83    72  0.755  0.097  0.013  ...   \n",
       "4  서초구             경원중학교   3  공립  주간   199   212  0.669  0.017  0.007  ...   \n",
       "\n",
       "   취업     미상         위도          경도  location  code  type  day  Cluster  \\\n",
       "0   0  0.000  37.594942  127.038909        16     0     1    0       -1   \n",
       "1   0  0.000  37.577473  127.003857        22     0     1    0       -1   \n",
       "2   0  0.003  37.491637  127.071744         0     0     0    0       -1   \n",
       "3   0  0.000  37.480439  127.062201         0     0     0    0       -1   \n",
       "4   0  0.000  37.510750  127.008900        14     0     0    0       -1   \n",
       "\n",
       "   Cluster2  \n",
       "0        -1  \n",
       "1        -1  \n",
       "2        -1  \n",
       "3        -1  \n",
       "4        -1  \n",
       "\n",
       "[5 rows x 26 columns]"
      ],
      "text/html": "<div>\n<style scoped>\n    .dataframe tbody tr th:only-of-type {\n        vertical-align: middle;\n    }\n\n    .dataframe tbody tr th {\n        vertical-align: top;\n    }\n\n    .dataframe thead th {\n        text-align: right;\n    }\n</style>\n<table border=\"1\" class=\"dataframe\">\n  <thead>\n    <tr style=\"text-align: right;\">\n      <th></th>\n      <th>지역</th>\n      <th>학교명</th>\n      <th>코드</th>\n      <th>유형</th>\n      <th>주야</th>\n      <th>남학생수</th>\n      <th>여학생수</th>\n      <th>일반고</th>\n      <th>특성화고</th>\n      <th>과학고</th>\n      <th>...</th>\n      <th>취업</th>\n      <th>미상</th>\n      <th>위도</th>\n      <th>경도</th>\n      <th>location</th>\n      <th>code</th>\n      <th>type</th>\n      <th>day</th>\n      <th>Cluster</th>\n      <th>Cluster2</th>\n    </tr>\n  </thead>\n  <tbody>\n    <tr>\n      <th>0</th>\n      <td>성북구</td>\n      <td>서울대학교사범대학부설중학교</td>\n      <td>3</td>\n      <td>국립</td>\n      <td>주간</td>\n      <td>277</td>\n      <td>0</td>\n      <td>0.585</td>\n      <td>0.148</td>\n      <td>0.018</td>\n      <td>...</td>\n      <td>0</td>\n      <td>0.000</td>\n      <td>37.594942</td>\n      <td>127.038909</td>\n      <td>16</td>\n      <td>0</td>\n      <td>1</td>\n      <td>0</td>\n      <td>-1</td>\n      <td>-1</td>\n    </tr>\n    <tr>\n      <th>1</th>\n      <td>종로구</td>\n      <td>서울대학교사범대학부설여자중학교</td>\n      <td>3</td>\n      <td>국립</td>\n      <td>주간</td>\n      <td>0</td>\n      <td>256</td>\n      <td>0.680</td>\n      <td>0.199</td>\n      <td>0.000</td>\n      <td>...</td>\n      <td>0</td>\n      <td>0.000</td>\n      <td>37.577473</td>\n      <td>127.003857</td>\n      <td>22</td>\n      <td>0</td>\n      <td>1</td>\n      <td>0</td>\n      <td>-1</td>\n      <td>-1</td>\n    </tr>\n    <tr>\n      <th>2</th>\n      <td>강남구</td>\n      <td>개원중학교</td>\n      <td>3</td>\n      <td>공립</td>\n      <td>주간</td>\n      <td>170</td>\n      <td>152</td>\n      <td>0.817</td>\n      <td>0.047</td>\n      <td>0.009</td>\n      <td>...</td>\n      <td>0</td>\n      <td>0.003</td>\n      <td>37.491637</td>\n      <td>127.071744</td>\n      <td>0</td>\n      <td>0</td>\n      <td>0</td>\n      <td>0</td>\n      <td>-1</td>\n      <td>-1</td>\n    </tr>\n    <tr>\n      <th>3</th>\n      <td>강남구</td>\n      <td>개포중학교</td>\n      <td>3</td>\n      <td>공립</td>\n      <td>주간</td>\n      <td>83</td>\n      <td>72</td>\n      <td>0.755</td>\n      <td>0.097</td>\n      <td>0.013</td>\n      <td>...</td>\n      <td>0</td>\n      <td>0.000</td>\n      <td>37.480439</td>\n      <td>127.062201</td>\n      <td>0</td>\n      <td>0</td>\n      <td>0</td>\n      <td>0</td>\n      <td>-1</td>\n      <td>-1</td>\n    </tr>\n    <tr>\n      <th>4</th>\n      <td>서초구</td>\n      <td>경원중학교</td>\n      <td>3</td>\n      <td>공립</td>\n      <td>주간</td>\n      <td>199</td>\n      <td>212</td>\n      <td>0.669</td>\n      <td>0.017</td>\n      <td>0.007</td>\n      <td>...</td>\n      <td>0</td>\n      <td>0.000</td>\n      <td>37.510750</td>\n      <td>127.008900</td>\n      <td>14</td>\n      <td>0</td>\n      <td>0</td>\n      <td>0</td>\n      <td>-1</td>\n      <td>-1</td>\n    </tr>\n  </tbody>\n</table>\n<p>5 rows × 26 columns</p>\n</div>"
     },
     "metadata": {},
     "execution_count": 629
    }
   ],
   "source": [
    "from sklearn import cluster\n",
    "dbscan2 = cluster.DBSCAN(eps=0.3, min_samples=5) \n",
    "dbscan2.fit(x)  #학습\n",
    "df['Cluster2'] = dbscan2.labels_\n",
    "df.head()"
   ]
  },
  {
   "cell_type": "code",
   "execution_count": 630,
   "metadata": {},
   "outputs": [
    {
     "output_type": "stream",
     "name": "stdout",
     "text": [
      "-1 197\n과학고 :  0.819\n외고_국제고 :  1.8429999999999997\n과고+외고 :  2.662\n\n\n0 171\n과학고 :  0.0\n외고_국제고 :  0.8920000000000001\n과고+외고 :  0.8920000000000001\n\n\n1 12\n과학고 :  0.4\n외고_국제고 :  1.417\n과고+외고 :  1.817\n\n\n2 6\n과학고 :  0.65\n외고_국제고 :  2.033\n과고+외고 :  2.683\n\n\n3 11\n과학고 :  0.42700000000000005\n외고_국제고 :  0.964\n과고+외고 :  1.391\n\n\n4 13\n과학고 :  0.385\n외고_국제고 :  0.377\n과고+외고 :  0.762\n\n\n5 5\n과학고 :  0.38\n외고_국제고 :  1.52\n과고+외고 :  1.9\n\n\n"
     ]
    }
   ],
   "source": [
    "group2_col = [0,1,3,9,10]\n",
    "group2 = df.groupby('Cluster2')\n",
    "for key, group in group2:\n",
    "    print(key, len(group))\n",
    "    print(\"과학고 : \",(group.과학고.sum()/len(group)).round(5) * 100)\n",
    "    print(\"외고_국제고 : \",(group.외고_국제고.sum()/len(group)).round(5) * 100)\n",
    "    total = group.과학고.sum() + group.외고_국제고.sum()\n",
    "    print(\"과고+외고 : \",(total/len(group)).round(5) * 100)\n",
    "    print('\\n')"
   ]
  },
  {
   "cell_type": "code",
   "execution_count": 631,
   "metadata": {},
   "outputs": [],
   "source": [
    "cluster2_map = folium.Map(location=[37.5, 127.032], zoom_start=12)\n",
    "for name, latitude, longitude, cluster in zip(df.학교명, df.위도, df.경도, df.Cluster2):\n",
    "    folium.CircleMarker(\n",
    "        location=[latitude, longitude],\n",
    "        radius=5,\n",
    "        popup=name,\n",
    "        color=cluster_colors[cluster],\n",
    "        fill=True,\n",
    "        fill_color=cluster_colors[cluster]\n",
    "    ).add_to(cluster2_map)\n",
    "cluster2_map.save(\"./2016_middle_cluster2.html\")"
   ]
  },
  {
   "cell_type": "code",
   "execution_count": null,
   "metadata": {},
   "outputs": [],
   "source": []
  }
 ]
}