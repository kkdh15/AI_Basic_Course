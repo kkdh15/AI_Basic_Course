{
  "nbformat": 4,
  "nbformat_minor": 0,
  "metadata": {
    "colab": {
      "name": "Ch02_basic_TF2.ipynb",
      "private_outputs": true,
      "provenance": [],
      "collapsed_sections": []
    },
    "kernelspec": {
      "name": "python3",
      "display_name": "Python 3"
    }
  },
  "cells": [
    {
      "cell_type": "code",
      "metadata": {
        "id": "pDWrjOk5Y88i"
      },
      "source": [
        "import tensorflow as tf\n",
        "print(tf.__version__)"
      ],
      "execution_count": null,
      "outputs": []
    },
    {
      "cell_type": "code",
      "metadata": {
        "id": "0bjDdULmZTCf"
      },
      "source": [
        "rand = tf.random.uniform(shape = [2], minval = 0, maxval = 1)\n",
        "rand = tf.random.uniform([2], 0, 1)\n",
        "print(rand)"
      ],
      "execution_count": null,
      "outputs": []
    },
    {
      "cell_type": "code",
      "metadata": {
        "id": "e-WPx7zaaVtM"
      },
      "source": [
        "rand = tf.random.uniform([4],0,1)\n",
        "print(rand)"
      ],
      "execution_count": null,
      "outputs": []
    },
    {
      "cell_type": "code",
      "metadata": {
        "id": "U6Dnadi9bxij"
      },
      "source": [
        "rand = tf.random.uniform([4,4],0,1) # 배열크기, 최소값, 최대값\n",
        "print(rand)"
      ],
      "execution_count": null,
      "outputs": []
    },
    {
      "cell_type": "code",
      "metadata": {
        "id": "isGRrAlKbP-q"
      },
      "source": [
        "rand = tf.random.normal([4],0,1)  # 배열크기, 평균, 표준편차 \n",
        "print(rand)"
      ],
      "execution_count": null,
      "outputs": []
    },
    {
      "cell_type": "code",
      "metadata": {
        "id": "hoUpp5KHjkEq"
      },
      "source": [
        "import matplotlib.pyplot as plt\n",
        "random_normal = tf.random.normal([1000000],0,1)\n",
        "plt.hist(random_normal, bins = 200)\n",
        "plt.show()"
      ],
      "execution_count": null,
      "outputs": []
    },
    {
      "cell_type": "markdown",
      "metadata": {
        "id": "F8v87Xo9cNfF"
      },
      "source": [
        "# 뉴런 (NOT 구현)"
      ]
    },
    {
      "cell_type": "code",
      "metadata": {
        "id": "FI1PDxJZbah_"
      },
      "source": [
        "import math\n",
        "def sigmoid(x):\n",
        "    return 1 / (1+math.exp(-x))"
      ],
      "execution_count": null,
      "outputs": []
    },
    {
      "cell_type": "code",
      "metadata": {
        "id": "IzadnoECcyPN"
      },
      "source": [
        "x = 1\n",
        "y = 0\n",
        "w = tf.random.normal([1],0,1)\n",
        "# b = ?\n",
        "output = sigmoid(x * w)\n",
        "error = y - output\n",
        "print(output, error)\n"
      ],
      "execution_count": null,
      "outputs": []
    },
    {
      "cell_type": "code",
      "metadata": {
        "id": "yUcOz2wKjNPR"
      },
      "source": [
        "# 경사하강법 \n",
        "for i in range(1000):\n",
        "  output = sigmoid(x*w)\n",
        "  error = y - output\n",
        "  w = w + (x * error * 0.1)\n",
        "\n",
        "  if i % 100 == 99:\n",
        "    print(i, error, output)"
      ],
      "execution_count": null,
      "outputs": []
    },
    {
      "cell_type": "code",
      "metadata": {
        "id": "R1o5j5JjlYDO"
      },
      "source": [
        "x = 0\n",
        "y = 1\n",
        "w = tf.random.normal([1],0,1)\n",
        "for i in range(1000):\n",
        "  output = sigmoid(x*w)\n",
        "  error = y - output\n",
        "  w = w + (x * error * 0.1)\n",
        "\n",
        "  if i % 100 == 99:\n",
        "    print(i, error, output)"
      ],
      "execution_count": null,
      "outputs": []
    },
    {
      "cell_type": "code",
      "metadata": {
        "id": "fqCC4Ta-mYFF"
      },
      "source": [
        "x = 0\n",
        "y = 1\n",
        "w = tf.random.normal([1],0,1)\n",
        "b = tf.random.normal([1],0,1)\n",
        "\n",
        "for i in range(1000):\n",
        "  output = sigmoid(x*w + 1*b)\n",
        "  error = y - output\n",
        "  w = w + (x * error * 0.1)\n",
        "  b = b + (1 * error * 0.1)\n",
        "\n",
        "  if i % 100 == 99:\n",
        "    print(i, error, output)"
      ],
      "execution_count": null,
      "outputs": []
    },
    {
      "cell_type": "markdown",
      "metadata": {
        "id": "gvHk2X1Inycn"
      },
      "source": [
        "#뉴런 (AND 연산)\n",
        "0 0   0  \n",
        "0 1   0  \n",
        "1 0   0  \n",
        "1 1   1    "
      ]
    },
    {
      "cell_type": "code",
      "metadata": {
        "id": "KuHFJAsIn6Tc"
      },
      "source": [
        "# y = w1x1 + w2x2 + b\n",
        "import numpy as np\n",
        "x = np.array([[0,0],[0,1],[1,0],[1,1]])\n",
        "y = np.array([[0],[0],[0],[1]])\n",
        "\n",
        "w = tf.random.normal([2],0,1)\n",
        "b = tf.random.normal([1],0,1)\n",
        "b_x = 1\n",
        "\n",
        "for i in range(2000): # 학습 횟수\n",
        "  error_sum = 0\n",
        "  for j in range(4):\n",
        "    output = sigmoid(np.sum(x[j]*w)+b_x*b)  #if model == liner \n",
        "    error = y[j][0] - output\n",
        "    w = w + x[j] * 0.1 * error # learning rate\n",
        "    b = b + b_x * 0.1 * error\n",
        "    error_sum = error_sum + error\n",
        "\n",
        "  if i % 100 == 99:\n",
        "    print(i, error_sum, output)\n",
        "\n",
        "print(w, b)"
      ],
      "execution_count": null,
      "outputs": []
    },
    {
      "cell_type": "code",
      "metadata": {
        "id": "3Jb8rJEHrrnu"
      },
      "source": [
        "# w, b 평가\n",
        "for i in range(4):\n",
        "  print(x[i], y[i], 'output : ', sigmoid(np.sum(x[i]*w)+b))"
      ],
      "execution_count": null,
      "outputs": []
    },
    {
      "cell_type": "markdown",
      "metadata": {
        "id": "cb4rNzHLtoAr"
      },
      "source": [
        "#뉴런 (OR 연산)\n",
        "0 0   0  \n",
        "0 1   1  \n",
        "1 0   1  \n",
        "1 1   1  "
      ]
    },
    {
      "cell_type": "code",
      "metadata": {
        "id": "SjouBDuus1Zj"
      },
      "source": [
        "# y = w1x1 + w2x2 + b\n",
        "# y = wx1 + wx2 + b\n",
        "import numpy as np\n",
        "x = np.array([[0,0],[0,1],[1,0],[1,1]])\n",
        "y = np.array([[0],[1],[1],[1]])\n",
        "\n",
        "w = tf.random.normal([2],0,1)\n",
        "b = tf.random.normal([1],0,1)\n",
        "b_x = 1\n",
        "\n",
        "for i in range(2000): # 학습 횟수\n",
        "  error_sum = 0\n",
        "  for j in range(4):\n",
        "    output = sigmoid(np.sum(x[j]*w)+b_x*b)  #if model == liner \n",
        "    error = y[j][0] - output\n",
        "    w = w + x[j] * 0.1 * error # learning rate\n",
        "    b = b + b_x * 0.1 * error\n",
        "    error_sum = error_sum + error\n",
        "\n",
        "  if i % 100 == 99:\n",
        "    print(i, error_sum, output)\n",
        "\n",
        "print(w, b)"
      ],
      "execution_count": null,
      "outputs": []
    },
    {
      "cell_type": "code",
      "metadata": {
        "id": "6QwEKwqF0F02"
      },
      "source": [
        "# w, b 평가\n",
        "for i in range(4):\n",
        "  print(x[i], y[i], 'output : ', sigmoid(np.sum(x[i]*w)+b))"
      ],
      "execution_count": null,
      "outputs": []
    },
    {
      "cell_type": "markdown",
      "metadata": {
        "id": "iZV-6-eK2OhX"
      },
      "source": [
        "## 뉴런 (XOR 연산)  \n",
        "0 0 0  \n",
        "0 1 1  \n",
        "1 0 1  \n",
        "1 1 0  "
      ]
    },
    {
      "cell_type": "code",
      "metadata": {
        "id": "kzyfEoY52JEi"
      },
      "source": [
        "# y = w1x1 + w2x2 + b\n",
        "import numpy as np\n",
        "x = np.array([[0,0],[0,1],[1,0],[1,1]])\n",
        "y = np.array([[0],[1],[1],[0]])\n",
        "\n",
        "w = tf.random.normal([2],0,1)\n",
        "b = tf.random.normal([1],0,1)\n",
        "b_x = 1\n",
        "\n",
        "for i in range(2000): # 학습 횟수\n",
        "  error_sum = 0\n",
        "  for j in range(4):\n",
        "    output = sigmoid(np.sum(x[j]*w)+b_x*b)  #if model == liner \n",
        "    error = y[j][0] - output\n",
        "    w = w + x[j] * 0.1 * error # learning rate\n",
        "    b = b + b_x * 0.1 * error\n",
        "    error_sum = error_sum + error\n",
        "\n",
        "  if i % 100 == 99:\n",
        "    print(i, error_sum, output)\n",
        "\n",
        "print(w, b)"
      ],
      "execution_count": null,
      "outputs": []
    },
    {
      "cell_type": "code",
      "metadata": {
        "id": "xLM_O-qf2ifc"
      },
      "source": [
        "# w, b 평가\n",
        "for i in range(4):\n",
        "  print(x[i], y[i], 'output : ', sigmoid(np.sum(x[i]*w)+b))"
      ],
      "execution_count": null,
      "outputs": []
    },
    {
      "cell_type": "code",
      "metadata": {
        "id": "GTWzLDTu39X5"
      },
      "source": [
        "import numpy as np\n",
        "import tensorflow as tf\n",
        "from tensorflow import keras\n",
        "from tensorflow.keras import layers\n",
        "\n",
        "x = np.array([[0,0],[0,1],[1,0],[1,1]])\n",
        "y = np.array([[0],[1],[1],[0]])\n",
        "\n",
        "model = keras.Sequential(\n",
        "    [\n",
        "        layers.Dense(2, activation=\"sigmoid\", name=\"layer1\", input_shape = (2,)),\n",
        "        layers.Dense(1, activation=\"sigmoid\", name=\"layer2\")\n",
        "    ]\n",
        ")\n",
        "\n",
        "model.compile(\n",
        "    optimizer=keras.optimizers.SGD(lr=0.2),   #경사하강법\n",
        "    loss='mse'  #R 제곱\n",
        ")\n",
        "\n",
        "model.summary()"
      ],
      "execution_count": null,
      "outputs": []
    },
    {
      "cell_type": "code",
      "metadata": {
        "id": "rSPGZvMT7bxp"
      },
      "source": [
        "history = model.fit(x,y, epochs=3000 , batch_size=1)"
      ],
      "execution_count": null,
      "outputs": []
    },
    {
      "cell_type": "code",
      "metadata": {
        "id": "1AuMFw3Z7rNj"
      },
      "source": [
        "model.predict(x)"
      ],
      "execution_count": null,
      "outputs": []
    },
    {
      "cell_type": "code",
      "metadata": {
        "id": "VuK3u7T99flZ"
      },
      "source": [
        "for weight in model.weights:\n",
        "  print(weight)\n"
      ],
      "execution_count": null,
      "outputs": []
    },
    {
      "cell_type": "code",
      "metadata": {
        "id": "vZlPFXraDWM1"
      },
      "source": [
        "print(history.history)"
      ],
      "execution_count": null,
      "outputs": []
    },
    {
      "cell_type": "code",
      "metadata": {
        "id": "1mzPVmDT_zVN"
      },
      "source": [
        "import matplotlib.pyplot as plt\n",
        "plt.plot(history.history['loss'])"
      ],
      "execution_count": null,
      "outputs": []
    }
  ]
}