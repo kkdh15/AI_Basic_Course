{
 "metadata": {
  "language_info": {
   "codemirror_mode": {
    "name": "ipython",
    "version": 3
   },
   "file_extension": ".py",
   "mimetype": "text/x-python",
   "name": "python",
   "nbconvert_exporter": "python",
   "pygments_lexer": "ipython3",
   "version": "3.7.9-final"
  },
  "orig_nbformat": 2,
  "kernelspec": {
   "name": "python3",
   "display_name": "Python 3.7.9 64-bit ('python_3.7': conda)",
   "metadata": {
    "interpreter": {
     "hash": "2ef9295e5707b050a7247f8aef1527b1df91510008d346980af256f412b3227d"
    }
   }
  }
 },
 "nbformat": 4,
 "nbformat_minor": 2,
 "cells": [
  {
   "cell_type": "code",
   "execution_count": 1,
   "metadata": {},
   "outputs": [],
   "source": [
    "import seaborn as sns\n",
    "import pandas as pd\n",
    "titanic = sns.load_dataset('titanic')\n",
    "df = titanic.loc[:,['age','sex','class','fare','survived']]"
   ]
  },
  {
   "cell_type": "code",
   "execution_count": 2,
   "metadata": {},
   "outputs": [],
   "source": [
    "grouped = df.groupby(['class'])"
   ]
  },
  {
   "cell_type": "code",
   "execution_count": 4,
   "metadata": {},
   "outputs": [],
   "source": [
    "max_grouped = grouped.max()"
   ]
  },
  {
   "cell_type": "code",
   "execution_count": 5,
   "metadata": {},
   "outputs": [
    {
     "output_type": "stream",
     "name": "stdout",
     "text": [
      "         age   sex      fare  survived\nclass                                 \nFirst   80.0  male  512.3292         1\nSecond  70.0  male   73.5000         1\nThird   74.0  male   69.5500         1\n"
     ]
    }
   ],
   "source": [
    "print(max_grouped)"
   ]
  },
  {
   "cell_type": "code",
   "execution_count": 6,
   "metadata": {},
   "outputs": [],
   "source": [
    "std_grouped = grouped.std()"
   ]
  },
  {
   "cell_type": "code",
   "execution_count": 7,
   "metadata": {},
   "outputs": [
    {
     "output_type": "stream",
     "name": "stdout",
     "text": [
      "              age       fare  survived\nclass                                 \nFirst   14.802856  78.380373  0.484026\nSecond  14.001077  13.417399  0.500623\nThird   12.495398  11.778142  0.428949\n"
     ]
    }
   ],
   "source": [
    "print(std_grouped)"
   ]
  },
  {
   "cell_type": "code",
   "execution_count": 8,
   "metadata": {},
   "outputs": [
    {
     "output_type": "stream",
     "name": "stdout",
     "text": [
      "class\nFirst     78.380373\nSecond    13.417399\nThird     11.778142\nName: fare, dtype: float64\n"
     ]
    }
   ],
   "source": [
    "std_fare_grouped = grouped.fare.std()\n",
    "print(std_fare_grouped)"
   ]
  },
  {
   "cell_type": "code",
   "execution_count": 9,
   "metadata": {},
   "outputs": [],
   "source": [
    "def value_range(x):\n",
    "    return x.max() - x.min()"
   ]
  },
  {
   "cell_type": "code",
   "execution_count": 10,
   "metadata": {},
   "outputs": [
    {
     "output_type": "stream",
     "name": "stdout",
     "text": [
      "          age      fare  survived\nclass                            \nFirst   79.08  512.3292         1\nSecond  69.33   73.5000         1\nThird   73.58   69.5500         1\n"
     ]
    }
   ],
   "source": [
    "agg_range = grouped.agg(value_range)\n",
    "print(agg_range)"
   ]
  },
  {
   "cell_type": "code",
   "execution_count": 12,
   "metadata": {},
   "outputs": [
    {
     "output_type": "stream",
     "name": "stdout",
     "text": [
      "         age                          ... survived                           \n         min   max       mean median  ...      max      mean median       std\nclass                                 ...                                    \nFirst   0.92  80.0  38.233441   37.0  ...        1  0.629630      1  0.484026\nSecond  0.67  70.0  29.877630   29.0  ...        1  0.472826      0  0.500623\nThird   0.42  74.0  25.140620   24.0  ...        1  0.242363      0  0.428949\n\n[3 rows x 15 columns]\n"
     ]
    }
   ],
   "source": [
    "agg_all = grouped.agg(['min','max','mean','median','std'])\n",
    "print(agg_all)"
   ]
  },
  {
   "cell_type": "code",
   "execution_count": 16,
   "metadata": {},
   "outputs": [
    {
     "output_type": "stream",
     "name": "stdout",
     "text": [
      "              age                   fare survived      \n             mean   min   max       mean      sum count\nclass                                                  \nFirst   38.233441  0.92  80.0  84.154687      136   216\nSecond  29.877630  0.67  70.0  20.662183       87   184\nThird   25.140620  0.42  74.0  13.675550      119   491\n"
     ]
    }
   ],
   "source": [
    "agg_sep = grouped.agg({'age':['mean','min','max'],\n",
    "                       'fare':'mean',\n",
    "                       'survived':['sum','count']})\n",
    "print(agg_sep)"
   ]
  },
  {
   "cell_type": "code",
   "execution_count": null,
   "metadata": {},
   "outputs": [],
   "source": []
  }
 ]
}