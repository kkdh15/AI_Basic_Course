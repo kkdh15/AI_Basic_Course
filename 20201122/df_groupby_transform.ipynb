{
 "metadata": {
  "language_info": {
   "codemirror_mode": {
    "name": "ipython",
    "version": 3
   },
   "file_extension": ".py",
   "mimetype": "text/x-python",
   "name": "python",
   "nbconvert_exporter": "python",
   "pygments_lexer": "ipython3",
   "version": "3.7.9-final"
  },
  "orig_nbformat": 2,
  "kernelspec": {
   "name": "python3",
   "display_name": "Python 3.7.9 64-bit ('python_3.7': conda)",
   "metadata": {
    "interpreter": {
     "hash": "2ef9295e5707b050a7247f8aef1527b1df91510008d346980af256f412b3227d"
    }
   }
  }
 },
 "nbformat": 4,
 "nbformat_minor": 2,
 "cells": [
  {
   "cell_type": "code",
   "execution_count": 19,
   "metadata": {},
   "outputs": [],
   "source": [
    "import seaborn as sns\n",
    "import pandas as pd\n",
    "titanic = sns.load_dataset('titanic')\n",
    "df = titanic.loc[:,['age','sex','class','fare','survived']]\n",
    "grouped = df.groupby(['class'])"
   ]
  },
  {
   "cell_type": "code",
   "execution_count": 20,
   "metadata": {},
   "outputs": [],
   "source": [
    "age_mean = grouped.age.mean()\n",
    "age_std = grouped.age.std()"
   ]
  },
  {
   "cell_type": "code",
   "execution_count": 21,
   "metadata": {},
   "outputs": [
    {
     "output_type": "stream",
     "name": "stdout",
     "text": [
      "1      38.0\n3      35.0\n6      54.0\n11     58.0\n23     28.0\n       ... \n871    47.0\n872    33.0\n879    56.0\n887    19.0\n889    26.0\nName: age, Length: 216, dtype: float64\n9      14.0\n15     55.0\n17      NaN\n20     35.0\n21     34.0\n       ... \n866    27.0\n874    28.0\n880    25.0\n883    28.0\n886    27.0\nName: age, Length: 184, dtype: float64\n0      22.0\n2      26.0\n4      35.0\n5       NaN\n7       2.0\n       ... \n882    22.0\n884    25.0\n885    39.0\n888     NaN\n890    32.0\nName: age, Length: 491, dtype: float64\n"
     ]
    }
   ],
   "source": [
    "for key, group in grouped.age:\n",
    "    print(group)"
   ]
  },
  {
   "cell_type": "code",
   "execution_count": 22,
   "metadata": {},
   "outputs": [
    {
     "output_type": "stream",
     "name": "stdout",
     "text": [
      "First\n1    -0.015770\n3    -0.218434\n6     1.065103\n11    1.335321\n23   -0.691315\nName: age, dtype: float64\nSecond\n9    -1.134029\n15    1.794317\n17         NaN\n20    0.365855\n21    0.294432\nName: age, dtype: float64\nThird\n0   -0.251342\n2    0.068776\n4    0.789041\n5         NaN\n7   -1.851931\nName: age, dtype: float64\n"
     ]
    }
   ],
   "source": [
    "#Standard Score(z-score) z = (x-mean)/standard deviation\n",
    "for key, group in grouped.age:\n",
    "    group_zscore = (group - age_mean.loc[key])/age_std.loc[key]\n",
    "    print(key)\n",
    "    print(group_zscore.head())"
   ]
  },
  {
   "cell_type": "code",
   "execution_count": 23,
   "metadata": {},
   "outputs": [],
   "source": [
    "#Standard Score(z-score) z = (x-mean)/standard \n",
    "def z_score(x):\n",
    "    return (x-x.mean()) / x.std()"
   ]
  },
  {
   "cell_type": "code",
   "execution_count": 24,
   "metadata": {},
   "outputs": [],
   "source": [
    "age_zscore = grouped.age.transform(z_score)"
   ]
  },
  {
   "cell_type": "code",
   "execution_count": 25,
   "metadata": {},
   "outputs": [
    {
     "output_type": "execute_result",
     "data": {
      "text/plain": [
       "0   -0.251342\n",
       "1   -0.015770\n",
       "2    0.068776\n",
       "3   -0.218434\n",
       "4    0.789041\n",
       "Name: age, dtype: float64"
      ]
     },
     "metadata": {},
     "execution_count": 25
    }
   ],
   "source": [
    "age_zscore.head()"
   ]
  },
  {
   "source": [
    "<h>Filter</h>"
   ],
   "cell_type": "markdown",
   "metadata": {}
  },
  {
   "cell_type": "code",
   "execution_count": 29,
   "metadata": {},
   "outputs": [
    {
     "output_type": "stream",
     "name": "stdout",
     "text": [
      "<class 'pandas.core.frame.DataFrame'>\n"
     ]
    }
   ],
   "source": [
    "group_people = grouped.filter(lambda people: len(people) >= 200)\n",
    "print(type(group_people))"
   ]
  },
  {
   "cell_type": "code",
   "execution_count": 31,
   "metadata": {},
   "outputs": [
    {
     "output_type": "stream",
     "name": "stdout",
     "text": [
      "        age  sex  fare  survived\nclass                           \nFirst   186  216   216       216\nSecond  173  184   184       184\nThird   355  491   491       491\nage         541\nsex         707\nclass       707\nfare        707\nsurvived    707\ndtype: int64\n"
     ]
    }
   ],
   "source": [
    "print(grouped.count())\n",
    "print(group_people.count())"
   ]
  },
  {
   "cell_type": "code",
   "execution_count": 32,
   "metadata": {},
   "outputs": [
    {
     "output_type": "execute_result",
     "data": {
      "text/plain": [
       "    age     sex     fare  survived\n",
       "0  22.0    male   7.2500         0\n",
       "2  26.0  female   7.9250         1\n",
       "4  35.0    male   8.0500         0\n",
       "5   NaN    male   8.4583         0\n",
       "7   2.0    male  21.0750         0"
      ],
      "text/html": "<div>\n<style scoped>\n    .dataframe tbody tr th:only-of-type {\n        vertical-align: middle;\n    }\n\n    .dataframe tbody tr th {\n        vertical-align: top;\n    }\n\n    .dataframe thead th {\n        text-align: right;\n    }\n</style>\n<table border=\"1\" class=\"dataframe\">\n  <thead>\n    <tr style=\"text-align: right;\">\n      <th></th>\n      <th>age</th>\n      <th>sex</th>\n      <th>fare</th>\n      <th>survived</th>\n    </tr>\n  </thead>\n  <tbody>\n    <tr>\n      <th>0</th>\n      <td>22.0</td>\n      <td>male</td>\n      <td>7.2500</td>\n      <td>0</td>\n    </tr>\n    <tr>\n      <th>2</th>\n      <td>26.0</td>\n      <td>female</td>\n      <td>7.9250</td>\n      <td>1</td>\n    </tr>\n    <tr>\n      <th>4</th>\n      <td>35.0</td>\n      <td>male</td>\n      <td>8.0500</td>\n      <td>0</td>\n    </tr>\n    <tr>\n      <th>5</th>\n      <td>NaN</td>\n      <td>male</td>\n      <td>8.4583</td>\n      <td>0</td>\n    </tr>\n    <tr>\n      <th>7</th>\n      <td>2.0</td>\n      <td>male</td>\n      <td>21.0750</td>\n      <td>0</td>\n    </tr>\n  </tbody>\n</table>\n</div>"
     },
     "metadata": {},
     "execution_count": 32
    }
   ],
   "source": [
    "grouped_age = grouped.filter(lambda people: people.age.mean() <30)\n",
    "grouped_age.head()"
   ]
  },
  {
   "cell_type": "code",
   "execution_count": null,
   "metadata": {},
   "outputs": [],
   "source": []
  }
 ]
}