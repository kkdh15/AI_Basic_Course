{
  "nbformat": 4,
  "nbformat_minor": 0,
  "metadata": {
    "colab": {
      "name": "Ch04_boston.ipynb",
      "provenance": [],
      "collapsed_sections": []
    },
    "kernelspec": {
      "name": "python3",
      "display_name": "Python 3"
    }
  },
  "cells": [
    {
      "cell_type": "code",
      "metadata": {
        "id": "KTGwtGtWfdA9"
      },
      "source": [
        "from tensorflow.keras.datasets import boston_housing\n",
        "(x_train, y_train), (x_test, y_test) = boston_housing.load_data()"
      ],
      "execution_count": 46,
      "outputs": []
    },
    {
      "cell_type": "markdown",
      "metadata": {
        "id": "LgrTZSe3g587"
      },
      "source": [
        "CRIM     per capita crime rate by town  \n",
        " ZN       proportion of residential land   zoned for lots over 25,000 sq.ft.\n",
        " INDUS    proportion of non-retail business acres per town  \n",
        " CHAS     Charles River dummy variable (= 1 if tract bounds river; 0 otherwise)  \n",
        " NOX      nitric oxides concentration (parts per 10 million)  \n",
        " RM       average number of rooms per dwelling  \n",
        " AGE      proportion of owner-occupied units built prior to 1940  \n",
        " DIS      weighted distances to five Boston employment centres  \n",
        " RAD      index of accessibility to radial highways  \n",
        " TAX      full-value property-tax rate per $10,000 \n",
        " PTRATIO  pupil-teacher ratio by town  \n",
        " B        1000(Bk - 0.63)^2 where Bk is the proportion of blacks by town  \n",
        " LSTAT    % lower status of the population  \n",
        " MEDV     Median value of owner-occupied homes in $1000's"
      ]
    },
    {
      "cell_type": "code",
      "metadata": {
        "colab": {
          "base_uri": "https://localhost:8080/"
        },
        "id": "WJE5brAKgOgr",
        "outputId": "3ae77ec7-b353-4a9b-d9b5-7376010e7083"
      },
      "source": [
        "print(type(x_train))\n",
        "print(x_train[0])\n",
        "print(len(x_train), len(y_train), len(x_test), len(y_test))"
      ],
      "execution_count": 47,
      "outputs": [
        {
          "output_type": "stream",
          "text": [
            "<class 'numpy.ndarray'>\n",
            "[  1.23247   0.        8.14      0.        0.538     6.142    91.7\n",
            "   3.9769    4.      307.       21.      396.9      18.72   ]\n",
            "404 404 102 102\n"
          ],
          "name": "stdout"
        }
      ]
    },
    {
      "cell_type": "code",
      "metadata": {
        "colab": {
          "base_uri": "https://localhost:8080/"
        },
        "id": "Xz8tF8nVrF-L",
        "outputId": "9fc5e76c-1410-4e8c-dade-5f9096ea66ca"
      },
      "source": [
        "#정규화를 꼭 하자\n",
        "x_mean = x_train.mean(axis=0)\n",
        "x_std = x_train.std(axis=0)\n",
        "\n",
        "x_train -= x_mean\n",
        "x_train /= x_std\n",
        "x_test -= x_mean\n",
        "x_test /= x_std\n",
        "\n",
        "y_mean = y_train.mean(axis=0)\n",
        "y_std = y_train.std(axis=0)\n",
        "\n",
        "y_train -= y_mean\n",
        "y_train /= y_std\n",
        "y_test -= y_mean\n",
        "y_test /= y_std\n",
        "\n",
        "print(x_mean)\n",
        "print(x_std)"
      ],
      "execution_count": 48,
      "outputs": [
        {
          "output_type": "stream",
          "text": [
            "[3.74511057e+00 1.14801980e+01 1.11044307e+01 6.18811881e-02\n",
            " 5.57355941e-01 6.26708168e+00 6.90106436e+01 3.74027079e+00\n",
            " 9.44059406e+00 4.05898515e+02 1.84759901e+01 3.54783168e+02\n",
            " 1.27408168e+01]\n",
            "[9.22929073e+00 2.37382770e+01 6.80287253e+00 2.40939633e-01\n",
            " 1.17147847e-01 7.08908627e-01 2.79060634e+01 2.02770050e+00\n",
            " 8.68758849e+00 1.66168506e+02 2.19765689e+00 9.39946015e+01\n",
            " 7.24556085e+00]\n"
          ],
          "name": "stdout"
        }
      ]
    },
    {
      "cell_type": "code",
      "metadata": {
        "id": "SAHxI7serIyX"
      },
      "source": [
        "import tensorflow as tf"
      ],
      "execution_count": 49,
      "outputs": []
    },
    {
      "cell_type": "code",
      "metadata": {
        "colab": {
          "base_uri": "https://localhost:8080/"
        },
        "id": "Yf96qoXArKwR",
        "outputId": "df644d23-2852-4c91-b174-a3aa805b9d83"
      },
      "source": [
        "model = tf.keras.Sequential([\n",
        "    tf.keras.layers.Dense(units = 52, activation='elu' ,input_shape=(13,)),\n",
        "    tf.keras.layers.Dense(units = 39, activation='elu'),\n",
        "    tf.keras.layers.Dense(units = 26, activation='elu'),\n",
        "    tf.keras.layers.Dense(units = 1)\n",
        "])\n",
        "\n",
        "model.compile(optimizer=tf.keras.optimizers.Adam(lr = 0.07),\n",
        "              loss='mse')\n",
        "\n",
        "model.summary()"
      ],
      "execution_count": 50,
      "outputs": [
        {
          "output_type": "stream",
          "text": [
            "Model: \"sequential_4\"\n",
            "_________________________________________________________________\n",
            "Layer (type)                 Output Shape              Param #   \n",
            "=================================================================\n",
            "dense_16 (Dense)             (None, 52)                728       \n",
            "_________________________________________________________________\n",
            "dense_17 (Dense)             (None, 39)                2067      \n",
            "_________________________________________________________________\n",
            "dense_18 (Dense)             (None, 26)                1040      \n",
            "_________________________________________________________________\n",
            "dense_19 (Dense)             (None, 1)                 27        \n",
            "=================================================================\n",
            "Total params: 3,862\n",
            "Trainable params: 3,862\n",
            "Non-trainable params: 0\n",
            "_________________________________________________________________\n"
          ],
          "name": "stdout"
        }
      ]
    },
    {
      "cell_type": "code",
      "metadata": {
        "colab": {
          "base_uri": "https://localhost:8080/"
        },
        "id": "xbcX2lIVrMZq",
        "outputId": "415722a7-6f4e-44a4-bb6e-dfe7c58bf35a"
      },
      "source": [
        "# 중간에 학습을 종료, 단 좋은 결과가 나왔을 경우에!\n",
        "callback = tf.keras.callbacks.EarlyStopping(monitor='valloss', patience=3)\n",
        "history = model.fit(x_train, y_train, epochs=50, batch_size=32,\n",
        "                    callbacks = [callback],\n",
        "                    validation_split=0.25)"
      ],
      "execution_count": 59,
      "outputs": [
        {
          "output_type": "stream",
          "text": [
            "Epoch 1/50\n",
            " 1/10 [==>...........................] - ETA: 0s - loss: 0.1083WARNING:tensorflow:Early stopping conditioned on metric `valloss` which is not available. Available metrics are: loss,val_loss\n",
            "10/10 [==============================] - 0s 5ms/step - loss: 0.0947 - val_loss: 0.2382\n",
            "Epoch 2/50\n",
            " 1/10 [==>...........................] - ETA: 0s - loss: 0.1070WARNING:tensorflow:Early stopping conditioned on metric `valloss` which is not available. Available metrics are: loss,val_loss\n",
            "10/10 [==============================] - 0s 3ms/step - loss: 0.1041 - val_loss: 0.2100\n",
            "Epoch 3/50\n",
            " 1/10 [==>...........................] - ETA: 0s - loss: 0.0920WARNING:tensorflow:Early stopping conditioned on metric `valloss` which is not available. Available metrics are: loss,val_loss\n",
            "10/10 [==============================] - 0s 3ms/step - loss: 0.1158 - val_loss: 0.2378\n",
            "Epoch 4/50\n",
            " 1/10 [==>...........................] - ETA: 0s - loss: 0.1263WARNING:tensorflow:Early stopping conditioned on metric `valloss` which is not available. Available metrics are: loss,val_loss\n",
            "10/10 [==============================] - 0s 3ms/step - loss: 0.0953 - val_loss: 0.1960\n",
            "Epoch 5/50\n",
            " 1/10 [==>...........................] - ETA: 0s - loss: 0.0382WARNING:tensorflow:Early stopping conditioned on metric `valloss` which is not available. Available metrics are: loss,val_loss\n",
            "10/10 [==============================] - 0s 3ms/step - loss: 0.0852 - val_loss: 0.2225\n",
            "Epoch 6/50\n",
            " 1/10 [==>...........................] - ETA: 0s - loss: 0.1050WARNING:tensorflow:Early stopping conditioned on metric `valloss` which is not available. Available metrics are: loss,val_loss\n",
            "10/10 [==============================] - 0s 3ms/step - loss: 0.1043 - val_loss: 0.2070\n",
            "Epoch 7/50\n",
            " 1/10 [==>...........................] - ETA: 0s - loss: 0.1487WARNING:tensorflow:Early stopping conditioned on metric `valloss` which is not available. Available metrics are: loss,val_loss\n",
            "10/10 [==============================] - 0s 3ms/step - loss: 0.1107 - val_loss: 0.2365\n",
            "Epoch 8/50\n",
            " 1/10 [==>...........................] - ETA: 0s - loss: 0.1464WARNING:tensorflow:Early stopping conditioned on metric `valloss` which is not available. Available metrics are: loss,val_loss\n",
            "10/10 [==============================] - 0s 3ms/step - loss: 0.1084 - val_loss: 0.2301\n",
            "Epoch 9/50\n",
            " 1/10 [==>...........................] - ETA: 0s - loss: 0.2372WARNING:tensorflow:Early stopping conditioned on metric `valloss` which is not available. Available metrics are: loss,val_loss\n",
            "10/10 [==============================] - 0s 4ms/step - loss: 0.1477 - val_loss: 0.2459\n",
            "Epoch 10/50\n",
            " 1/10 [==>...........................] - ETA: 0s - loss: 0.0616WARNING:tensorflow:Early stopping conditioned on metric `valloss` which is not available. Available metrics are: loss,val_loss\n",
            "10/10 [==============================] - 0s 3ms/step - loss: 0.1251 - val_loss: 0.2550\n",
            "Epoch 11/50\n",
            " 1/10 [==>...........................] - ETA: 0s - loss: 0.0668WARNING:tensorflow:Early stopping conditioned on metric `valloss` which is not available. Available metrics are: loss,val_loss\n",
            "10/10 [==============================] - 0s 3ms/step - loss: 0.1178 - val_loss: 0.3090\n",
            "Epoch 12/50\n",
            " 1/10 [==>...........................] - ETA: 0s - loss: 0.0685WARNING:tensorflow:Early stopping conditioned on metric `valloss` which is not available. Available metrics are: loss,val_loss\n",
            "10/10 [==============================] - 0s 3ms/step - loss: 0.1090 - val_loss: 0.2275\n",
            "Epoch 13/50\n",
            " 1/10 [==>...........................] - ETA: 0s - loss: 0.0385WARNING:tensorflow:Early stopping conditioned on metric `valloss` which is not available. Available metrics are: loss,val_loss\n",
            "10/10 [==============================] - 0s 3ms/step - loss: 0.0948 - val_loss: 0.2545\n",
            "Epoch 14/50\n",
            " 1/10 [==>...........................] - ETA: 0s - loss: 0.0869WARNING:tensorflow:Early stopping conditioned on metric `valloss` which is not available. Available metrics are: loss,val_loss\n",
            "10/10 [==============================] - 0s 3ms/step - loss: 0.1071 - val_loss: 0.2585\n",
            "Epoch 15/50\n",
            " 1/10 [==>...........................] - ETA: 0s - loss: 0.0584WARNING:tensorflow:Early stopping conditioned on metric `valloss` which is not available. Available metrics are: loss,val_loss\n",
            "10/10 [==============================] - 0s 3ms/step - loss: 0.0932 - val_loss: 0.2437\n",
            "Epoch 16/50\n",
            " 1/10 [==>...........................] - ETA: 0s - loss: 0.0684WARNING:tensorflow:Early stopping conditioned on metric `valloss` which is not available. Available metrics are: loss,val_loss\n",
            "10/10 [==============================] - 0s 3ms/step - loss: 0.0898 - val_loss: 0.2646\n",
            "Epoch 17/50\n",
            " 1/10 [==>...........................] - ETA: 0s - loss: 0.0962WARNING:tensorflow:Early stopping conditioned on metric `valloss` which is not available. Available metrics are: loss,val_loss\n",
            "10/10 [==============================] - 0s 3ms/step - loss: 0.0902 - val_loss: 0.2679\n",
            "Epoch 18/50\n",
            " 1/10 [==>...........................] - ETA: 0s - loss: 0.0465WARNING:tensorflow:Early stopping conditioned on metric `valloss` which is not available. Available metrics are: loss,val_loss\n",
            "10/10 [==============================] - 0s 3ms/step - loss: 0.1274 - val_loss: 0.3301\n",
            "Epoch 19/50\n",
            " 1/10 [==>...........................] - ETA: 0s - loss: 0.0739WARNING:tensorflow:Early stopping conditioned on metric `valloss` which is not available. Available metrics are: loss,val_loss\n",
            "10/10 [==============================] - 0s 3ms/step - loss: 0.0887 - val_loss: 0.2691\n",
            "Epoch 20/50\n",
            " 1/10 [==>...........................] - ETA: 0s - loss: 0.0642WARNING:tensorflow:Early stopping conditioned on metric `valloss` which is not available. Available metrics are: loss,val_loss\n",
            "10/10 [==============================] - 0s 3ms/step - loss: 0.0928 - val_loss: 0.2566\n",
            "Epoch 21/50\n",
            " 1/10 [==>...........................] - ETA: 0s - loss: 0.0602WARNING:tensorflow:Early stopping conditioned on metric `valloss` which is not available. Available metrics are: loss,val_loss\n",
            "10/10 [==============================] - 0s 4ms/step - loss: 0.0783 - val_loss: 0.2513\n",
            "Epoch 22/50\n",
            " 1/10 [==>...........................] - ETA: 0s - loss: 0.0255WARNING:tensorflow:Early stopping conditioned on metric `valloss` which is not available. Available metrics are: loss,val_loss\n",
            "10/10 [==============================] - 0s 4ms/step - loss: 0.0662 - val_loss: 0.2473\n",
            "Epoch 23/50\n",
            " 1/10 [==>...........................] - ETA: 0s - loss: 0.0992WARNING:tensorflow:Early stopping conditioned on metric `valloss` which is not available. Available metrics are: loss,val_loss\n",
            "10/10 [==============================] - 0s 4ms/step - loss: 0.1018 - val_loss: 0.3364\n",
            "Epoch 24/50\n",
            " 1/10 [==>...........................] - ETA: 0s - loss: 0.1416WARNING:tensorflow:Early stopping conditioned on metric `valloss` which is not available. Available metrics are: loss,val_loss\n",
            "10/10 [==============================] - 0s 3ms/step - loss: 0.0979 - val_loss: 0.2585\n",
            "Epoch 25/50\n",
            " 1/10 [==>...........................] - ETA: 0s - loss: 0.0422WARNING:tensorflow:Early stopping conditioned on metric `valloss` which is not available. Available metrics are: loss,val_loss\n",
            "10/10 [==============================] - 0s 3ms/step - loss: 0.0899 - val_loss: 0.2601\n",
            "Epoch 26/50\n",
            " 1/10 [==>...........................] - ETA: 0s - loss: 0.0922WARNING:tensorflow:Early stopping conditioned on metric `valloss` which is not available. Available metrics are: loss,val_loss\n",
            "10/10 [==============================] - 0s 3ms/step - loss: 0.0756 - val_loss: 0.2470\n",
            "Epoch 27/50\n",
            " 1/10 [==>...........................] - ETA: 0s - loss: 0.0354WARNING:tensorflow:Early stopping conditioned on metric `valloss` which is not available. Available metrics are: loss,val_loss\n",
            "10/10 [==============================] - 0s 3ms/step - loss: 0.0713 - val_loss: 0.2576\n",
            "Epoch 28/50\n",
            " 1/10 [==>...........................] - ETA: 0s - loss: 0.0683WARNING:tensorflow:Early stopping conditioned on metric `valloss` which is not available. Available metrics are: loss,val_loss\n",
            "10/10 [==============================] - 0s 3ms/step - loss: 0.0689 - val_loss: 0.1984\n",
            "Epoch 29/50\n",
            " 1/10 [==>...........................] - ETA: 0s - loss: 0.0662WARNING:tensorflow:Early stopping conditioned on metric `valloss` which is not available. Available metrics are: loss,val_loss\n",
            "10/10 [==============================] - 0s 3ms/step - loss: 0.0725 - val_loss: 0.2708\n",
            "Epoch 30/50\n",
            " 1/10 [==>...........................] - ETA: 0s - loss: 0.0878WARNING:tensorflow:Early stopping conditioned on metric `valloss` which is not available. Available metrics are: loss,val_loss\n",
            "10/10 [==============================] - 0s 3ms/step - loss: 0.0765 - val_loss: 0.2567\n",
            "Epoch 31/50\n",
            " 1/10 [==>...........................] - ETA: 0s - loss: 0.0747WARNING:tensorflow:Early stopping conditioned on metric `valloss` which is not available. Available metrics are: loss,val_loss\n",
            "10/10 [==============================] - 0s 3ms/step - loss: 0.0755 - val_loss: 0.2503\n",
            "Epoch 32/50\n",
            " 1/10 [==>...........................] - ETA: 0s - loss: 0.1047WARNING:tensorflow:Early stopping conditioned on metric `valloss` which is not available. Available metrics are: loss,val_loss\n",
            "10/10 [==============================] - 0s 3ms/step - loss: 0.0723 - val_loss: 0.2349\n",
            "Epoch 33/50\n",
            " 1/10 [==>...........................] - ETA: 0s - loss: 0.0449WARNING:tensorflow:Early stopping conditioned on metric `valloss` which is not available. Available metrics are: loss,val_loss\n",
            "10/10 [==============================] - 0s 3ms/step - loss: 0.0619 - val_loss: 0.2068\n",
            "Epoch 34/50\n",
            " 1/10 [==>...........................] - ETA: 0s - loss: 0.0541WARNING:tensorflow:Early stopping conditioned on metric `valloss` which is not available. Available metrics are: loss,val_loss\n",
            "10/10 [==============================] - 0s 4ms/step - loss: 0.0615 - val_loss: 0.2834\n",
            "Epoch 35/50\n",
            " 1/10 [==>...........................] - ETA: 0s - loss: 0.0527WARNING:tensorflow:Early stopping conditioned on metric `valloss` which is not available. Available metrics are: loss,val_loss\n",
            "10/10 [==============================] - 0s 3ms/step - loss: 0.0639 - val_loss: 0.2694\n",
            "Epoch 36/50\n",
            " 1/10 [==>...........................] - ETA: 0s - loss: 0.0419WARNING:tensorflow:Early stopping conditioned on metric `valloss` which is not available. Available metrics are: loss,val_loss\n",
            "10/10 [==============================] - 0s 3ms/step - loss: 0.0623 - val_loss: 0.2922\n",
            "Epoch 37/50\n",
            " 1/10 [==>...........................] - ETA: 0s - loss: 0.0847WARNING:tensorflow:Early stopping conditioned on metric `valloss` which is not available. Available metrics are: loss,val_loss\n",
            "10/10 [==============================] - 0s 3ms/step - loss: 0.0682 - val_loss: 0.2221\n",
            "Epoch 38/50\n",
            " 1/10 [==>...........................] - ETA: 0s - loss: 0.0699WARNING:tensorflow:Early stopping conditioned on metric `valloss` which is not available. Available metrics are: loss,val_loss\n",
            "10/10 [==============================] - 0s 3ms/step - loss: 0.0637 - val_loss: 0.3000\n",
            "Epoch 39/50\n",
            " 1/10 [==>...........................] - ETA: 0s - loss: 0.0323WARNING:tensorflow:Early stopping conditioned on metric `valloss` which is not available. Available metrics are: loss,val_loss\n",
            "10/10 [==============================] - 0s 3ms/step - loss: 0.0690 - val_loss: 0.2162\n",
            "Epoch 40/50\n",
            " 1/10 [==>...........................] - ETA: 0s - loss: 0.0504WARNING:tensorflow:Early stopping conditioned on metric `valloss` which is not available. Available metrics are: loss,val_loss\n",
            "10/10 [==============================] - 0s 3ms/step - loss: 0.0786 - val_loss: 0.2246\n",
            "Epoch 41/50\n",
            " 1/10 [==>...........................] - ETA: 0s - loss: 0.0545WARNING:tensorflow:Early stopping conditioned on metric `valloss` which is not available. Available metrics are: loss,val_loss\n",
            "10/10 [==============================] - 0s 3ms/step - loss: 0.0693 - val_loss: 0.2335\n",
            "Epoch 42/50\n",
            " 1/10 [==>...........................] - ETA: 0s - loss: 0.0987WARNING:tensorflow:Early stopping conditioned on metric `valloss` which is not available. Available metrics are: loss,val_loss\n",
            "10/10 [==============================] - 0s 3ms/step - loss: 0.0717 - val_loss: 0.4204\n",
            "Epoch 43/50\n",
            " 1/10 [==>...........................] - ETA: 0s - loss: 0.1257WARNING:tensorflow:Early stopping conditioned on metric `valloss` which is not available. Available metrics are: loss,val_loss\n",
            "10/10 [==============================] - 0s 3ms/step - loss: 0.0937 - val_loss: 0.2626\n",
            "Epoch 44/50\n",
            " 1/10 [==>...........................] - ETA: 0s - loss: 0.1172WARNING:tensorflow:Early stopping conditioned on metric `valloss` which is not available. Available metrics are: loss,val_loss\n",
            "10/10 [==============================] - 0s 3ms/step - loss: 0.1190 - val_loss: 0.2733\n",
            "Epoch 45/50\n",
            " 1/10 [==>...........................] - ETA: 0s - loss: 0.1778WARNING:tensorflow:Early stopping conditioned on metric `valloss` which is not available. Available metrics are: loss,val_loss\n",
            "10/10 [==============================] - 0s 4ms/step - loss: 0.1346 - val_loss: 0.2274\n",
            "Epoch 46/50\n",
            " 1/10 [==>...........................] - ETA: 0s - loss: 0.0827WARNING:tensorflow:Early stopping conditioned on metric `valloss` which is not available. Available metrics are: loss,val_loss\n",
            "10/10 [==============================] - 0s 4ms/step - loss: 0.0949 - val_loss: 0.2445\n",
            "Epoch 47/50\n",
            " 1/10 [==>...........................] - ETA: 0s - loss: 0.0721WARNING:tensorflow:Early stopping conditioned on metric `valloss` which is not available. Available metrics are: loss,val_loss\n",
            "10/10 [==============================] - 0s 3ms/step - loss: 0.0792 - val_loss: 0.2245\n",
            "Epoch 48/50\n",
            " 1/10 [==>...........................] - ETA: 0s - loss: 0.0356WARNING:tensorflow:Early stopping conditioned on metric `valloss` which is not available. Available metrics are: loss,val_loss\n",
            "10/10 [==============================] - 0s 4ms/step - loss: 0.0625 - val_loss: 0.2306\n",
            "Epoch 49/50\n",
            " 1/10 [==>...........................] - ETA: 0s - loss: 0.0579WARNING:tensorflow:Early stopping conditioned on metric `valloss` which is not available. Available metrics are: loss,val_loss\n",
            "10/10 [==============================] - 0s 4ms/step - loss: 0.0623 - val_loss: 0.2084\n",
            "Epoch 50/50\n",
            " 1/10 [==>...........................] - ETA: 0s - loss: 0.0665WARNING:tensorflow:Early stopping conditioned on metric `valloss` which is not available. Available metrics are: loss,val_loss\n",
            "10/10 [==============================] - 0s 3ms/step - loss: 0.0726 - val_loss: 0.2121\n"
          ],
          "name": "stdout"
        }
      ]
    },
    {
      "cell_type": "code",
      "metadata": {
        "colab": {
          "base_uri": "https://localhost:8080/",
          "height": 388
        },
        "id": "TJNVPVQLmJJv",
        "outputId": "10d6acdf-e2c8-4288-8d5b-d9f81ca9fab0"
      },
      "source": [
        "import matplotlib.pyplot as plt\n",
        "plt.figure(figsize=(6,6))\n",
        "plt.plot(history.history['loss'], 'g-', label = 'loss')\n",
        "plt.plot(history.history['val_loss'], 'b--', label = 'val_loss')\n",
        "plt.xlabel('Epoch')\n",
        "plt.show()"
      ],
      "execution_count": 52,
      "outputs": [
        {
          "output_type": "display_data",
          "data": {
            "image/png": "[encoded data removed]",
            "text/plain": [
              "<Figure size 432x432 with 1 Axes>"
            ]
          },
          "metadata": {
            "tags": [],
            "needs_background": "light"
          }
        }
      ]
    },
    {
      "cell_type": "code",
      "metadata": {
        "colab": {
          "base_uri": "https://localhost:8080/"
        },
        "id": "TGrhRP__rRlI",
        "outputId": "adb22a18-9973-45e6-a091-19a7bbb4f6f8"
      },
      "source": [
        "model.evaluate(x_test, y_test)"
      ],
      "execution_count": 53,
      "outputs": [
        {
          "output_type": "stream",
          "text": [
            "4/4 [==============================] - 0s 1ms/step - loss: 0.4143\n"
          ],
          "name": "stdout"
        },
        {
          "output_type": "execute_result",
          "data": {
            "text/plain": [
              "0.41426536440849304"
            ]
          },
          "metadata": {
            "tags": []
          },
          "execution_count": 53
        }
      ]
    },
    {
      "cell_type": "code",
      "metadata": {
        "colab": {
          "base_uri": "https://localhost:8080/",
          "height": 378
        },
        "id": "gm3VG2VIrTMe",
        "outputId": "01a845fe-3bcd-4879-b7b3-162ba8bf4fe5"
      },
      "source": [
        "y_hat = model.predict(x_test)\n",
        "plt.figure(figsize=(6,6))\n",
        "plt.plot(y_test, y_hat, 'b.')\n",
        "plt.axis([min(y_test), max(y_test),min(y_test),max(y_test)])\n",
        "plt.plot([min(y_test), max(y_test)],[min(y_test),max(y_test)],'--')\n",
        "plt.show()"
      ],
      "execution_count": 54,
      "outputs": [
        {
          "output_type": "display_data",
          "data": {
            "image/png": "[encoded data removed]",
            "text/plain": [
              "<Figure size 432x432 with 1 Axes>"
            ]
          },
          "metadata": {
            "tags": [],
            "needs_background": "light"
          }
        }
      ]
    },
    {
      "cell_type": "markdown",
      "metadata": {
        "id": "JpwniF2oyzb8"
      },
      "source": [
        "# 활성함수 비교\n",
        "sigmoid\n",
        "tanh\n",
        "relu"
      ]
    },
    {
      "cell_type": "code",
      "metadata": {
        "colab": {
          "base_uri": "https://localhost:8080/"
        },
        "id": "RkBEjOOizCTL",
        "outputId": "8862dd09-ad4e-4738-8d2e-915351263929"
      },
      "source": [
        "import numpy as np\n",
        "import math\n",
        "\n",
        "def sigmoid(x):\n",
        "  return 1 / (1+math.exp(-x))\n",
        "\n",
        "x = np.arange(-5, 5, 0.01)\n",
        "\n",
        "sigmoid = [sigmoid(z) for z in x]\n",
        "relu = [ 0 if z < 0 else z for z in x]\n",
        "print(relu)"
      ],
      "execution_count": 55,
      "outputs": [
        {
          "output_type": "stream",
          "text": [
            "[0, 0, 0, 0, 0, 0, 0, 0, 0, 0, 0, 0, 0, 0, 0, 0, 0, 0, 0, 0, 0, 0, 0, 0, 0, 0, 0, 0, 0, 0, 0, 0, 0, 0, 0, 0, 0, 0, 0, 0, 0, 0, 0, 0, 0, 0, 0, 0, 0, 0, 0, 0, 0, 0, 0, 0, 0, 0, 0, 0, 0, 0, 0, 0, 0, 0, 0, 0, 0, 0, 0, 0, 0, 0, 0, 0, 0, 0, 0, 0, 0, 0, 0, 0, 0, 0, 0, 0, 0, 0, 0, 0, 0, 0, 0, 0, 0, 0, 0, 0, 0, 0, 0, 0, 0, 0, 0, 0, 0, 0, 0, 0, 0, 0, 0, 0, 0, 0, 0, 0, 0, 0, 0, 0, 0, 0, 0, 0, 0, 0, 0, 0, 0, 0, 0, 0, 0, 0, 0, 0, 0, 0, 0, 0, 0, 0, 0, 0, 0, 0, 0, 0, 0, 0, 0, 0, 0, 0, 0, 0, 0, 0, 0, 0, 0, 0, 0, 0, 0, 0, 0, 0, 0, 0, 0, 0, 0, 0, 0, 0, 0, 0, 0, 0, 0, 0, 0, 0, 0, 0, 0, 0, 0, 0, 0, 0, 0, 0, 0, 0, 0, 0, 0, 0, 0, 0, 0, 0, 0, 0, 0, 0, 0, 0, 0, 0, 0, 0, 0, 0, 0, 0, 0, 0, 0, 0, 0, 0, 0, 0, 0, 0, 0, 0, 0, 0, 0, 0, 0, 0, 0, 0, 0, 0, 0, 0, 0, 0, 0, 0, 0, 0, 0, 0, 0, 0, 0, 0, 0, 0, 0, 0, 0, 0, 0, 0, 0, 0, 0, 0, 0, 0, 0, 0, 0, 0, 0, 0, 0, 0, 0, 0, 0, 0, 0, 0, 0, 0, 0, 0, 0, 0, 0, 0, 0, 0, 0, 0, 0, 0, 0, 0, 0, 0, 0, 0, 0, 0, 0, 0, 0, 0, 0, 0, 0, 0, 0, 0, 0, 0, 0, 0, 0, 0, 0, 0, 0, 0, 0, 0, 0, 0, 0, 0, 0, 0, 0, 0, 0, 0, 0, 0, 0, 0, 0, 0, 0, 0, 0, 0, 0, 0, 0, 0, 0, 0, 0, 0, 0, 0, 0, 0, 0, 0, 0, 0, 0, 0, 0, 0, 0, 0, 0, 0, 0, 0, 0, 0, 0, 0, 0, 0, 0, 0, 0, 0, 0, 0, 0, 0, 0, 0, 0, 0, 0, 0, 0, 0, 0, 0, 0, 0, 0, 0, 0, 0, 0, 0, 0, 0, 0, 0, 0, 0, 0, 0, 0, 0, 0, 0, 0, 0, 0, 0, 0, 0, 0, 0, 0, 0, 0, 0, 0, 0, 0, 0, 0, 0, 0, 0, 0, 0, 0, 0, 0, 0, 0, 0, 0, 0, 0, 0, 0, 0, 0, 0, 0, 0, 0, 0, 0, 0, 0, 0, 0, 0, 0, 0, 0, 0, 0, 0, 0, 0, 0, 0, 0, 0, 0, 0, 0, 0, 0, 0, 0, 0, 0, 0, 0, 0, 0, 0, 0, 0, 0, 0, 0, 0, 0, 0, 0, 0.009999999999893205, 0.019999999999892992, 0.02999999999989278, 0.039999999999892566, 0.04999999999989235, 0.05999999999989214, 0.06999999999989193, 0.07999999999989171, 0.0899999999998915, 0.09999999999989129, 0.10999999999989107, 0.11999999999989086, 0.12999999999989065, 0.13999999999989043, 0.14999999999989022, 0.15999999999989, 0.1699999999998898, 0.17999999999988958, 0.18999999999988937, 0.19999999999988916, 0.20999999999988894, 0.21999999999988873, 0.22999999999988852, 0.2399999999998883, 0.2499999999998881, 0.2599999999998879, 0.26999999999988766, 0.27999999999988745, 0.28999999999988724, 0.299999999999887, 0.3099999999998868, 0.3199999999998866, 0.3299999999998864, 0.33999999999988617, 0.34999999999988596, 0.35999999999988574, 0.36999999999988553, 0.3799999999998853, 0.3899999999998851, 0.3999999999998849, 0.4099999999998847, 0.41999999999988447, 0.42999999999988425, 0.43999999999988404, 0.4499999999998838, 0.4599999999998836, 0.4699999999998834, 0.4799999999998832, 0.489999999999883, 0.49999999999988276, 0.5099999999998825, 0.5199999999998823, 0.5299999999998821, 0.5399999999998819, 0.5499999999998817, 0.5599999999998815, 0.5699999999998813, 0.579999999999881, 0.5899999999998808, 0.5999999999998806, 0.6099999999998804, 0.6199999999998802, 0.62999999999988, 0.6399999999998798, 0.6499999999998796, 0.6599999999998793, 0.6699999999998791, 0.6799999999998789, 0.6899999999998787, 0.6999999999998785, 0.7099999999998783, 0.7199999999998781, 0.7299999999998779, 0.7399999999998776, 0.7499999999998774, 0.7599999999998772, 0.769999999999877, 0.7799999999998768, 0.7899999999998766, 0.7999999999998764, 0.8099999999998762, 0.8199999999998759, 0.8299999999998757, 0.8399999999998755, 0.8499999999998753, 0.8599999999998751, 0.8699999999998749, 0.8799999999998747, 0.8899999999998744, 0.8999999999998742, 0.909999999999874, 0.9199999999998738, 0.9299999999998736, 0.9399999999998734, 0.9499999999998732, 0.959999999999873, 0.9699999999998727, 0.9799999999998725, 0.9899999999998723, 0.9999999999998721, 1.009999999999872, 1.0199999999998717, 1.0299999999998715, 1.0399999999998712, 1.049999999999871, 1.0599999999998708, 1.0699999999998706, 1.0799999999998704, 1.0899999999998702, 1.09999999999987, 1.1099999999998698, 1.1199999999998695, 1.1299999999998693, 1.1399999999998691, 1.149999999999869, 1.1599999999998687, 1.1699999999998685, 1.1799999999998683, 1.189999999999868, 1.1999999999998678, 1.2099999999998676, 1.2199999999998674, 1.2299999999998672, 1.239999999999867, 1.2499999999998668, 1.2599999999998666, 1.2699999999998663, 1.2799999999998661, 1.289999999999866, 1.2999999999998657, 1.3099999999998655, 1.3199999999998653, 1.329999999999865, 1.3399999999998649, 1.3499999999998646, 1.3599999999998644, 1.3699999999998642, 1.379999999999864, 1.3899999999998638, 1.3999999999998636, 1.4099999999998634, 1.4199999999998631, 1.429999999999863, 1.4399999999998627, 1.4499999999998625, 1.4599999999998623, 1.469999999999862, 1.4799999999998619, 1.4899999999998617, 1.4999999999998614, 1.5099999999998612, 1.519999999999861, 1.5299999999998608, 1.5399999999998606, 1.5499999999998604, 1.5599999999998602, 1.56999999999986, 1.5799999999998597, 1.5899999999998595, 1.5999999999998593, 1.609999999999859, 1.6199999999998589, 1.6299999999998587, 1.6399999999998585, 1.6499999999998582, 1.659999999999858, 1.6699999999998578, 1.6799999999998576, 1.6899999999998574, 1.6999999999998572, 1.709999999999857, 1.7199999999998568, 1.7299999999998565, 1.7399999999998563, 1.7499999999998561, 1.759999999999856, 1.7699999999998557, 1.7799999999998555, 1.7899999999998553, 1.799999999999855, 1.8099999999998548, 1.8199999999998546, 1.8299999999998544, 1.8399999999998542, 1.849999999999854, 1.8599999999998538, 1.8699999999998536, 1.8799999999998533, 1.8899999999998531, 1.899999999999853, 1.9099999999998527, 1.9199999999998525, 1.9299999999998523, 1.939999999999852, 1.9499999999998519, 1.9599999999998516, 1.9699999999998514, 1.9799999999998512, 1.989999999999851, 1.9999999999998508, 2.0099999999998506, 2.0199999999998504, 2.02999999999985, 2.03999999999985, 2.0499999999998497, 2.0599999999998495, 2.0699999999998493, 2.079999999999849, 2.089999999999849, 2.0999999999998487, 2.1099999999998484, 2.1199999999998482, 2.129999999999848, 2.139999999999848, 2.1499999999998476, 2.1599999999998474, 2.169999999999847, 2.179999999999847, 2.1899999999998467, 2.1999999999998465, 2.2099999999998463, 2.219999999999846, 2.229999999999846, 2.2399999999998457, 2.2499999999998455, 2.2599999999998452, 2.269999999999845, 2.279999999999845, 2.2899999999998446, 2.2999999999998444, 2.309999999999844, 2.319999999999844, 2.3299999999998438, 2.3399999999998435, 2.3499999999998433, 2.359999999999843, 2.369999999999843, 2.3799999999998427, 2.3899999999998425, 2.3999999999998423, 2.409999999999842, 2.419999999999842, 2.4299999999998416, 2.4399999999998414, 2.449999999999841, 2.459999999999841, 2.4699999999998408, 2.4799999999998406, 2.4899999999998403, 2.49999999999984, 2.50999999999984, 2.5199999999998397, 2.5299999999998395, 2.5399999999998393, 2.549999999999839, 2.559999999999839, 2.5699999999998386, 2.5799999999998384, 2.589999999999838, 2.599999999999838, 2.609999999999838, 2.6199999999998376, 2.6299999999998374, 2.639999999999837, 2.649999999999837, 2.6599999999998367, 2.6699999999998365, 2.6799999999998363, 2.689999999999836, 2.699999999999836, 2.7099999999998357, 2.7199999999998354, 2.7299999999998352, 2.739999999999835, 2.749999999999835, 2.7599999999998346, 2.7699999999998344, 2.779999999999834, 2.789999999999834, 2.7999999999998337, 2.8099999999998335, 2.8199999999998333, 2.829999999999833, 2.839999999999833, 2.8499999999998327, 2.8599999999998325, 2.8699999999998322, 2.879999999999832, 2.889999999999832, 2.8999999999998316, 2.9099999999998314, 2.919999999999831, 2.929999999999831, 2.9399999999998307, 2.9499999999998305, 2.9599999999998303, 2.96999999999983, 2.97999999999983, 2.9899999999998297, 2.9999999999998295, 3.0099999999998293, 3.019999999999829, 3.029999999999829, 3.0399999999998286, 3.0499999999998284, 3.059999999999828, 3.069999999999828, 3.0799999999998278, 3.0899999999998276, 3.0999999999998273, 3.109999999999827, 3.119999999999827, 3.1299999999998267, 3.1399999999998265, 3.1499999999998263, 3.159999999999826, 3.169999999999826, 3.1799999999998256, 3.1899999999998254, 3.199999999999825, 3.209999999999825, 3.219999999999825, 3.2299999999998246, 3.2399999999998244, 3.249999999999824, 3.259999999999824, 3.2699999999998237, 3.2799999999998235, 3.2899999999998233, 3.299999999999823, 3.309999999999823, 3.3199999999998226, 3.3299999999998224, 3.3399999999998222, 3.349999999999822, 3.359999999999822, 3.3699999999998216, 3.3799999999998214, 3.389999999999821, 3.399999999999821, 3.4099999999998207, 3.4199999999998205, 3.4299999999998203, 3.43999999999982, 3.44999999999982, 3.4599999999998197, 3.4699999999998195, 3.4799999999998192, 3.489999999999819, 3.499999999999819, 3.5099999999998186, 3.5199999999998184, 3.529999999999818, 3.539999999999818, 3.5499999999998177, 3.5599999999998175, 3.5699999999998173, 3.579999999999817, 3.589999999999817, 3.5999999999998167, 3.6099999999998165, 3.6199999999998163, 3.629999999999816, 3.639999999999816, 3.6499999999998156, 3.6599999999998154, 3.669999999999815, 3.679999999999815, 3.6899999999998148, 3.6999999999998145, 3.7099999999998143, 3.719999999999814, 3.729999999999814, 3.7399999999998137, 3.7499999999998135, 3.7599999999998133, 3.769999999999813, 3.779999999999813, 3.7899999999998126, 3.7999999999998124, 3.809999999999812, 3.819999999999812, 3.8299999999998118, 3.8399999999998116, 3.8499999999998114, 3.859999999999811, 3.869999999999811, 3.8799999999998107, 3.8899999999998105, 3.8999999999998103, 3.90999999999981, 3.91999999999981, 3.9299999999998096, 3.9399999999998094, 3.949999999999809, 3.959999999999809, 3.969999999999809, 3.9799999999998086, 3.9899999999998084, 3.999999999999808, 4.009999999999808, 4.019999999999808, 4.0299999999998075, 4.039999999999807, 4.049999999999807, 4.059999999999807, 4.069999999999807, 4.0799999999998064, 4.089999999999806, 4.099999999999806, 4.109999999999806, 4.119999999999806, 4.129999999999805, 4.139999999999805, 4.149999999999805, 4.159999999999805, 4.1699999999998045, 4.179999999999804, 4.189999999999804, 4.199999999999804, 4.209999999999804, 4.2199999999998035, 4.229999999999803, 4.239999999999803, 4.249999999999803, 4.259999999999803, 4.269999999999802, 4.279999999999802, 4.289999999999802, 4.299999999999802, 4.3099999999998015, 4.319999999999801, 4.329999999999801, 4.339999999999801, 4.349999999999801, 4.3599999999998005, 4.3699999999998, 4.3799999999998, 4.3899999999998, 4.3999999999998, 4.409999999999799, 4.419999999999799, 4.429999999999799, 4.439999999999799, 4.449999999999799, 4.459999999999798, 4.469999999999798, 4.479999999999798, 4.489999999999798, 4.4999999999997975, 4.509999999999797, 4.519999999999797, 4.529999999999797, 4.539999999999797, 4.549999999999796, 4.559999999999796, 4.569999999999796, 4.579999999999796, 4.589999999999796, 4.599999999999795, 4.609999999999795, 4.619999999999795, 4.629999999999795, 4.6399999999997945, 4.649999999999794, 4.659999999999794, 4.669999999999794, 4.679999999999794, 4.6899999999997934, 4.699999999999793, 4.709999999999793, 4.719999999999793, 4.729999999999793, 4.739999999999792, 4.749999999999792, 4.759999999999792, 4.769999999999792, 4.7799999999997915, 4.789999999999791, 4.799999999999791, 4.809999999999791, 4.819999999999791, 4.8299999999997905, 4.83999999999979, 4.84999999999979, 4.85999999999979, 4.86999999999979, 4.879999999999789, 4.889999999999789, 4.899999999999789, 4.909999999999789, 4.9199999999997885, 4.929999999999788, 4.939999999999788, 4.949999999999788, 4.959999999999788, 4.9699999999997875, 4.979999999999787, 4.989999999999787]\n"
          ],
          "name": "stdout"
        }
      ]
    },
    {
      "cell_type": "code",
      "metadata": {
        "colab": {
          "base_uri": "https://localhost:8080/",
          "height": 265
        },
        "id": "7fiySoI4zkEp",
        "outputId": "4b2efd8e-2875-4c25-ea84-fdcbc1c0d03e"
      },
      "source": [
        "plt.axhline(0, color='gray')\n",
        "plt.axvline(0, color='gray')\n",
        "plt.plot(x, relu, 'r', label = 'relu')\n",
        "plt.plot(x, sigmoid, 'b', label = 'sigmoid')\n",
        "plt.show()"
      ],
      "execution_count": 56,
      "outputs": [
        {
          "output_type": "display_data",
          "data": {
            "image/png": "[encoded data removed]",
            "text/plain": [
              "<Figure size 432x288 with 1 Axes>"
            ]
          },
          "metadata": {
            "tags": [],
            "needs_background": "light"
          }
        }
      ]
    },
    {
      "cell_type": "code",
      "metadata": {
        "id": "m98pEhhHzx9w"
      },
      "source": [
        ""
      ],
      "execution_count": 56,
      "outputs": []
    }
  ]
}