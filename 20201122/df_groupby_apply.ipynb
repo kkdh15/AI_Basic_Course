{
 "metadata": {
  "language_info": {
   "codemirror_mode": {
    "name": "ipython",
    "version": 3
   },
   "file_extension": ".py",
   "mimetype": "text/x-python",
   "name": "python",
   "nbconvert_exporter": "python",
   "pygments_lexer": "ipython3",
   "version": "3.7.9-final"
  },
  "orig_nbformat": 2,
  "kernelspec": {
   "name": "python3",
   "display_name": "Python 3.7.9 64-bit ('python_3.7': conda)",
   "metadata": {
    "interpreter": {
     "hash": "2ef9295e5707b050a7247f8aef1527b1df91510008d346980af256f412b3227d"
    }
   }
  }
 },
 "nbformat": 4,
 "nbformat_minor": 2,
 "cells": [
  {
   "cell_type": "code",
   "execution_count": 2,
   "metadata": {},
   "outputs": [],
   "source": [
    "import seaborn as sns\n",
    "import pandas as pd\n",
    "titanic = sns.load_dataset('titanic')\n",
    "df = titanic.loc[:,['age','sex','class','fare','survived']]\n",
    "grouped = df.groupby(['class'])"
   ]
  },
  {
   "cell_type": "code",
   "execution_count": 7,
   "metadata": {},
   "outputs": [],
   "source": [
    "labels = ['0~9','10~19','20~29','30~39','40~49','50~59','60~69','70~80']\n",
    "bin_number = [0,9.9,19.9,29.9,39.9,49.9,59.9,69.9,80]\n",
    "df['age_period'] = pd.cut(x=df['age'],bins=bin_number,labels=labels)\n",
    "grouped_age_period = df.groupby(['age_period'])"
   ]
  },
  {
   "cell_type": "code",
   "execution_count": 9,
   "metadata": {},
   "outputs": [
    {
     "output_type": "stream",
     "name": "stdout",
     "text": [
      "                  age       fare  survived\nage_period                                \n0~9          4.083387  30.576679  0.612903\n10~19       16.779412  32.535132  0.401961\n20~29       24.534091  27.278937  0.350000\n30~39       33.910180  40.377294  0.437126\n40~49       44.067416  38.002297  0.382022\n50~59       53.447917  47.933333  0.416667\n60~69       62.421053  48.367542  0.315789\n70~80       72.357143  30.169057  0.142857\n"
     ]
    }
   ],
   "source": [
    "apply_grouped_age_period = grouped_age_period.apply(lambda x: x.mean())\n",
    "print(apply_grouped_age_period.head(50))"
   ]
  },
  {
   "cell_type": "code",
   "execution_count": 10,
   "metadata": {},
   "outputs": [],
   "source": [
    "def z_score(x):\n",
    "    return (x-x.mean()) / x.std()"
   ]
  },
  {
   "cell_type": "code",
   "execution_count": 12,
   "metadata": {},
   "outputs": [
    {
     "output_type": "stream",
     "name": "stdout",
     "text": [
      "0   -0.251342\n1   -0.015770\n2    0.068776\n3   -0.218434\n4    0.789041\n5         NaN\n6    1.065103\n7   -1.851931\n8    0.148805\n9   -1.134029\nName: age, dtype: float64\n"
     ]
    }
   ],
   "source": [
    "age_zscore = grouped.age.apply(z_score)\n",
    "print(age_zscore.head(10))"
   ]
  },
  {
   "cell_type": "code",
   "execution_count": 15,
   "metadata": {},
   "outputs": [],
   "source": [
    "age_filter = grouped.apply(lambda x : x.age.mean() > 30)"
   ]
  },
  {
   "cell_type": "code",
   "execution_count": 16,
   "metadata": {},
   "outputs": [
    {
     "output_type": "stream",
     "name": "stdout",
     "text": [
      "class\nFirst      True\nSecond    False\nThird     False\ndtype: bool\n"
     ]
    }
   ],
   "source": [
    "print(age_filter)"
   ]
  },
  {
   "cell_type": "code",
   "execution_count": 18,
   "metadata": {},
   "outputs": [
    {
     "output_type": "stream",
     "name": "stdout",
     "text": [
      "CategoricalIndex(['First', 'Second', 'Third'], categories=['First', 'Second', 'Third'], ordered=False, name='class', dtype='category')\nTrue\n"
     ]
    }
   ],
   "source": [
    "print(age_filter.index)\n",
    "print(age_filter['First'])"
   ]
  },
  {
   "cell_type": "code",
   "execution_count": 21,
   "metadata": {},
   "outputs": [
    {
     "output_type": "stream",
     "name": "stdout",
     "text": [
      "     age     sex     fare  survived\n1   38.0  female  71.2833         1\n3   35.0  female  53.1000         1\n6   54.0    male  51.8625         0\n11  58.0  female  26.5500         1\n23  28.0    male  35.5000         1\n"
     ]
    }
   ],
   "source": [
    "# Print First category\n",
    "for x in age_filter.index:\n",
    "    if age_filter[x] == True:\n",
    "        df_age_filter = grouped.get_group(x)\n",
    "        print(df_age_filter.head())"
   ]
  },
  {
   "cell_type": "code",
   "execution_count": 22,
   "metadata": {},
   "outputs": [
    {
     "output_type": "execute_result",
     "data": {
      "text/plain": [
       "     age     sex   class     fare  survived age_period\n",
       "0   22.0    male   Third   7.2500         0      20~29\n",
       "1   38.0  female   First  71.2833         1      30~39\n",
       "2   26.0  female   Third   7.9250         1      20~29\n",
       "3   35.0  female   First  53.1000         1      30~39\n",
       "4   35.0    male   Third   8.0500         0      30~39\n",
       "5    NaN    male   Third   8.4583         0        NaN\n",
       "6   54.0    male   First  51.8625         0      50~59\n",
       "7    2.0    male   Third  21.0750         0        0~9\n",
       "9   14.0  female  Second  30.0708         1      10~19\n",
       "11  58.0  female   First  26.5500         1      50~59\n",
       "15  55.0  female  Second  16.0000         1      50~59\n",
       "17   NaN    male  Second  13.0000         1        NaN\n",
       "20  35.0    male  Second  26.0000         0      30~39\n",
       "21  34.0    male  Second  13.0000         1      30~39\n",
       "23  28.0    male   First  35.5000         1      20~29"
      ],
      "text/html": "<div>\n<style scoped>\n    .dataframe tbody tr th:only-of-type {\n        vertical-align: middle;\n    }\n\n    .dataframe tbody tr th {\n        vertical-align: top;\n    }\n\n    .dataframe thead th {\n        text-align: right;\n    }\n</style>\n<table border=\"1\" class=\"dataframe\">\n  <thead>\n    <tr style=\"text-align: right;\">\n      <th></th>\n      <th>age</th>\n      <th>sex</th>\n      <th>class</th>\n      <th>fare</th>\n      <th>survived</th>\n      <th>age_period</th>\n    </tr>\n  </thead>\n  <tbody>\n    <tr>\n      <th>0</th>\n      <td>22.0</td>\n      <td>male</td>\n      <td>Third</td>\n      <td>7.2500</td>\n      <td>0</td>\n      <td>20~29</td>\n    </tr>\n    <tr>\n      <th>1</th>\n      <td>38.0</td>\n      <td>female</td>\n      <td>First</td>\n      <td>71.2833</td>\n      <td>1</td>\n      <td>30~39</td>\n    </tr>\n    <tr>\n      <th>2</th>\n      <td>26.0</td>\n      <td>female</td>\n      <td>Third</td>\n      <td>7.9250</td>\n      <td>1</td>\n      <td>20~29</td>\n    </tr>\n    <tr>\n      <th>3</th>\n      <td>35.0</td>\n      <td>female</td>\n      <td>First</td>\n      <td>53.1000</td>\n      <td>1</td>\n      <td>30~39</td>\n    </tr>\n    <tr>\n      <th>4</th>\n      <td>35.0</td>\n      <td>male</td>\n      <td>Third</td>\n      <td>8.0500</td>\n      <td>0</td>\n      <td>30~39</td>\n    </tr>\n    <tr>\n      <th>5</th>\n      <td>NaN</td>\n      <td>male</td>\n      <td>Third</td>\n      <td>8.4583</td>\n      <td>0</td>\n      <td>NaN</td>\n    </tr>\n    <tr>\n      <th>6</th>\n      <td>54.0</td>\n      <td>male</td>\n      <td>First</td>\n      <td>51.8625</td>\n      <td>0</td>\n      <td>50~59</td>\n    </tr>\n    <tr>\n      <th>7</th>\n      <td>2.0</td>\n      <td>male</td>\n      <td>Third</td>\n      <td>21.0750</td>\n      <td>0</td>\n      <td>0~9</td>\n    </tr>\n    <tr>\n      <th>9</th>\n      <td>14.0</td>\n      <td>female</td>\n      <td>Second</td>\n      <td>30.0708</td>\n      <td>1</td>\n      <td>10~19</td>\n    </tr>\n    <tr>\n      <th>11</th>\n      <td>58.0</td>\n      <td>female</td>\n      <td>First</td>\n      <td>26.5500</td>\n      <td>1</td>\n      <td>50~59</td>\n    </tr>\n    <tr>\n      <th>15</th>\n      <td>55.0</td>\n      <td>female</td>\n      <td>Second</td>\n      <td>16.0000</td>\n      <td>1</td>\n      <td>50~59</td>\n    </tr>\n    <tr>\n      <th>17</th>\n      <td>NaN</td>\n      <td>male</td>\n      <td>Second</td>\n      <td>13.0000</td>\n      <td>1</td>\n      <td>NaN</td>\n    </tr>\n    <tr>\n      <th>20</th>\n      <td>35.0</td>\n      <td>male</td>\n      <td>Second</td>\n      <td>26.0000</td>\n      <td>0</td>\n      <td>30~39</td>\n    </tr>\n    <tr>\n      <th>21</th>\n      <td>34.0</td>\n      <td>male</td>\n      <td>Second</td>\n      <td>13.0000</td>\n      <td>1</td>\n      <td>30~39</td>\n    </tr>\n    <tr>\n      <th>23</th>\n      <td>28.0</td>\n      <td>male</td>\n      <td>First</td>\n      <td>35.5000</td>\n      <td>1</td>\n      <td>20~29</td>\n    </tr>\n  </tbody>\n</table>\n</div>"
     },
     "metadata": {},
     "execution_count": 22
    }
   ],
   "source": [
    "grouped.head()"
   ]
  },
  {
   "cell_type": "code",
   "execution_count": 24,
   "metadata": {},
   "outputs": [
    {
     "output_type": "execute_result",
     "data": {
      "text/plain": [
       "                     age        fare  survived\n",
       "class  sex                                    \n",
       "First  female  34.611765  106.125798  0.968085\n",
       "       male    41.281386   67.226127  0.368852\n",
       "Second female  28.722973   21.970121  0.921053\n",
       "       male    30.740707   19.741782  0.157407\n",
       "Third  female  21.750000   16.118810  0.500000\n",
       "       male    26.507589   12.661633  0.135447"
      ],
      "text/html": "<div>\n<style scoped>\n    .dataframe tbody tr th:only-of-type {\n        vertical-align: middle;\n    }\n\n    .dataframe tbody tr th {\n        vertical-align: top;\n    }\n\n    .dataframe thead th {\n        text-align: right;\n    }\n</style>\n<table border=\"1\" class=\"dataframe\">\n  <thead>\n    <tr style=\"text-align: right;\">\n      <th></th>\n      <th></th>\n      <th>age</th>\n      <th>fare</th>\n      <th>survived</th>\n    </tr>\n    <tr>\n      <th>class</th>\n      <th>sex</th>\n      <th></th>\n      <th></th>\n      <th></th>\n    </tr>\n  </thead>\n  <tbody>\n    <tr>\n      <th rowspan=\"2\" valign=\"top\">First</th>\n      <th>female</th>\n      <td>34.611765</td>\n      <td>106.125798</td>\n      <td>0.968085</td>\n    </tr>\n    <tr>\n      <th>male</th>\n      <td>41.281386</td>\n      <td>67.226127</td>\n      <td>0.368852</td>\n    </tr>\n    <tr>\n      <th rowspan=\"2\" valign=\"top\">Second</th>\n      <th>female</th>\n      <td>28.722973</td>\n      <td>21.970121</td>\n      <td>0.921053</td>\n    </tr>\n    <tr>\n      <th>male</th>\n      <td>30.740707</td>\n      <td>19.741782</td>\n      <td>0.157407</td>\n    </tr>\n    <tr>\n      <th rowspan=\"2\" valign=\"top\">Third</th>\n      <th>female</th>\n      <td>21.750000</td>\n      <td>16.118810</td>\n      <td>0.500000</td>\n    </tr>\n    <tr>\n      <th>male</th>\n      <td>26.507589</td>\n      <td>12.661633</td>\n      <td>0.135447</td>\n    </tr>\n  </tbody>\n</table>\n</div>"
     },
     "metadata": {},
     "execution_count": 24
    }
   ],
   "source": [
    "grouped = df.groupby(['class','sex'])\n",
    "grouped_mean = grouped.mean()\n",
    "grouped_mean.head(6)"
   ]
  },
  {
   "cell_type": "code",
   "execution_count": 25,
   "metadata": {},
   "outputs": [
    {
     "output_type": "stream",
     "name": "stdout",
     "text": [
      "              age        fare  survived\nsex                                    \nfemale  34.611765  106.125798  0.968085\nmale    41.281386   67.226127  0.368852\n"
     ]
    }
   ],
   "source": [
    "print(grouped_mean.loc['First']) # 행 기준으로 출력"
   ]
  },
  {
   "cell_type": "code",
   "execution_count": 27,
   "metadata": {},
   "outputs": [
    {
     "output_type": "stream",
     "name": "stdout",
     "text": [
      "age          34.611765\nfare        106.125798\nsurvived      0.968085\nName: (First, female), dtype: float64\n"
     ]
    }
   ],
   "source": [
    "print(grouped_mean.loc['First','female']) # 행 기준으로 출력"
   ]
  },
  {
   "cell_type": "code",
   "execution_count": 35,
   "metadata": {},
   "outputs": [
    {
     "output_type": "stream",
     "name": "stdout",
     "text": [
      "              age       fare  survived\nclass                                 \nFirst   41.281386  67.226127  0.368852\nSecond  30.740707  19.741782  0.157407\nThird   26.507589  12.661633  0.135447\n"
     ]
    }
   ],
   "source": [
    "print(grouped_mean.xs('male',level = 'sex',axis=0)) \n",
    "# 열 (level = 'sex) 기준으로 행 (axis = 0)을 출력"
   ]
  },
  {
   "cell_type": "code",
   "execution_count": null,
   "metadata": {},
   "outputs": [],
   "source": []
  }
 ]
}