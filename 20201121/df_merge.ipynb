{
 "metadata": {
  "language_info": {
   "codemirror_mode": {
    "name": "ipython",
    "version": 3
   },
   "file_extension": ".py",
   "mimetype": "text/x-python",
   "name": "python",
   "nbconvert_exporter": "python",
   "pygments_lexer": "ipython3",
   "version": "3.7.9-final"
  },
  "orig_nbformat": 2,
  "kernelspec": {
   "name": "python3",
   "display_name": "Python 3.7.9 64-bit ('python_3.7': conda)",
   "metadata": {
    "interpreter": {
     "hash": "2ef9295e5707b050a7247f8aef1527b1df91510008d346980af256f412b3227d"
    }
   }
  }
 },
 "nbformat": 4,
 "nbformat_minor": 2,
 "cells": [
  {
   "cell_type": "code",
   "execution_count": 23,
   "metadata": {},
   "outputs": [],
   "source": [
    "import pandas as pd"
   ]
  },
  {
   "cell_type": "code",
   "execution_count": 24,
   "metadata": {},
   "outputs": [],
   "source": [
    "df1 = pd.read_excel(\"C:/Users/82109/Desktop/Study/AI Basic Course/data/stock price.xlsx\")\n",
    "df2 = pd.read_excel(\"C:/Users/82109/Desktop/Study/AI Basic Course/data/stock valuation.xlsx\")"
   ]
  },
  {
   "cell_type": "code",
   "execution_count": 25,
   "metadata": {},
   "outputs": [],
   "source": [
    "def write_excel(merge,path = \"C:/Users/82109/Desktop/Study/AI Basic Course/data/merge_stock.xlsx\"):\n",
    "    with pd.ExcelWriter(path) as writer:\n",
    "        merge.to_excel(writer)"
   ]
  },
  {
   "cell_type": "code",
   "execution_count": 26,
   "metadata": {},
   "outputs": [
    {
     "output_type": "stream",
     "name": "stdout",
     "text": [
      "   id stock_name          value   price    name           eps     bps  \\\n0   2     CJ E&M   58540.666667   98900  CJ E&M   6301.333333   54068   \n1   4        이마트  239230.833333  254500     이마트  18268.166667  295780   \n2   6        삼양사   82750.000000   82000     삼양사   5741.000000  108090   \n3   7        종근당   40293.666667  100500     종근당   3990.333333   40684   \n4  10     모두투어리츠    3093.333333    3475  모두투어리츠     85.166667    5335   \n\n         per       pbr  \n0  15.695091  1.829178  \n1  13.931338  0.860437  \n2  14.283226  0.758627  \n3  25.185866  2.470259  \n4  40.802348  0.651359  \n"
     ]
    }
   ],
   "source": [
    "merge = pd.merge(df1,df2)\n",
    "write_excel(merge)\n",
    "print(merge)"
   ]
  },
  {
   "cell_type": "code",
   "execution_count": 27,
   "metadata": {},
   "outputs": [
    {
     "output_type": "stream",
     "name": "stdout",
     "text": [
      "    id stock_name          value     price       name           eps       bps  \\\n0    1       한미약품   59385.666667  421000.0        NaN           NaN       NaN   \n1    2     CJ E&M   58540.666667   98900.0     CJ E&M   6301.333333   54068.0   \n2    3      엔에스쇼핑   14558.666667   13200.0        NaN           NaN       NaN   \n3    4        이마트  239230.833333  254500.0        이마트  18268.166667  295780.0   \n4    5     녹십자엠에스     468.833333   10200.0        NaN           NaN       NaN   \n5    6        삼양사   82750.000000   82000.0        삼양사   5741.000000  108090.0   \n6    7        종근당   40293.666667  100500.0        종근당   3990.333333   40684.0   \n7    8      쿠쿠홀딩스  179204.666667  177500.0        NaN           NaN       NaN   \n8    9         툴젠   -2514.333333  115400.0        NaN           NaN       NaN   \n9   10     모두투어리츠    3093.333333    3475.0     모두투어리츠     85.166667    5335.0   \n10  11        NaN            NaN       NaN         하림    274.166667    3551.0   \n11  12        NaN            NaN       NaN    메리츠금융지주   2122.333333   14894.0   \n12  13        NaN            NaN       NaN      한국타이어   5648.500000   51341.0   \n13  14        NaN            NaN       NaN  NHN엔터테인먼트   2110.166667   78434.0   \n14  15        NaN            NaN       NaN   삼성바이오로직스   4644.166667   60099.0   \n\n          per       pbr  \n0         NaN       NaN  \n1   15.695091  1.829178  \n2         NaN       NaN  \n3   13.931338  0.860437  \n4         NaN       NaN  \n5   14.283226  0.758627  \n6   25.185866  2.470259  \n7         NaN       NaN  \n8         NaN       NaN  \n9   40.802348  0.651359  \n10  11.489362  0.887074  \n11   6.313806  0.899691  \n12   7.453306  0.820007  \n13  30.755864  0.827447  \n14  89.790059  6.938551  \n"
     ]
    }
   ],
   "source": [
    "merge = pd.merge(df1,df2,how='outer',on='id')\n",
    "print(merge)\n",
    "write_excel(merge)"
   ]
  },
  {
   "cell_type": "code",
   "execution_count": 28,
   "metadata": {},
   "outputs": [
    {
     "output_type": "stream",
     "name": "stdout",
     "text": [
      "   id_x stock_name          value   price  id_y    name           eps  \\\n0     1       한미약품   59385.666667  421000   NaN     NaN           NaN   \n1     2     CJ E&M   58540.666667   98900   2.0  CJ E&M   6301.333333   \n2     3      엔에스쇼핑   14558.666667   13200   NaN     NaN           NaN   \n3     4        이마트  239230.833333  254500   4.0     이마트  18268.166667   \n4     5     녹십자엠에스     468.833333   10200   NaN     NaN           NaN   \n5     6        삼양사   82750.000000   82000   6.0     삼양사   5741.000000   \n6     7        종근당   40293.666667  100500   7.0     종근당   3990.333333   \n7     8      쿠쿠홀딩스  179204.666667  177500   NaN     NaN           NaN   \n8     9         툴젠   -2514.333333  115400   NaN     NaN           NaN   \n9    10     모두투어리츠    3093.333333    3475  10.0  모두투어리츠     85.166667   \n\n        bps        per       pbr  \n0       NaN        NaN       NaN  \n1   54068.0  15.695091  1.829178  \n2       NaN        NaN       NaN  \n3  295780.0  13.931338  0.860437  \n4       NaN        NaN       NaN  \n5  108090.0  14.283226  0.758627  \n6   40684.0  25.185866  2.470259  \n7       NaN        NaN       NaN  \n8       NaN        NaN       NaN  \n9    5335.0  40.802348  0.651359  \n"
     ]
    }
   ],
   "source": [
    "merge_left = pd.merge(df1,df2,how='left',left_on='stock_name',right_on='name')\n",
    "print(merge_left)"
   ]
  },
  {
   "cell_type": "code",
   "execution_count": 29,
   "metadata": {},
   "outputs": [
    {
     "output_type": "stream",
     "name": "stdout",
     "text": [
      "   id_x stock_name          value     price  id_y       name           eps  \\\n0   2.0     CJ E&M   58540.666667   98900.0     2     CJ E&M   6301.333333   \n1   NaN        NaN            NaN       NaN    11         하림    274.166667   \n2   NaN        NaN            NaN       NaN    12    메리츠금융지주   2122.333333   \n3   4.0        이마트  239230.833333  254500.0     4        이마트  18268.166667   \n4   6.0        삼양사   82750.000000   82000.0     6        삼양사   5741.000000   \n5   NaN        NaN            NaN       NaN    13      한국타이어   5648.500000   \n6   NaN        NaN            NaN       NaN    14  NHN엔터테인먼트   2110.166667   \n7   7.0        종근당   40293.666667  100500.0     7        종근당   3990.333333   \n8  10.0     모두투어리츠    3093.333333    3475.0    10     모두투어리츠     85.166667   \n9   NaN        NaN            NaN       NaN    15   삼성바이오로직스   4644.166667   \n\n      bps        per       pbr  \n0   54068  15.695091  1.829178  \n1    3551  11.489362  0.887074  \n2   14894   6.313806  0.899691  \n3  295780  13.931338  0.860437  \n4  108090  14.283226  0.758627  \n5   51341   7.453306  0.820007  \n6   78434  30.755864  0.827447  \n7   40684  25.185866  2.470259  \n8    5335  40.802348  0.651359  \n9   60099  89.790059  6.938551  \n"
     ]
    }
   ],
   "source": [
    "merge_right = pd.merge(df1,df2,how='right',left_on='stock_name',right_on='name')\n",
    "print(merge_right)"
   ]
  },
  {
   "cell_type": "code",
   "execution_count": 30,
   "metadata": {},
   "outputs": [
    {
     "output_type": "execute_result",
     "data": {
      "text/plain": [
       "   id_x stock_name          value     price  id_y     name           eps  \\\n",
       "0   2.0     CJ E&M   58540.666667   98900.0     2   CJ E&M   6301.333333   \n",
       "1   NaN        NaN            NaN       NaN    11       하림    274.166667   \n",
       "2   NaN        NaN            NaN       NaN    12  메리츠금융지주   2122.333333   \n",
       "3   4.0        이마트  239230.833333  254500.0     4      이마트  18268.166667   \n",
       "4   6.0        삼양사   82750.000000   82000.0     6      삼양사   5741.000000   \n",
       "\n",
       "      bps        per       pbr  \n",
       "0   54068  15.695091  1.829178  \n",
       "1    3551  11.489362  0.887074  \n",
       "2   14894   6.313806  0.899691  \n",
       "3  295780  13.931338  0.860437  \n",
       "4  108090  14.283226  0.758627  "
      ],
      "text/html": "<div>\n<style scoped>\n    .dataframe tbody tr th:only-of-type {\n        vertical-align: middle;\n    }\n\n    .dataframe tbody tr th {\n        vertical-align: top;\n    }\n\n    .dataframe thead th {\n        text-align: right;\n    }\n</style>\n<table border=\"1\" class=\"dataframe\">\n  <thead>\n    <tr style=\"text-align: right;\">\n      <th></th>\n      <th>id_x</th>\n      <th>stock_name</th>\n      <th>value</th>\n      <th>price</th>\n      <th>id_y</th>\n      <th>name</th>\n      <th>eps</th>\n      <th>bps</th>\n      <th>per</th>\n      <th>pbr</th>\n    </tr>\n  </thead>\n  <tbody>\n    <tr>\n      <th>0</th>\n      <td>2.0</td>\n      <td>CJ E&amp;M</td>\n      <td>58540.666667</td>\n      <td>98900.0</td>\n      <td>2</td>\n      <td>CJ E&amp;M</td>\n      <td>6301.333333</td>\n      <td>54068</td>\n      <td>15.695091</td>\n      <td>1.829178</td>\n    </tr>\n    <tr>\n      <th>1</th>\n      <td>NaN</td>\n      <td>NaN</td>\n      <td>NaN</td>\n      <td>NaN</td>\n      <td>11</td>\n      <td>하림</td>\n      <td>274.166667</td>\n      <td>3551</td>\n      <td>11.489362</td>\n      <td>0.887074</td>\n    </tr>\n    <tr>\n      <th>2</th>\n      <td>NaN</td>\n      <td>NaN</td>\n      <td>NaN</td>\n      <td>NaN</td>\n      <td>12</td>\n      <td>메리츠금융지주</td>\n      <td>2122.333333</td>\n      <td>14894</td>\n      <td>6.313806</td>\n      <td>0.899691</td>\n    </tr>\n    <tr>\n      <th>3</th>\n      <td>4.0</td>\n      <td>이마트</td>\n      <td>239230.833333</td>\n      <td>254500.0</td>\n      <td>4</td>\n      <td>이마트</td>\n      <td>18268.166667</td>\n      <td>295780</td>\n      <td>13.931338</td>\n      <td>0.860437</td>\n    </tr>\n    <tr>\n      <th>4</th>\n      <td>6.0</td>\n      <td>삼양사</td>\n      <td>82750.000000</td>\n      <td>82000.0</td>\n      <td>6</td>\n      <td>삼양사</td>\n      <td>5741.000000</td>\n      <td>108090</td>\n      <td>14.283226</td>\n      <td>0.758627</td>\n    </tr>\n  </tbody>\n</table>\n</div>"
     },
     "metadata": {},
     "execution_count": 30
    }
   ],
   "source": [
    "merge_right.head()"
   ]
  },
  {
   "cell_type": "code",
   "execution_count": 31,
   "metadata": {},
   "outputs": [
    {
     "output_type": "execute_result",
     "data": {
      "text/plain": [
       "   id stock_name          value   price\n",
       "0   1       한미약품   59385.666667  421000\n",
       "1   2     CJ E&M   58540.666667   98900\n",
       "3   4        이마트  239230.833333  254500\n",
       "5   6        삼양사   82750.000000   82000\n",
       "6   7        종근당   40293.666667  100500"
      ],
      "text/html": "<div>\n<style scoped>\n    .dataframe tbody tr th:only-of-type {\n        vertical-align: middle;\n    }\n\n    .dataframe tbody tr th {\n        vertical-align: top;\n    }\n\n    .dataframe thead th {\n        text-align: right;\n    }\n</style>\n<table border=\"1\" class=\"dataframe\">\n  <thead>\n    <tr style=\"text-align: right;\">\n      <th></th>\n      <th>id</th>\n      <th>stock_name</th>\n      <th>value</th>\n      <th>price</th>\n    </tr>\n  </thead>\n  <tbody>\n    <tr>\n      <th>0</th>\n      <td>1</td>\n      <td>한미약품</td>\n      <td>59385.666667</td>\n      <td>421000</td>\n    </tr>\n    <tr>\n      <th>1</th>\n      <td>2</td>\n      <td>CJ E&amp;M</td>\n      <td>58540.666667</td>\n      <td>98900</td>\n    </tr>\n    <tr>\n      <th>3</th>\n      <td>4</td>\n      <td>이마트</td>\n      <td>239230.833333</td>\n      <td>254500</td>\n    </tr>\n    <tr>\n      <th>5</th>\n      <td>6</td>\n      <td>삼양사</td>\n      <td>82750.000000</td>\n      <td>82000</td>\n    </tr>\n    <tr>\n      <th>6</th>\n      <td>7</td>\n      <td>종근당</td>\n      <td>40293.666667</td>\n      <td>100500</td>\n    </tr>\n  </tbody>\n</table>\n</div>"
     },
     "metadata": {},
     "execution_count": 31
    }
   ],
   "source": [
    "price_df1 = df1[df1['price']>50000]\n",
    "price_df1.head()"
   ]
  },
  {
   "cell_type": "code",
   "execution_count": 32,
   "metadata": {},
   "outputs": [
    {
     "output_type": "stream",
     "name": "stdout",
     "text": [
      "   id stock_name          value   price           eps     bps        per  \\\n0   2     CJ E&M   58540.666667   98900   6301.333333   54068  15.695091   \n1   4        이마트  239230.833333  254500  18268.166667  295780  13.931338   \n2   6        삼양사   82750.000000   82000   5741.000000  108090  14.283226   \n3   7        종근당   40293.666667  100500   3990.333333   40684  25.185866   \n\n        pbr  \n0  1.829178  \n1  0.860437  \n2  0.758627  \n3  2.470259  \n"
     ]
    }
   ],
   "source": [
    "stock_price = pd.merge(price_df1,df2)\n",
    "stock_price.drop(['name'],axis=1,inplace=True)\n",
    "print(stock_price)"
   ]
  },
  {
   "cell_type": "code",
   "execution_count": 33,
   "metadata": {},
   "outputs": [
    {
     "output_type": "stream",
     "name": "stdout",
     "text": [
      "   id stock_name     value   price      eps     bps   per  pbr\n0   2     CJ E&M   58540.7   98900   6301.3   54068  15.7  1.8\n1   4        이마트  239230.8  254500  18268.2  295780  13.9  0.9\n2   6        삼양사   82750.0   82000   5741.0  108090  14.3  0.8\n3   7        종근당   40293.7  100500   3990.3   40684  25.2  2.5\n"
     ]
    }
   ],
   "source": [
    "stock_price['value'] = stock_price['value'].round(1)\n",
    "stock_price['eps'] = stock_price['eps'].round(1)\n",
    "stock_price['per'] = stock_price['per'].round(1)\n",
    "stock_price['pbr'] = stock_price['pbr'].round(1)\n",
    "print(stock_price)"
   ]
  },
  {
   "cell_type": "code",
   "execution_count": 34,
   "metadata": {},
   "outputs": [
    {
     "output_type": "error",
     "ename": "ValueError",
     "evalue": "columns overlap but no suffix specified: Index(['id'], dtype='object')",
     "traceback": [
      "\u001b[1;31m---------------------------------------------------------------------------\u001b[0m",
      "\u001b[1;31mValueError\u001b[0m                                Traceback (most recent call last)",
      "\u001b[1;32m<ipython-input-34-c28b41650f50>\u001b[0m in \u001b[0;36m<module>\u001b[1;34m\u001b[0m\n\u001b[1;32m----> 1\u001b[1;33m \u001b[0mdf3\u001b[0m \u001b[1;33m=\u001b[0m \u001b[0mdf1\u001b[0m\u001b[1;33m.\u001b[0m\u001b[0mjoin\u001b[0m\u001b[1;33m(\u001b[0m\u001b[0mdf2\u001b[0m\u001b[1;33m)\u001b[0m \u001b[1;31m# df3 = merge(df1,df2)\u001b[0m\u001b[1;33m\u001b[0m\u001b[1;33m\u001b[0m\u001b[0m\n\u001b[0m\u001b[0;32m      2\u001b[0m \u001b[0mprint\u001b[0m\u001b[1;33m(\u001b[0m\u001b[0mdf3\u001b[0m\u001b[1;33m)\u001b[0m\u001b[1;33m\u001b[0m\u001b[1;33m\u001b[0m\u001b[0m\n",
      "\u001b[1;32m~\\anaconda3\\envs\\python_3.7\\lib\\site-packages\\pandas\\core\\frame.py\u001b[0m in \u001b[0;36mjoin\u001b[1;34m(self, other, on, how, lsuffix, rsuffix, sort)\u001b[0m\n\u001b[0;32m   7869\u001b[0m         \"\"\"\n\u001b[0;32m   7870\u001b[0m         return self._join_compat(\n\u001b[1;32m-> 7871\u001b[1;33m             \u001b[0mother\u001b[0m\u001b[1;33m,\u001b[0m \u001b[0mon\u001b[0m\u001b[1;33m=\u001b[0m\u001b[0mon\u001b[0m\u001b[1;33m,\u001b[0m \u001b[0mhow\u001b[0m\u001b[1;33m=\u001b[0m\u001b[0mhow\u001b[0m\u001b[1;33m,\u001b[0m \u001b[0mlsuffix\u001b[0m\u001b[1;33m=\u001b[0m\u001b[0mlsuffix\u001b[0m\u001b[1;33m,\u001b[0m \u001b[0mrsuffix\u001b[0m\u001b[1;33m=\u001b[0m\u001b[0mrsuffix\u001b[0m\u001b[1;33m,\u001b[0m \u001b[0msort\u001b[0m\u001b[1;33m=\u001b[0m\u001b[0msort\u001b[0m\u001b[1;33m\u001b[0m\u001b[1;33m\u001b[0m\u001b[0m\n\u001b[0m\u001b[0;32m   7872\u001b[0m         )\n\u001b[0;32m   7873\u001b[0m \u001b[1;33m\u001b[0m\u001b[0m\n",
      "\u001b[1;32m~\\anaconda3\\envs\\python_3.7\\lib\\site-packages\\pandas\\core\\frame.py\u001b[0m in \u001b[0;36m_join_compat\u001b[1;34m(self, other, on, how, lsuffix, rsuffix, sort)\u001b[0m\n\u001b[0;32m   7892\u001b[0m                 \u001b[0mright_index\u001b[0m\u001b[1;33m=\u001b[0m\u001b[1;32mTrue\u001b[0m\u001b[1;33m,\u001b[0m\u001b[1;33m\u001b[0m\u001b[1;33m\u001b[0m\u001b[0m\n\u001b[0;32m   7893\u001b[0m                 \u001b[0msuffixes\u001b[0m\u001b[1;33m=\u001b[0m\u001b[1;33m(\u001b[0m\u001b[0mlsuffix\u001b[0m\u001b[1;33m,\u001b[0m \u001b[0mrsuffix\u001b[0m\u001b[1;33m)\u001b[0m\u001b[1;33m,\u001b[0m\u001b[1;33m\u001b[0m\u001b[1;33m\u001b[0m\u001b[0m\n\u001b[1;32m-> 7894\u001b[1;33m                 \u001b[0msort\u001b[0m\u001b[1;33m=\u001b[0m\u001b[0msort\u001b[0m\u001b[1;33m,\u001b[0m\u001b[1;33m\u001b[0m\u001b[1;33m\u001b[0m\u001b[0m\n\u001b[0m\u001b[0;32m   7895\u001b[0m             )\n\u001b[0;32m   7896\u001b[0m         \u001b[1;32melse\u001b[0m\u001b[1;33m:\u001b[0m\u001b[1;33m\u001b[0m\u001b[1;33m\u001b[0m\u001b[0m\n",
      "\u001b[1;32m~\\anaconda3\\envs\\python_3.7\\lib\\site-packages\\pandas\\core\\reshape\\merge.py\u001b[0m in \u001b[0;36mmerge\u001b[1;34m(left, right, how, on, left_on, right_on, left_index, right_index, sort, suffixes, copy, indicator, validate)\u001b[0m\n\u001b[0;32m     87\u001b[0m         \u001b[0mvalidate\u001b[0m\u001b[1;33m=\u001b[0m\u001b[0mvalidate\u001b[0m\u001b[1;33m,\u001b[0m\u001b[1;33m\u001b[0m\u001b[1;33m\u001b[0m\u001b[0m\n\u001b[0;32m     88\u001b[0m     )\n\u001b[1;32m---> 89\u001b[1;33m     \u001b[1;32mreturn\u001b[0m \u001b[0mop\u001b[0m\u001b[1;33m.\u001b[0m\u001b[0mget_result\u001b[0m\u001b[1;33m(\u001b[0m\u001b[1;33m)\u001b[0m\u001b[1;33m\u001b[0m\u001b[1;33m\u001b[0m\u001b[0m\n\u001b[0m\u001b[0;32m     90\u001b[0m \u001b[1;33m\u001b[0m\u001b[0m\n\u001b[0;32m     91\u001b[0m \u001b[1;33m\u001b[0m\u001b[0m\n",
      "\u001b[1;32m~\\anaconda3\\envs\\python_3.7\\lib\\site-packages\\pandas\\core\\reshape\\merge.py\u001b[0m in \u001b[0;36mget_result\u001b[1;34m(self)\u001b[0m\n\u001b[0;32m    669\u001b[0m \u001b[1;33m\u001b[0m\u001b[0m\n\u001b[0;32m    670\u001b[0m         llabels, rlabels = _items_overlap_with_suffix(\n\u001b[1;32m--> 671\u001b[1;33m             \u001b[0mself\u001b[0m\u001b[1;33m.\u001b[0m\u001b[0mleft\u001b[0m\u001b[1;33m.\u001b[0m\u001b[0m_info_axis\u001b[0m\u001b[1;33m,\u001b[0m \u001b[0mself\u001b[0m\u001b[1;33m.\u001b[0m\u001b[0mright\u001b[0m\u001b[1;33m.\u001b[0m\u001b[0m_info_axis\u001b[0m\u001b[1;33m,\u001b[0m \u001b[0mself\u001b[0m\u001b[1;33m.\u001b[0m\u001b[0msuffixes\u001b[0m\u001b[1;33m\u001b[0m\u001b[1;33m\u001b[0m\u001b[0m\n\u001b[0m\u001b[0;32m    672\u001b[0m         )\n\u001b[0;32m    673\u001b[0m \u001b[1;33m\u001b[0m\u001b[0m\n",
      "\u001b[1;32m~\\anaconda3\\envs\\python_3.7\\lib\\site-packages\\pandas\\core\\reshape\\merge.py\u001b[0m in \u001b[0;36m_items_overlap_with_suffix\u001b[1;34m(left, right, suffixes)\u001b[0m\n\u001b[0;32m   2089\u001b[0m \u001b[1;33m\u001b[0m\u001b[0m\n\u001b[0;32m   2090\u001b[0m     \u001b[1;32mif\u001b[0m \u001b[1;32mnot\u001b[0m \u001b[0mlsuffix\u001b[0m \u001b[1;32mand\u001b[0m \u001b[1;32mnot\u001b[0m \u001b[0mrsuffix\u001b[0m\u001b[1;33m:\u001b[0m\u001b[1;33m\u001b[0m\u001b[1;33m\u001b[0m\u001b[0m\n\u001b[1;32m-> 2091\u001b[1;33m         \u001b[1;32mraise\u001b[0m \u001b[0mValueError\u001b[0m\u001b[1;33m(\u001b[0m\u001b[1;34mf\"columns overlap but no suffix specified: {to_rename}\"\u001b[0m\u001b[1;33m)\u001b[0m\u001b[1;33m\u001b[0m\u001b[1;33m\u001b[0m\u001b[0m\n\u001b[0m\u001b[0;32m   2092\u001b[0m \u001b[1;33m\u001b[0m\u001b[0m\n\u001b[0;32m   2093\u001b[0m     \u001b[1;32mdef\u001b[0m \u001b[0mrenamer\u001b[0m\u001b[1;33m(\u001b[0m\u001b[0mx\u001b[0m\u001b[1;33m,\u001b[0m \u001b[0msuffix\u001b[0m\u001b[1;33m)\u001b[0m\u001b[1;33m:\u001b[0m\u001b[1;33m\u001b[0m\u001b[1;33m\u001b[0m\u001b[0m\n",
      "\u001b[1;31mValueError\u001b[0m: columns overlap but no suffix specified: Index(['id'], dtype='object')"
     ]
    }
   ],
   "source": [
    "df3 = df1.join(df2) # df3 = merge(df1,df2)\n",
    "print(df3)"
   ]
  },
  {
   "cell_type": "code",
   "execution_count": null,
   "metadata": {},
   "outputs": [],
   "source": []
  }
 ]
}