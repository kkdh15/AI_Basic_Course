{
 "metadata": {
  "language_info": {
   "codemirror_mode": {
    "name": "ipython",
    "version": 3
   },
   "file_extension": ".py",
   "mimetype": "text/x-python",
   "name": "python",
   "nbconvert_exporter": "python",
   "pygments_lexer": "ipython3",
   "version": "3.7.9-final"
  },
  "orig_nbformat": 2,
  "kernelspec": {
   "name": "Python 3.7.9 64-bit ('python_3.7': conda)",
   "display_name": "Python 3.7.9 64-bit ('python_3.7': conda)",
   "metadata": {
    "interpreter": {
     "hash": "2ef9295e5707b050a7247f8aef1527b1df91510008d346980af256f412b3227d"
    }
   }
  }
 },
 "nbformat": 4,
 "nbformat_minor": 2,
 "cells": [
  {
   "cell_type": "code",
   "execution_count": 1,
   "metadata": {},
   "outputs": [],
   "source": [
    "import pandas as pd"
   ]
  },
  {
   "cell_type": "code",
   "execution_count": 6,
   "metadata": {},
   "outputs": [
    {
     "output_type": "execute_result",
     "data": {
      "text/plain": [
       "math       100\n",
       "English     90\n",
       "Korean      80\n",
       "dtype: int64"
      ]
     },
     "metadata": {},
     "execution_count": 6
    }
   ],
   "source": [
    "stu1 = pd.Series({'math':100,'English':90,'Korean':80})\n",
    "stu2 = pd.Series({'math':80,'English':70,'Korean':100})\n",
    "stu1"
   ]
  },
  {
   "cell_type": "code",
   "execution_count": 7,
   "metadata": {},
   "outputs": [
    {
     "output_type": "execute_result",
     "data": {
      "text/plain": [
       "math        80\n",
       "English     70\n",
       "Korean     100\n",
       "dtype: int64"
      ]
     },
     "metadata": {},
     "execution_count": 7
    }
   ],
   "source": [
    "stu2"
   ]
  },
  {
   "cell_type": "code",
   "execution_count": 8,
   "metadata": {},
   "outputs": [
    {
     "output_type": "execute_result",
     "data": {
      "text/plain": [
       "pandas.core.series.Series"
      ]
     },
     "metadata": {},
     "execution_count": 8
    }
   ],
   "source": [
    "add = stu1 + stu2\n",
    "minus = stu1 - stu2\n",
    "mux = stu1 * stu2\n",
    "divi = stu1 / stu2\n",
    "type(divi)"
   ]
  },
  {
   "cell_type": "code",
   "execution_count": 11,
   "metadata": {},
   "outputs": [
    {
     "output_type": "execute_result",
     "data": {
      "text/plain": [
       "          math      English  Korean\n",
       "add     180.00   160.000000   180.0\n",
       "minus    20.00    20.000000   -20.0\n",
       "mux    8000.00  6300.000000  8000.0\n",
       "divi      1.25     1.285714     0.8"
      ],
      "text/html": "<div>\n<style scoped>\n    .dataframe tbody tr th:only-of-type {\n        vertical-align: middle;\n    }\n\n    .dataframe tbody tr th {\n        vertical-align: top;\n    }\n\n    .dataframe thead th {\n        text-align: right;\n    }\n</style>\n<table border=\"1\" class=\"dataframe\">\n  <thead>\n    <tr style=\"text-align: right;\">\n      <th></th>\n      <th>math</th>\n      <th>English</th>\n      <th>Korean</th>\n    </tr>\n  </thead>\n  <tbody>\n    <tr>\n      <th>add</th>\n      <td>180.00</td>\n      <td>160.000000</td>\n      <td>180.0</td>\n    </tr>\n    <tr>\n      <th>minus</th>\n      <td>20.00</td>\n      <td>20.000000</td>\n      <td>-20.0</td>\n    </tr>\n    <tr>\n      <th>mux</th>\n      <td>8000.00</td>\n      <td>6300.000000</td>\n      <td>8000.0</td>\n    </tr>\n    <tr>\n      <th>divi</th>\n      <td>1.25</td>\n      <td>1.285714</td>\n      <td>0.8</td>\n    </tr>\n  </tbody>\n</table>\n</div>"
     },
     "metadata": {},
     "execution_count": 11
    }
   ],
   "source": [
    "result = pd.DataFrame([add,minus,mux,divi],index = ['add','minus','mux','divi'])\n",
    "result"
   ]
  },
  {
   "cell_type": "code",
   "execution_count": 12,
   "metadata": {},
   "outputs": [
    {
     "output_type": "execute_result",
     "data": {
      "text/plain": [
       "          math      English  Korean\n",
       "add     180.00   160.000000   180.0\n",
       "minus    20.00    20.000000   -20.0\n",
       "mux    8000.00  6300.000000  8000.0\n",
       "divi      1.25     1.285714     0.8"
      ],
      "text/html": "<div>\n<style scoped>\n    .dataframe tbody tr th:only-of-type {\n        vertical-align: middle;\n    }\n\n    .dataframe tbody tr th {\n        vertical-align: top;\n    }\n\n    .dataframe thead th {\n        text-align: right;\n    }\n</style>\n<table border=\"1\" class=\"dataframe\">\n  <thead>\n    <tr style=\"text-align: right;\">\n      <th></th>\n      <th>math</th>\n      <th>English</th>\n      <th>Korean</th>\n    </tr>\n  </thead>\n  <tbody>\n    <tr>\n      <th>add</th>\n      <td>180.00</td>\n      <td>160.000000</td>\n      <td>180.0</td>\n    </tr>\n    <tr>\n      <th>minus</th>\n      <td>20.00</td>\n      <td>20.000000</td>\n      <td>-20.0</td>\n    </tr>\n    <tr>\n      <th>mux</th>\n      <td>8000.00</td>\n      <td>6300.000000</td>\n      <td>8000.0</td>\n    </tr>\n    <tr>\n      <th>divi</th>\n      <td>1.25</td>\n      <td>1.285714</td>\n      <td>0.8</td>\n    </tr>\n  </tbody>\n</table>\n</div>"
     },
     "metadata": {},
     "execution_count": 12
    }
   ],
   "source": [
    "sr_add = stu1.add(stu2)\n",
    "sr_minus = stu1.sub(stu2)\n",
    "sr_mux = stu1.mul(stu2)\n",
    "sr_divi = stu1.div(stu2)\n",
    "result_1 = pd.DataFrame([add,minus,mux,divi],index = ['add','minus','mux','divi'])\n",
    "result_1"
   ]
  },
  {
   "cell_type": "code",
   "execution_count": null,
   "metadata": {},
   "outputs": [],
   "source": []
  }
 ]
}