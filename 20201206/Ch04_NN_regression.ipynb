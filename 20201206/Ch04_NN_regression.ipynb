{
  "nbformat": 4,
  "nbformat_minor": 0,
  "metadata": {
    "colab": {
      "name": "Ch04_NN_regression.ipynb",
      "private_outputs": true,
      "provenance": [],
      "collapsed_sections": []
    },
    "kernelspec": {
      "name": "python3",
      "display_name": "Python 3"
    }
  },
  "cells": [
    {
      "cell_type": "code",
      "metadata": {
        "id": "kYeWC3fN-u_J"
      },
      "source": [
        "import seaborn as sns\n",
        "import pandas as pd\n",
        "import matplotlib.pyplot as plt\n",
        "import numpy as np\n",
        "import tensorflow as tf\n",
        "import tensorflow.keras as keras\n",
        "from tensorflow.keras import layers"
      ],
      "execution_count": null,
      "outputs": []
    },
    {
      "cell_type": "code",
      "metadata": {
        "id": "ADlz1lPKHGw8"
      },
      "source": [
        "df = sns.load_dataset('mpg')\n",
        "df.dropna(subset=['horsepower'],axis=0, inplace=True)"
      ],
      "execution_count": null,
      "outputs": []
    },
    {
      "cell_type": "code",
      "metadata": {
        "id": "6M-l_kCL_K_n"
      },
      "source": [
        "x_hp = df['horsepower']  # Series\n",
        "X_hp = x_hp.to_list()   # List 변환\n",
        "x_weight = df['weight']  # Series\n",
        "X_weight = x_weight.to_list()   # List 변환\n",
        "\n",
        "print(len(X_hp))\n",
        "print(len(X_weight))\n",
        "\n",
        "X = list(X_hp, X_weight)\n",
        "\n",
        "y_mpg = df['mpg']\n",
        "Y = y_mpg.to_list()"
      ],
      "execution_count": null,
      "outputs": []
    },
    {
      "cell_type": "code",
      "metadata": {
        "id": "9iT01JIIHieM"
      },
      "source": [
        "print(type(X))\n",
        "print(X)"
      ],
      "execution_count": null,
      "outputs": []
    },
    {
      "cell_type": "code",
      "metadata": {
        "id": "wLlGexbz_mGn"
      },
      "source": [
        "plt.figure(figsize=(12,6))\n",
        "plt.plot(X_weight,Y,'bo')\n",
        "plt.xlabel('weight')\n",
        "plt.ylabel('mpg')\n",
        "plt.show()"
      ],
      "execution_count": null,
      "outputs": []
    },
    {
      "cell_type": "code",
      "metadata": {
        "id": "96CBo-fPDAvc"
      },
      "source": [
        "model = tf.keras.Sequential([\n",
        "    layers.Dense(units=6, activation='sigmoid', input_shape = (2,)),\n",
        "    layers.Dense(units=3, activation='sigmoid'),\n",
        "    layers.Dense(units=1, activation='sigmoid')\n",
        "])\n",
        "model.compile(\n",
        "    optimizer=keras.optimizers.SGD(lr=0.1),   #경사하강법\n",
        "    loss='mse'  #R 제곱\n",
        ")\n",
        "\n",
        "model.summary()"
      ],
      "execution_count": null,
      "outputs": []
    },
    {
      "cell_type": "code",
      "metadata": {
        "id": "hnNhkbb7DoA1"
      },
      "source": [
        "history = model.fit(X,Y, epochs=100 , batch_size=1) # Learing"
      ],
      "execution_count": null,
      "outputs": []
    },
    {
      "cell_type": "code",
      "metadata": {
        "id": "cdsCfuhVE-dL"
      },
      "source": [
        "model.predict(X) # 예측"
      ],
      "execution_count": null,
      "outputs": []
    },
    {
      "cell_type": "code",
      "metadata": {
        "id": "o6_KVwjLDBSQ"
      },
      "source": [
        "line_x = np.arange(min(X), max(X), 0.1)\n",
        "line_y = model.predict(line_x) # 예측\n",
        "\n",
        "plt.figure(figsize=(12,6))\n",
        "plt.plot(line_x, line_y, 'r-')\n",
        "plt.plot(X,Y,'bo')\n",
        "plt.xlabel('weight')\n",
        "plt.ylabel('mpg')\n",
        "plt.show()"
      ],
      "execution_count": null,
      "outputs": []
    }
  ]
}