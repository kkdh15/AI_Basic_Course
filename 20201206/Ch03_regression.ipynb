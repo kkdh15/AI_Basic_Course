{
  "nbformat": 4,
  "nbformat_minor": 0,
  "metadata": {
    "colab": {
      "name": "Ch03_regression.ipynb",
      "private_outputs": true,
      "provenance": [],
      "collapsed_sections": []
    },
    "kernelspec": {
      "name": "python3",
      "display_name": "Python 3"
    }
  },
  "cells": [
    {
      "cell_type": "code",
      "metadata": {
        "id": "a-jEXYIxaX_P"
      },
      "source": [
        "import seaborn as sns\n",
        "import pandas as pd\n",
        "import matplotlib.pyplot as plt\n",
        "import numpy as np"
      ],
      "execution_count": null,
      "outputs": []
    },
    {
      "cell_type": "code",
      "metadata": {
        "id": "AO3vQssmaxju"
      },
      "source": [
        "df = sns.load_dataset('mpg')"
      ],
      "execution_count": null,
      "outputs": []
    },
    {
      "cell_type": "code",
      "metadata": {
        "id": "pEUkNd-4bOO2"
      },
      "source": [
        "df.head()"
      ],
      "execution_count": null,
      "outputs": []
    },
    {
      "cell_type": "code",
      "metadata": {
        "id": "mfRWU_CwbVpo"
      },
      "source": [
        "pd.set_option('display.max_columns',10)\n",
        "print(df.describe())"
      ],
      "execution_count": null,
      "outputs": []
    },
    {
      "cell_type": "code",
      "metadata": {
        "id": "VhE9CgdQbv2T"
      },
      "source": [
        "df.info()"
      ],
      "execution_count": null,
      "outputs": []
    },
    {
      "cell_type": "code",
      "metadata": {
        "id": "dkm0Yivqb3YR"
      },
      "source": [
        "x_weight = df['weight']\n",
        "y_mpg = df['mpg']"
      ],
      "execution_count": null,
      "outputs": []
    },
    {
      "cell_type": "code",
      "metadata": {
        "id": "NPdFBGOqcdKi"
      },
      "source": [
        "plt.figure(figsize=(12,6))\n",
        "plt.plot(x_weight,y_mpg,'bo')\n",
        "plt.xlabel('weight')\n",
        "plt.ylabel('mpg')\n",
        "plt.show()"
      ],
      "execution_count": null,
      "outputs": []
    },
    {
      "cell_type": "markdown",
      "metadata": {
        "id": "Sg0YDADPdXGr"
      },
      "source": [
        "# 제곱 접근법 (R2)\n"
      ]
    },
    {
      "cell_type": "code",
      "metadata": {
        "id": "b6It484XcweN"
      },
      "source": [
        "# y = ax + b\n",
        "x_bar = sum(x_weight)/len(x_weight)\n",
        "y_bar = sum(y_mpg)/len(y_mpg)\n",
        "a = sum([(y - y_bar) * (x - x_bar) for y, x in list(zip(y_mpg, x_weight))])\n",
        "a /= sum( [ (x-x_bar)**2 for x in x_weight] )\n",
        "b = y_bar - a * x_bar\n",
        "print('a:', a ,'b:', b)"
      ],
      "execution_count": null,
      "outputs": []
    },
    {
      "cell_type": "code",
      "metadata": {
        "id": "5GPELL6Kfzo8"
      },
      "source": [
        "line_x = np.arange(min(x_weight),max(x_weight), 0.01)\n",
        "line_y = a*line_x + b"
      ],
      "execution_count": null,
      "outputs": []
    },
    {
      "cell_type": "code",
      "metadata": {
        "id": "nFvPQuyshACA"
      },
      "source": [
        "plt.figure(figsize=(12,6))\n",
        "plt.plot(line_x, line_y, 'r-')\n",
        "plt.plot(x_weight,y_mpg,'bo')\n",
        "plt.xlabel('weight')\n",
        "plt.ylabel('mpg')\n",
        "plt.show()"
      ],
      "execution_count": null,
      "outputs": []
    },
    {
      "cell_type": "code",
      "metadata": {
        "id": "BZx_FhQ_jm62"
      },
      "source": [
        "X_weigth = df[['weight']]\n",
        "Y_mpg = df['mpg']"
      ],
      "execution_count": null,
      "outputs": []
    },
    {
      "cell_type": "code",
      "metadata": {
        "id": "UFCqbpqNiLNe"
      },
      "source": [
        "from sklearn.model_selection import train_test_split\n",
        "x_train, x_test, y_train, y_test = train_test_split(X_weigth, Y_mpg, test_size = 0.3)"
      ],
      "execution_count": null,
      "outputs": []
    },
    {
      "cell_type": "code",
      "metadata": {
        "id": "Xt_rYILqhOQI"
      },
      "source": [
        "from sklearn.linear_model import LinearRegression\n",
        "lr = LinearRegression()\n",
        "lr.fit(x_train, y_train)"
      ],
      "execution_count": null,
      "outputs": []
    },
    {
      "cell_type": "code",
      "metadata": {
        "id": "79mAoZUWiAmw"
      },
      "source": [
        "print(lr.coef_, lr.intercept_)\n",
        "line_x = np.arange(min(x_weight),max(x_weight), 0.01)\n",
        "line_y = lr.coef_*line_x + lr.intercept_"
      ],
      "execution_count": null,
      "outputs": []
    },
    {
      "cell_type": "code",
      "metadata": {
        "id": "sUvUR0TRjzI3"
      },
      "source": [
        "plt.figure(figsize=(12,6))\n",
        "plt.plot(line_x, line_y, 'r-')\n",
        "plt.plot(X_weigth,Y_mpg,'bo')\n",
        "plt.xlabel('weight')\n",
        "plt.ylabel('mpg')\n",
        "plt.show()"
      ],
      "execution_count": null,
      "outputs": []
    },
    {
      "cell_type": "markdown",
      "metadata": {
        "id": "ZoESaBpNlqP0"
      },
      "source": [
        "#TensorFlow 활용 회귀선 구하기 "
      ]
    },
    {
      "cell_type": "code",
      "metadata": {
        "id": "rxN371GIl8mk"
      },
      "source": [
        "import tensorflow as tf\n",
        "import random"
      ],
      "execution_count": null,
      "outputs": []
    },
    {
      "cell_type": "code",
      "metadata": {
        "id": "zi-Nz0g-kMPV"
      },
      "source": [
        "#y = ax + b\n",
        "x_weight = df['weight']  # Series\n",
        "X = x_weight.to_list()   # List 변환\n",
        "y_mpg = df['mpg']\n",
        "Y = y_mpg.to_list()\n",
        "\n",
        "a = tf.Variable(random.random())\n",
        "b = tf.Variable(random.random())"
      ],
      "execution_count": null,
      "outputs": []
    },
    {
      "cell_type": "code",
      "metadata": {
        "id": "DD-vYqEBmNbs"
      },
      "source": [
        "def calculate_loss():\n",
        "  y_pred = a * X + b\n",
        "  loss = tf.reduce_mean((Y - y_pred) ** 2)\n",
        "  return loss"
      ],
      "execution_count": null,
      "outputs": []
    },
    {
      "cell_type": "code",
      "metadata": {
        "id": "Qo3xfq3KmTMf"
      },
      "source": [
        "optimizer= tf.keras.optimizers.Adam(lr=0.1)\n",
        "\n",
        "for i in range(1000):\n",
        "  optimizer.minimize(calculate_loss, [a,b])\n",
        "\n",
        "  if i % 100 == 99:\n",
        "    print(i, a.numpy(), b.numpy(), calculate_loss().numpy())"
      ],
      "execution_count": null,
      "outputs": []
    },
    {
      "cell_type": "code",
      "metadata": {
        "id": "wCoaO3Nvntdk"
      },
      "source": [
        "line_x = np.arange(min(X),max(X), 0.01)\n",
        "line_y = a * line_x +b"
      ],
      "execution_count": null,
      "outputs": []
    },
    {
      "cell_type": "code",
      "metadata": {
        "id": "ugYZFYwbxneM"
      },
      "source": [
        "plt.figure(figsize=(12,6))\n",
        "plt.plot(line_x, line_y, 'r-')\n",
        "plt.plot(X_weigth,Y_mpg,'bo')\n",
        "plt.xlabel('weight')\n",
        "plt.ylabel('mpg')\n",
        "plt.show()"
      ],
      "execution_count": null,
      "outputs": []
    },
    {
      "cell_type": "code",
      "metadata": {
        "id": "I-7hvZb_x5B_"
      },
      "source": [
        ""
      ],
      "execution_count": null,
      "outputs": []
    }
  ]
}