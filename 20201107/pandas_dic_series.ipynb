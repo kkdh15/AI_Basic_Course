{
 "metadata": {
  "language_info": {
   "codemirror_mode": {
    "name": "ipython",
    "version": 3
   },
   "file_extension": ".py",
   "mimetype": "text/x-python",
   "name": "python",
   "nbconvert_exporter": "python",
   "pygments_lexer": "ipython3",
   "version": "3.7.9-final"
  },
  "orig_nbformat": 2,
  "kernelspec": {
   "name": "Python 3.7.9 64-bit ('python_3.7': conda)",
   "display_name": "Python 3.7.9 64-bit ('python_3.7': conda)",
   "metadata": {
    "interpreter": {
     "hash": "2ef9295e5707b050a7247f8aef1527b1df91510008d346980af256f412b3227d"
    }
   }
  }
 },
 "nbformat": 4,
 "nbformat_minor": 2,
 "cells": [
  {
   "cell_type": "code",
   "execution_count": 1,
   "metadata": {},
   "outputs": [],
   "source": [
    "import numpy as np\n",
    "import pandas as pd"
   ]
  },
  {
   "cell_type": "code",
   "execution_count": 2,
   "metadata": {},
   "outputs": [
    {
     "output_type": "execute_result",
     "data": {
      "text/plain": [
       "a    0.947212\n",
       "b    1.371441\n",
       "c   -0.083996\n",
       "d    0.134653\n",
       "e    0.126705\n",
       "dtype: float64"
      ]
     },
     "metadata": {},
     "execution_count": 2
    }
   ],
   "source": [
    "sr = pd.Series(np.random.randn(5), index=['a','b','c','d','e'])\n",
    "sr"
   ]
  },
  {
   "cell_type": "code",
   "execution_count": 3,
   "metadata": {},
   "outputs": [
    {
     "output_type": "execute_result",
     "data": {
      "text/plain": [
       "{'a': array([0.78348598]), 'b': array([0.93046365]), 'c': array([0.46248378])}"
      ]
     },
     "metadata": {},
     "execution_count": 3
    }
   ],
   "source": [
    "dict_data = {'a': 1,'b': 2),'c': 3}\n",
    "dict_data"
   ]
  },
  {
   "cell_type": "code",
   "execution_count": null,
   "metadata": {},
   "outputs": [],
   "source": []
  }
 ]
}