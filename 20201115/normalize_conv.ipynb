{
 "metadata": {
  "language_info": {
   "codemirror_mode": {
    "name": "ipython",
    "version": 3
   },
   "file_extension": ".py",
   "mimetype": "text/x-python",
   "name": "python",
   "nbconvert_exporter": "python",
   "pygments_lexer": "ipython3",
   "version": "3.7.9-final"
  },
  "orig_nbformat": 2,
  "kernelspec": {
   "name": "python3",
   "display_name": "Python 3.7.9 64-bit ('python_3.7': conda)",
   "metadata": {
    "interpreter": {
     "hash": "2ef9295e5707b050a7247f8aef1527b1df91510008d346980af256f412b3227d"
    }
   }
  }
 },
 "nbformat": 4,
 "nbformat_minor": 2,
 "cells": [
  {
   "cell_type": "code",
   "execution_count": 1,
   "metadata": {},
   "outputs": [],
   "source": [
    "import pandas as pd\n",
    "import numpy as np\n",
    "from sklearn import preprocessing"
   ]
  },
  {
   "cell_type": "code",
   "execution_count": 2,
   "metadata": {},
   "outputs": [],
   "source": [
    "df = pd.read_csv('./mpg.csv')"
   ]
  },
  {
   "cell_type": "code",
   "execution_count": 12,
   "metadata": {},
   "outputs": [
    {
     "output_type": "execute_result",
     "data": {
      "text/plain": [
       "     mpg  cylinders  displacement  horsepower  weight  acceleration  \\\n",
       "0   18.0          8         307.0         130    3504          12.0   \n",
       "2   18.0          8         318.0         150    3436          11.0   \n",
       "3   16.0          8         304.0         150    3433          12.0   \n",
       "4   17.0          8         302.0         140    3449          10.5   \n",
       "5   15.0          8         429.0         198    4341          10.0   \n",
       "6   14.0          8         454.0         220    4354           9.0   \n",
       "7   14.0          8         440.0         215    4312           8.5   \n",
       "8   14.0          8         455.0         225    4425          10.0   \n",
       "9   15.0          8         390.0         190    3850           8.5   \n",
       "10  15.0          8         383.0         170    3563          10.0   \n",
       "11  14.0          8         340.0         160    3609           8.0   \n",
       "12  15.0          8         400.0         150    3761           9.5   \n",
       "13  14.0          8         455.0         225    3086          10.0   \n",
       "14  24.0          4         113.0          95    2372          15.0   \n",
       "15  22.0          6         198.0          95    2833          15.5   \n",
       "16  18.0          6         199.0          97    2774          15.5   \n",
       "17  21.0          6         200.0          85    2587          16.0   \n",
       "18  27.0          4          97.0          88    2130          14.5   \n",
       "19  26.0          4          97.0          46    1835          20.5   \n",
       "20  25.0          4         110.0          87    2672          17.5   \n",
       "\n",
       "    model_year  origin                          name  \n",
       "0           70     usa     chevrolet chevelle malibu  \n",
       "2           70     usa            plymouth satellite  \n",
       "3           70     usa                 amc rebel sst  \n",
       "4           70     usa                   ford torino  \n",
       "5           70     usa              ford galaxie 500  \n",
       "6           70     usa              chevrolet impala  \n",
       "7           70     usa             plymouth fury iii  \n",
       "8           70     usa              pontiac catalina  \n",
       "9           70     usa            amc ambassador dpl  \n",
       "10          70     usa           dodge challenger se  \n",
       "11          70     usa            plymouth 'cuda 340  \n",
       "12          70     usa         chevrolet monte carlo  \n",
       "13          70     usa       buick estate wagon (sw)  \n",
       "14          70   japan         toyota corona mark ii  \n",
       "15          70     usa               plymouth duster  \n",
       "16          70     usa                    amc hornet  \n",
       "17          70     usa                 ford maverick  \n",
       "18          70   japan                  datsun pl510  \n",
       "19          70  europe  volkswagen 1131 deluxe sedan  \n",
       "20          70  europe                   peugeot 504  "
      ],
      "text/html": "<div>\n<style scoped>\n    .dataframe tbody tr th:only-of-type {\n        vertical-align: middle;\n    }\n\n    .dataframe tbody tr th {\n        vertical-align: top;\n    }\n\n    .dataframe thead th {\n        text-align: right;\n    }\n</style>\n<table border=\"1\" class=\"dataframe\">\n  <thead>\n    <tr style=\"text-align: right;\">\n      <th></th>\n      <th>mpg</th>\n      <th>cylinders</th>\n      <th>displacement</th>\n      <th>horsepower</th>\n      <th>weight</th>\n      <th>acceleration</th>\n      <th>model_year</th>\n      <th>origin</th>\n      <th>name</th>\n    </tr>\n  </thead>\n  <tbody>\n    <tr>\n      <th>0</th>\n      <td>18.0</td>\n      <td>8</td>\n      <td>307.0</td>\n      <td>130</td>\n      <td>3504</td>\n      <td>12.0</td>\n      <td>70</td>\n      <td>usa</td>\n      <td>chevrolet chevelle malibu</td>\n    </tr>\n    <tr>\n      <th>2</th>\n      <td>18.0</td>\n      <td>8</td>\n      <td>318.0</td>\n      <td>150</td>\n      <td>3436</td>\n      <td>11.0</td>\n      <td>70</td>\n      <td>usa</td>\n      <td>plymouth satellite</td>\n    </tr>\n    <tr>\n      <th>3</th>\n      <td>16.0</td>\n      <td>8</td>\n      <td>304.0</td>\n      <td>150</td>\n      <td>3433</td>\n      <td>12.0</td>\n      <td>70</td>\n      <td>usa</td>\n      <td>amc rebel sst</td>\n    </tr>\n    <tr>\n      <th>4</th>\n      <td>17.0</td>\n      <td>8</td>\n      <td>302.0</td>\n      <td>140</td>\n      <td>3449</td>\n      <td>10.5</td>\n      <td>70</td>\n      <td>usa</td>\n      <td>ford torino</td>\n    </tr>\n    <tr>\n      <th>5</th>\n      <td>15.0</td>\n      <td>8</td>\n      <td>429.0</td>\n      <td>198</td>\n      <td>4341</td>\n      <td>10.0</td>\n      <td>70</td>\n      <td>usa</td>\n      <td>ford galaxie 500</td>\n    </tr>\n    <tr>\n      <th>6</th>\n      <td>14.0</td>\n      <td>8</td>\n      <td>454.0</td>\n      <td>220</td>\n      <td>4354</td>\n      <td>9.0</td>\n      <td>70</td>\n      <td>usa</td>\n      <td>chevrolet impala</td>\n    </tr>\n    <tr>\n      <th>7</th>\n      <td>14.0</td>\n      <td>8</td>\n      <td>440.0</td>\n      <td>215</td>\n      <td>4312</td>\n      <td>8.5</td>\n      <td>70</td>\n      <td>usa</td>\n      <td>plymouth fury iii</td>\n    </tr>\n    <tr>\n      <th>8</th>\n      <td>14.0</td>\n      <td>8</td>\n      <td>455.0</td>\n      <td>225</td>\n      <td>4425</td>\n      <td>10.0</td>\n      <td>70</td>\n      <td>usa</td>\n      <td>pontiac catalina</td>\n    </tr>\n    <tr>\n      <th>9</th>\n      <td>15.0</td>\n      <td>8</td>\n      <td>390.0</td>\n      <td>190</td>\n      <td>3850</td>\n      <td>8.5</td>\n      <td>70</td>\n      <td>usa</td>\n      <td>amc ambassador dpl</td>\n    </tr>\n    <tr>\n      <th>10</th>\n      <td>15.0</td>\n      <td>8</td>\n      <td>383.0</td>\n      <td>170</td>\n      <td>3563</td>\n      <td>10.0</td>\n      <td>70</td>\n      <td>usa</td>\n      <td>dodge challenger se</td>\n    </tr>\n    <tr>\n      <th>11</th>\n      <td>14.0</td>\n      <td>8</td>\n      <td>340.0</td>\n      <td>160</td>\n      <td>3609</td>\n      <td>8.0</td>\n      <td>70</td>\n      <td>usa</td>\n      <td>plymouth 'cuda 340</td>\n    </tr>\n    <tr>\n      <th>12</th>\n      <td>15.0</td>\n      <td>8</td>\n      <td>400.0</td>\n      <td>150</td>\n      <td>3761</td>\n      <td>9.5</td>\n      <td>70</td>\n      <td>usa</td>\n      <td>chevrolet monte carlo</td>\n    </tr>\n    <tr>\n      <th>13</th>\n      <td>14.0</td>\n      <td>8</td>\n      <td>455.0</td>\n      <td>225</td>\n      <td>3086</td>\n      <td>10.0</td>\n      <td>70</td>\n      <td>usa</td>\n      <td>buick estate wagon (sw)</td>\n    </tr>\n    <tr>\n      <th>14</th>\n      <td>24.0</td>\n      <td>4</td>\n      <td>113.0</td>\n      <td>95</td>\n      <td>2372</td>\n      <td>15.0</td>\n      <td>70</td>\n      <td>japan</td>\n      <td>toyota corona mark ii</td>\n    </tr>\n    <tr>\n      <th>15</th>\n      <td>22.0</td>\n      <td>6</td>\n      <td>198.0</td>\n      <td>95</td>\n      <td>2833</td>\n      <td>15.5</td>\n      <td>70</td>\n      <td>usa</td>\n      <td>plymouth duster</td>\n    </tr>\n    <tr>\n      <th>16</th>\n      <td>18.0</td>\n      <td>6</td>\n      <td>199.0</td>\n      <td>97</td>\n      <td>2774</td>\n      <td>15.5</td>\n      <td>70</td>\n      <td>usa</td>\n      <td>amc hornet</td>\n    </tr>\n    <tr>\n      <th>17</th>\n      <td>21.0</td>\n      <td>6</td>\n      <td>200.0</td>\n      <td>85</td>\n      <td>2587</td>\n      <td>16.0</td>\n      <td>70</td>\n      <td>usa</td>\n      <td>ford maverick</td>\n    </tr>\n    <tr>\n      <th>18</th>\n      <td>27.0</td>\n      <td>4</td>\n      <td>97.0</td>\n      <td>88</td>\n      <td>2130</td>\n      <td>14.5</td>\n      <td>70</td>\n      <td>japan</td>\n      <td>datsun pl510</td>\n    </tr>\n    <tr>\n      <th>19</th>\n      <td>26.0</td>\n      <td>4</td>\n      <td>97.0</td>\n      <td>46</td>\n      <td>1835</td>\n      <td>20.5</td>\n      <td>70</td>\n      <td>europe</td>\n      <td>volkswagen 1131 deluxe sedan</td>\n    </tr>\n    <tr>\n      <th>20</th>\n      <td>25.0</td>\n      <td>4</td>\n      <td>110.0</td>\n      <td>87</td>\n      <td>2672</td>\n      <td>17.5</td>\n      <td>70</td>\n      <td>europe</td>\n      <td>peugeot 504</td>\n    </tr>\n  </tbody>\n</table>\n</div>"
     },
     "metadata": {},
     "execution_count": 12
    }
   ],
   "source": [
    "df['horsepower'].replace('a',np.nan,inplace=True)\n",
    "df.dropna(subset=['horsepower'],axis=0,inplace=True)\n",
    "df['horsepower'] = df['horsepower'].astype('int64')\n",
    "df.head(20)"
   ]
  },
  {
   "cell_type": "code",
   "execution_count": 13,
   "metadata": {},
   "outputs": [
    {
     "output_type": "stream",
     "name": "stdout",
     "text": [
      "count    391.000000\nmean     104.314578\nstd       38.418088\nmin       46.000000\n25%       75.000000\n50%       93.000000\n75%      125.000000\nmax      230.000000\nName: horsepower, dtype: float64\n"
     ]
    }
   ],
   "source": [
    "print(df.horsepower.describe())"
   ]
  },
  {
   "cell_type": "code",
   "execution_count": 14,
   "metadata": {},
   "outputs": [
    {
     "output_type": "stream",
     "name": "stdout",
     "text": [
      "mpg             float64\ncylinders         int64\ndisplacement    float64\nhorsepower        int64\nweight            int64\nacceleration    float64\nmodel_year        int64\norigin           object\nname             object\ndtype: object\ncount    391.000000\nmean     104.314578\nstd       38.418088\nmin       46.000000\n25%       75.000000\n50%       93.000000\n75%      125.000000\nmax      230.000000\nName: horsepower, dtype: float64\n"
     ]
    }
   ],
   "source": [
    "print(df.dtypes)\n",
    "print(df.horsepower.describe())"
   ]
  },
  {
   "cell_type": "code",
   "execution_count": 15,
   "metadata": {},
   "outputs": [],
   "source": [
    "df.horsepower = df.horsepower / abs(df.horsepower.max())"
   ]
  },
  {
   "cell_type": "code",
   "execution_count": 16,
   "metadata": {},
   "outputs": [
    {
     "output_type": "execute_result",
     "data": {
      "text/plain": [
       "    mpg  cylinders  displacement  horsepower  weight  acceleration  \\\n",
       "0  18.0          8         307.0    0.565217    3504          12.0   \n",
       "2  18.0          8         318.0    0.652174    3436          11.0   \n",
       "3  16.0          8         304.0    0.652174    3433          12.0   \n",
       "4  17.0          8         302.0    0.608696    3449          10.5   \n",
       "5  15.0          8         429.0    0.860870    4341          10.0   \n",
       "\n",
       "   model_year origin                       name  \n",
       "0          70    usa  chevrolet chevelle malibu  \n",
       "2          70    usa         plymouth satellite  \n",
       "3          70    usa              amc rebel sst  \n",
       "4          70    usa                ford torino  \n",
       "5          70    usa           ford galaxie 500  "
      ],
      "text/html": "<div>\n<style scoped>\n    .dataframe tbody tr th:only-of-type {\n        vertical-align: middle;\n    }\n\n    .dataframe tbody tr th {\n        vertical-align: top;\n    }\n\n    .dataframe thead th {\n        text-align: right;\n    }\n</style>\n<table border=\"1\" class=\"dataframe\">\n  <thead>\n    <tr style=\"text-align: right;\">\n      <th></th>\n      <th>mpg</th>\n      <th>cylinders</th>\n      <th>displacement</th>\n      <th>horsepower</th>\n      <th>weight</th>\n      <th>acceleration</th>\n      <th>model_year</th>\n      <th>origin</th>\n      <th>name</th>\n    </tr>\n  </thead>\n  <tbody>\n    <tr>\n      <th>0</th>\n      <td>18.0</td>\n      <td>8</td>\n      <td>307.0</td>\n      <td>0.565217</td>\n      <td>3504</td>\n      <td>12.0</td>\n      <td>70</td>\n      <td>usa</td>\n      <td>chevrolet chevelle malibu</td>\n    </tr>\n    <tr>\n      <th>2</th>\n      <td>18.0</td>\n      <td>8</td>\n      <td>318.0</td>\n      <td>0.652174</td>\n      <td>3436</td>\n      <td>11.0</td>\n      <td>70</td>\n      <td>usa</td>\n      <td>plymouth satellite</td>\n    </tr>\n    <tr>\n      <th>3</th>\n      <td>16.0</td>\n      <td>8</td>\n      <td>304.0</td>\n      <td>0.652174</td>\n      <td>3433</td>\n      <td>12.0</td>\n      <td>70</td>\n      <td>usa</td>\n      <td>amc rebel sst</td>\n    </tr>\n    <tr>\n      <th>4</th>\n      <td>17.0</td>\n      <td>8</td>\n      <td>302.0</td>\n      <td>0.608696</td>\n      <td>3449</td>\n      <td>10.5</td>\n      <td>70</td>\n      <td>usa</td>\n      <td>ford torino</td>\n    </tr>\n    <tr>\n      <th>5</th>\n      <td>15.0</td>\n      <td>8</td>\n      <td>429.0</td>\n      <td>0.860870</td>\n      <td>4341</td>\n      <td>10.0</td>\n      <td>70</td>\n      <td>usa</td>\n      <td>ford galaxie 500</td>\n    </tr>\n  </tbody>\n</table>\n</div>"
     },
     "metadata": {},
     "execution_count": 16
    }
   ],
   "source": [
    "df.head()"
   ]
  },
  {
   "cell_type": "code",
   "execution_count": 19,
   "metadata": {},
   "outputs": [],
   "source": [
    "#정규화\n",
    "min_x = df.horsepower - df.horsepower.min()\n",
    "max_x = df.horsepower.max() - df.horsepower.min()\n",
    "df['horsepower'] = min_x / max_x"
   ]
  },
  {
   "cell_type": "code",
   "execution_count": 23,
   "metadata": {},
   "outputs": [
    {
     "output_type": "stream",
     "name": "stdout",
     "text": [
      "0      0.456522\n2      0.565217\n3      0.565217\n4      0.510870\n5      0.826087\n         ...   \n393    0.217391\n394    0.032609\n395    0.206522\n396    0.179348\n397    0.195652\nName: horsepower, Length: 391, dtype: float64\ncount    391.000000\nmean       0.316927\nstd        0.208794\nmin        0.000000\n25%        0.157609\n50%        0.255435\n75%        0.429348\nmax        1.000000\nName: horsepower, dtype: float64\n"
     ]
    }
   ],
   "source": [
    "print(df.horsepower)\n",
    "print(df.horsepower.describe())"
   ]
  },
  {
   "cell_type": "code",
   "execution_count": null,
   "metadata": {},
   "outputs": [],
   "source": []
  }
 ]
}