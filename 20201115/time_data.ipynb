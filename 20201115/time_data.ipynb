{
 "metadata": {
  "language_info": {
   "codemirror_mode": {
    "name": "ipython",
    "version": 3
   },
   "file_extension": ".py",
   "mimetype": "text/x-python",
   "name": "python",
   "nbconvert_exporter": "python",
   "pygments_lexer": "ipython3",
   "version": "3.7.9-final"
  },
  "orig_nbformat": 2,
  "kernelspec": {
   "name": "python3",
   "display_name": "Python 3.7.9 64-bit ('python_3.7': conda)",
   "metadata": {
    "interpreter": {
     "hash": "2ef9295e5707b050a7247f8aef1527b1df91510008d346980af256f412b3227d"
    }
   }
  }
 },
 "nbformat": 4,
 "nbformat_minor": 2,
 "cells": [
  {
   "cell_type": "code",
   "execution_count": 37,
   "metadata": {},
   "outputs": [],
   "source": [
    "import pandas as pd"
   ]
  },
  {
   "cell_type": "code",
   "execution_count": 38,
   "metadata": {},
   "outputs": [],
   "source": [
    "df = pd.read_csv('./stock-data.csv')"
   ]
  },
  {
   "cell_type": "code",
   "execution_count": 39,
   "metadata": {},
   "outputs": [
    {
     "output_type": "execute_result",
     "data": {
      "text/plain": [
       "         Date  Close  Start   High    Low  Volume\n",
       "0  2018-07-02  10100  10850  10900  10000  137977\n",
       "1  2018-06-29  10700  10550  10900   9990  170253\n",
       "2  2018-06-28  10400  10900  10950  10150  155769\n",
       "3  2018-06-27  10900  10800  11050  10500  133548\n",
       "4  2018-06-26  10800  10900  11000  10700   63039"
      ],
      "text/html": "<div>\n<style scoped>\n    .dataframe tbody tr th:only-of-type {\n        vertical-align: middle;\n    }\n\n    .dataframe tbody tr th {\n        vertical-align: top;\n    }\n\n    .dataframe thead th {\n        text-align: right;\n    }\n</style>\n<table border=\"1\" class=\"dataframe\">\n  <thead>\n    <tr style=\"text-align: right;\">\n      <th></th>\n      <th>Date</th>\n      <th>Close</th>\n      <th>Start</th>\n      <th>High</th>\n      <th>Low</th>\n      <th>Volume</th>\n    </tr>\n  </thead>\n  <tbody>\n    <tr>\n      <th>0</th>\n      <td>2018-07-02</td>\n      <td>10100</td>\n      <td>10850</td>\n      <td>10900</td>\n      <td>10000</td>\n      <td>137977</td>\n    </tr>\n    <tr>\n      <th>1</th>\n      <td>2018-06-29</td>\n      <td>10700</td>\n      <td>10550</td>\n      <td>10900</td>\n      <td>9990</td>\n      <td>170253</td>\n    </tr>\n    <tr>\n      <th>2</th>\n      <td>2018-06-28</td>\n      <td>10400</td>\n      <td>10900</td>\n      <td>10950</td>\n      <td>10150</td>\n      <td>155769</td>\n    </tr>\n    <tr>\n      <th>3</th>\n      <td>2018-06-27</td>\n      <td>10900</td>\n      <td>10800</td>\n      <td>11050</td>\n      <td>10500</td>\n      <td>133548</td>\n    </tr>\n    <tr>\n      <th>4</th>\n      <td>2018-06-26</td>\n      <td>10800</td>\n      <td>10900</td>\n      <td>11000</td>\n      <td>10700</td>\n      <td>63039</td>\n    </tr>\n  </tbody>\n</table>\n</div>"
     },
     "metadata": {},
     "execution_count": 39
    }
   ],
   "source": [
    "df.head()"
   ]
  },
  {
   "cell_type": "code",
   "execution_count": 40,
   "metadata": {},
   "outputs": [
    {
     "output_type": "stream",
     "name": "stdout",
     "text": [
      "<class 'pandas.core.frame.DataFrame'>\nRangeIndex: 20 entries, 0 to 19\nData columns (total 6 columns):\n #   Column  Non-Null Count  Dtype \n---  ------  --------------  ----- \n 0   Date    20 non-null     object\n 1   Close   20 non-null     int64 \n 2   Start   20 non-null     int64 \n 3   High    20 non-null     int64 \n 4   Low     20 non-null     int64 \n 5   Volume  20 non-null     int64 \ndtypes: int64(5), object(1)\nmemory usage: 1.1+ KB\n"
     ]
    }
   ],
   "source": [
    "df.info()"
   ]
  },
  {
   "cell_type": "code",
   "execution_count": 41,
   "metadata": {},
   "outputs": [],
   "source": [
    "df['Date_new'] = pd.to_datetime(df['Date'])"
   ]
  },
  {
   "cell_type": "code",
   "execution_count": 42,
   "metadata": {},
   "outputs": [
    {
     "output_type": "stream",
     "name": "stdout",
     "text": [
      "<class 'pandas.core.frame.DataFrame'>\nRangeIndex: 20 entries, 0 to 19\nData columns (total 7 columns):\n #   Column    Non-Null Count  Dtype         \n---  ------    --------------  -----         \n 0   Date      20 non-null     object        \n 1   Close     20 non-null     int64         \n 2   Start     20 non-null     int64         \n 3   High      20 non-null     int64         \n 4   Low       20 non-null     int64         \n 5   Volume    20 non-null     int64         \n 6   Date_new  20 non-null     datetime64[ns]\ndtypes: datetime64[ns](1), int64(5), object(1)\nmemory usage: 1.2+ KB\n"
     ]
    },
    {
     "output_type": "execute_result",
     "data": {
      "text/plain": [
       "         Date  Close  Start   High    Low  Volume   Date_new\n",
       "0  2018-07-02  10100  10850  10900  10000  137977 2018-07-02\n",
       "1  2018-06-29  10700  10550  10900   9990  170253 2018-06-29\n",
       "2  2018-06-28  10400  10900  10950  10150  155769 2018-06-28\n",
       "3  2018-06-27  10900  10800  11050  10500  133548 2018-06-27\n",
       "4  2018-06-26  10800  10900  11000  10700   63039 2018-06-26"
      ],
      "text/html": "<div>\n<style scoped>\n    .dataframe tbody tr th:only-of-type {\n        vertical-align: middle;\n    }\n\n    .dataframe tbody tr th {\n        vertical-align: top;\n    }\n\n    .dataframe thead th {\n        text-align: right;\n    }\n</style>\n<table border=\"1\" class=\"dataframe\">\n  <thead>\n    <tr style=\"text-align: right;\">\n      <th></th>\n      <th>Date</th>\n      <th>Close</th>\n      <th>Start</th>\n      <th>High</th>\n      <th>Low</th>\n      <th>Volume</th>\n      <th>Date_new</th>\n    </tr>\n  </thead>\n  <tbody>\n    <tr>\n      <th>0</th>\n      <td>2018-07-02</td>\n      <td>10100</td>\n      <td>10850</td>\n      <td>10900</td>\n      <td>10000</td>\n      <td>137977</td>\n      <td>2018-07-02</td>\n    </tr>\n    <tr>\n      <th>1</th>\n      <td>2018-06-29</td>\n      <td>10700</td>\n      <td>10550</td>\n      <td>10900</td>\n      <td>9990</td>\n      <td>170253</td>\n      <td>2018-06-29</td>\n    </tr>\n    <tr>\n      <th>2</th>\n      <td>2018-06-28</td>\n      <td>10400</td>\n      <td>10900</td>\n      <td>10950</td>\n      <td>10150</td>\n      <td>155769</td>\n      <td>2018-06-28</td>\n    </tr>\n    <tr>\n      <th>3</th>\n      <td>2018-06-27</td>\n      <td>10900</td>\n      <td>10800</td>\n      <td>11050</td>\n      <td>10500</td>\n      <td>133548</td>\n      <td>2018-06-27</td>\n    </tr>\n    <tr>\n      <th>4</th>\n      <td>2018-06-26</td>\n      <td>10800</td>\n      <td>10900</td>\n      <td>11000</td>\n      <td>10700</td>\n      <td>63039</td>\n      <td>2018-06-26</td>\n    </tr>\n  </tbody>\n</table>\n</div>"
     },
     "metadata": {},
     "execution_count": 42
    }
   ],
   "source": [
    "df.info()\n",
    "df.head()"
   ]
  },
  {
   "cell_type": "code",
   "execution_count": 43,
   "metadata": {},
   "outputs": [],
   "source": [
    "df.set_index('Date_new',inplace = True)\n",
    "# df.drop('Date',axis=1,inplace = True)"
   ]
  },
  {
   "cell_type": "code",
   "execution_count": 44,
   "metadata": {},
   "outputs": [
    {
     "output_type": "stream",
     "name": "stdout",
     "text": [
      "                  Date  Close  Start   High    Low  Volume\nDate_new                                                  \n2018-07-02  2018-07-02  10100  10850  10900  10000  137977\n2018-06-29  2018-06-29  10700  10550  10900   9990  170253\n2018-06-28  2018-06-28  10400  10900  10950  10150  155769\n2018-06-27  2018-06-27  10900  10800  11050  10500  133548\n2018-06-26  2018-06-26  10800  10900  11000  10700   63039\n\n\n<class 'pandas.core.frame.DataFrame'>\nDatetimeIndex: 20 entries, 2018-07-02 to 2018-06-01\nData columns (total 6 columns):\n #   Column  Non-Null Count  Dtype \n---  ------  --------------  ----- \n 0   Date    20 non-null     object\n 1   Close   20 non-null     int64 \n 2   Start   20 non-null     int64 \n 3   High    20 non-null     int64 \n 4   Low     20 non-null     int64 \n 5   Volume  20 non-null     int64 \ndtypes: int64(5), object(1)\nmemory usage: 1.1+ KB\nNone\n"
     ]
    }
   ],
   "source": [
    "print(df.head())\n",
    "print('\\n')\n",
    "print(df.info())"
   ]
  },
  {
   "cell_type": "code",
   "execution_count": 45,
   "metadata": {},
   "outputs": [
    {
     "output_type": "stream",
     "name": "stdout",
     "text": [
      "PeriodIndex(['2018-07-02', '2018-06-29', '2018-06-28', '2018-06-27',\n             '2018-06-26', '2018-06-25', '2018-06-22', '2018-06-21',\n             '2018-06-20', '2018-06-19', '2018-06-18', '2018-06-15',\n             '2018-06-14', '2018-06-12', '2018-06-11', '2018-06-08',\n             '2018-06-07', '2018-06-05', '2018-06-04', '2018-06-01'],\n            dtype='period[D]', name='Date_new', freq='D')\n"
     ]
    }
   ],
   "source": [
    "Date_day = df.index.to_period(freq='D') #DAY\n",
    "print(Date_day)\n"
   ]
  },
  {
   "cell_type": "code",
   "execution_count": 46,
   "metadata": {},
   "outputs": [
    {
     "output_type": "stream",
     "name": "stdout",
     "text": [
      "PeriodIndex(['2018-07', '2018-06', '2018-06', '2018-06', '2018-06', '2018-06',\n             '2018-06', '2018-06', '2018-06', '2018-06', '2018-06', '2018-06',\n             '2018-06', '2018-06', '2018-06', '2018-06', '2018-06', '2018-06',\n             '2018-06', '2018-06'],\n            dtype='period[M]', name='Date_new', freq='M')\n"
     ]
    }
   ],
   "source": [
    "Date_day = df.index.to_period(freq='M') #month\n",
    "print(Date_day)\n"
   ]
  },
  {
   "cell_type": "code",
   "execution_count": 47,
   "metadata": {},
   "outputs": [
    {
     "output_type": "stream",
     "name": "stdout",
     "text": [
      "PeriodIndex(['2018', '2018', '2018', '2018', '2018', '2018', '2018', '2018',\n             '2018', '2018', '2018', '2018', '2018', '2018', '2018', '2018',\n             '2018', '2018', '2018', '2018'],\n            dtype='period[A-DEC]', name='Date_new', freq='A-DEC')\n"
     ]
    }
   ],
   "source": [
    "Date_day = df.index.to_period(freq='Y') #year\n",
    "print(Date_day)\n"
   ]
  },
  {
   "cell_type": "code",
   "execution_count": 48,
   "metadata": {},
   "outputs": [
    {
     "output_type": "stream",
     "name": "stdout",
     "text": [
      "DatetimeIndex(['2020-12-01 00:00:00+09:00', '2021-01-01 00:00:00+09:00',\n               '2021-02-01 00:00:00+09:00', '2021-03-01 00:00:00+09:00',\n               '2021-04-01 00:00:00+09:00', '2021-05-01 00:00:00+09:00'],\n              dtype='datetime64[ns, Asia/Tokyo]', freq='MS')\n"
     ]
    }
   ],
   "source": [
    "time_ms = pd.date_range(start='2020-11-15',end = None,periods = 6,freq = 'MS',tz = 'Asia/Tokyo')\n",
    "print(time_ms)\n"
   ]
  },
  {
   "cell_type": "code",
   "execution_count": 49,
   "metadata": {},
   "outputs": [
    {
     "output_type": "stream",
     "name": "stdout",
     "text": [
      "DatetimeIndex(['2020-11-30 00:00:00+09:00', '2020-12-31 00:00:00+09:00',\n               '2021-01-31 00:00:00+09:00', '2021-02-28 00:00:00+09:00',\n               '2021-03-31 00:00:00+09:00', '2021-04-30 00:00:00+09:00'],\n              dtype='datetime64[ns, Asia/Tokyo]', freq='M')\n"
     ]
    }
   ],
   "source": [
    "time_m = pd.date_range(start='2020-11-15',end = None,periods = 6,freq = 'M',tz = 'Asia/Tokyo')\n",
    "print(time_m)"
   ]
  },
  {
   "cell_type": "code",
   "execution_count": 50,
   "metadata": {},
   "outputs": [
    {
     "output_type": "stream",
     "name": "stdout",
     "text": [
      "DatetimeIndex(['2020-11-30 00:00:00+09:00', '2021-02-28 00:00:00+09:00',\n               '2021-05-31 00:00:00+09:00', '2021-08-31 00:00:00+09:00',\n               '2021-11-30 00:00:00+09:00', '2022-02-28 00:00:00+09:00'],\n              dtype='datetime64[ns, Asia/Tokyo]', freq='3M')\n"
     ]
    }
   ],
   "source": [
    "time_3m = pd.date_range(start='2020-11-15',end = None,periods = 6,freq = '3M',tz = 'Asia/Tokyo')\n",
    "print(time_3m)"
   ]
  },
  {
   "cell_type": "code",
   "execution_count": 51,
   "metadata": {},
   "outputs": [
    {
     "output_type": "stream",
     "name": "stdout",
     "text": [
      "DatetimeIndex(['2020-11-15 00:00:00+09:00', '2020-11-22 00:00:00+09:00',\n               '2020-11-29 00:00:00+09:00', '2020-12-06 00:00:00+09:00',\n               '2020-12-13 00:00:00+09:00', '2020-12-20 00:00:00+09:00'],\n              dtype='datetime64[ns, Asia/Tokyo]', freq='W-SUN')\n"
     ]
    }
   ],
   "source": [
    "time_w = pd.date_range(start='2020-11-15',end = None,periods = 6,freq = 'W',tz = 'Asia/Tokyo')\n",
    "print(time_w)"
   ]
  },
  {
   "cell_type": "code",
   "execution_count": 52,
   "metadata": {},
   "outputs": [
    {
     "output_type": "stream",
     "name": "stdout",
     "text": [
      "DatetimeIndex(['2020-11-15 00:00:00+09:00', '2020-11-15 01:00:00+09:00',\n               '2020-11-15 02:00:00+09:00', '2020-11-15 03:00:00+09:00',\n               '2020-11-15 04:00:00+09:00', '2020-11-15 05:00:00+09:00'],\n              dtype='datetime64[ns, Asia/Tokyo]', freq='H')\n"
     ]
    }
   ],
   "source": [
    "time_h = pd.date_range(start='2020-11-15',end = None,periods = 6,freq = 'H',tz = 'Asia/Tokyo')\n",
    "print(time_h)"
   ]
  },
  {
   "cell_type": "code",
   "execution_count": 53,
   "metadata": {},
   "outputs": [
    {
     "output_type": "execute_result",
     "data": {
      "text/plain": [
       "                  Date  Close  Start   High    Low  Volume\n",
       "Date_new                                                  \n",
       "2018-07-02  2018-07-02  10100  10850  10900  10000  137977\n",
       "2018-06-29  2018-06-29  10700  10550  10900   9990  170253\n",
       "2018-06-28  2018-06-28  10400  10900  10950  10150  155769\n",
       "2018-06-27  2018-06-27  10900  10800  11050  10500  133548\n",
       "2018-06-26  2018-06-26  10800  10900  11000  10700   63039"
      ],
      "text/html": "<div>\n<style scoped>\n    .dataframe tbody tr th:only-of-type {\n        vertical-align: middle;\n    }\n\n    .dataframe tbody tr th {\n        vertical-align: top;\n    }\n\n    .dataframe thead th {\n        text-align: right;\n    }\n</style>\n<table border=\"1\" class=\"dataframe\">\n  <thead>\n    <tr style=\"text-align: right;\">\n      <th></th>\n      <th>Date</th>\n      <th>Close</th>\n      <th>Start</th>\n      <th>High</th>\n      <th>Low</th>\n      <th>Volume</th>\n    </tr>\n    <tr>\n      <th>Date_new</th>\n      <th></th>\n      <th></th>\n      <th></th>\n      <th></th>\n      <th></th>\n      <th></th>\n    </tr>\n  </thead>\n  <tbody>\n    <tr>\n      <th>2018-07-02</th>\n      <td>2018-07-02</td>\n      <td>10100</td>\n      <td>10850</td>\n      <td>10900</td>\n      <td>10000</td>\n      <td>137977</td>\n    </tr>\n    <tr>\n      <th>2018-06-29</th>\n      <td>2018-06-29</td>\n      <td>10700</td>\n      <td>10550</td>\n      <td>10900</td>\n      <td>9990</td>\n      <td>170253</td>\n    </tr>\n    <tr>\n      <th>2018-06-28</th>\n      <td>2018-06-28</td>\n      <td>10400</td>\n      <td>10900</td>\n      <td>10950</td>\n      <td>10150</td>\n      <td>155769</td>\n    </tr>\n    <tr>\n      <th>2018-06-27</th>\n      <td>2018-06-27</td>\n      <td>10900</td>\n      <td>10800</td>\n      <td>11050</td>\n      <td>10500</td>\n      <td>133548</td>\n    </tr>\n    <tr>\n      <th>2018-06-26</th>\n      <td>2018-06-26</td>\n      <td>10800</td>\n      <td>10900</td>\n      <td>11000</td>\n      <td>10700</td>\n      <td>63039</td>\n    </tr>\n  </tbody>\n</table>\n</div>"
     },
     "metadata": {},
     "execution_count": 53
    }
   ],
   "source": [
    "df.head()"
   ]
  },
  {
   "cell_type": "code",
   "execution_count": 54,
   "metadata": {},
   "outputs": [
    {
     "output_type": "stream",
     "name": "stdout",
     "text": [
      "<class 'pandas.core.frame.DataFrame'>\nDatetimeIndex: 20 entries, 2018-07-02 to 2018-06-01\nData columns (total 6 columns):\n #   Column  Non-Null Count  Dtype         \n---  ------  --------------  -----         \n 0   Date    20 non-null     datetime64[ns]\n 1   Close   20 non-null     int64         \n 2   Start   20 non-null     int64         \n 3   High    20 non-null     int64         \n 4   Low     20 non-null     int64         \n 5   Volume  20 non-null     int64         \ndtypes: datetime64[ns](1), int64(5)\nmemory usage: 1.1 KB\n"
     ]
    }
   ],
   "source": [
    "df['Date'] = pd.to_datetime(df['Date'])\n",
    "df.info()"
   ]
  },
  {
   "cell_type": "code",
   "execution_count": 55,
   "metadata": {},
   "outputs": [],
   "source": [
    "df['Year'] = df['Date'].dt.to_period(freq ='A')\n",
    "df['Month'] = df['Date'].dt.to_period(freq ='M')\n",
    "df['Day'] = df['Date'].dt.to_period(freq ='D')"
   ]
  },
  {
   "cell_type": "code",
   "execution_count": 56,
   "metadata": {},
   "outputs": [
    {
     "output_type": "execute_result",
     "data": {
      "text/plain": [
       "                 Date  Close  Start   High    Low  Volume  Year    Month  \\\n",
       "Date_new                                                                   \n",
       "2018-07-02 2018-07-02  10100  10850  10900  10000  137977  2018  2018-07   \n",
       "2018-06-29 2018-06-29  10700  10550  10900   9990  170253  2018  2018-06   \n",
       "2018-06-28 2018-06-28  10400  10900  10950  10150  155769  2018  2018-06   \n",
       "2018-06-27 2018-06-27  10900  10800  11050  10500  133548  2018  2018-06   \n",
       "2018-06-26 2018-06-26  10800  10900  11000  10700   63039  2018  2018-06   \n",
       "\n",
       "                   Day  \n",
       "Date_new                \n",
       "2018-07-02  2018-07-02  \n",
       "2018-06-29  2018-06-29  \n",
       "2018-06-28  2018-06-28  \n",
       "2018-06-27  2018-06-27  \n",
       "2018-06-26  2018-06-26  "
      ],
      "text/html": "<div>\n<style scoped>\n    .dataframe tbody tr th:only-of-type {\n        vertical-align: middle;\n    }\n\n    .dataframe tbody tr th {\n        vertical-align: top;\n    }\n\n    .dataframe thead th {\n        text-align: right;\n    }\n</style>\n<table border=\"1\" class=\"dataframe\">\n  <thead>\n    <tr style=\"text-align: right;\">\n      <th></th>\n      <th>Date</th>\n      <th>Close</th>\n      <th>Start</th>\n      <th>High</th>\n      <th>Low</th>\n      <th>Volume</th>\n      <th>Year</th>\n      <th>Month</th>\n      <th>Day</th>\n    </tr>\n    <tr>\n      <th>Date_new</th>\n      <th></th>\n      <th></th>\n      <th></th>\n      <th></th>\n      <th></th>\n      <th></th>\n      <th></th>\n      <th></th>\n      <th></th>\n    </tr>\n  </thead>\n  <tbody>\n    <tr>\n      <th>2018-07-02</th>\n      <td>2018-07-02</td>\n      <td>10100</td>\n      <td>10850</td>\n      <td>10900</td>\n      <td>10000</td>\n      <td>137977</td>\n      <td>2018</td>\n      <td>2018-07</td>\n      <td>2018-07-02</td>\n    </tr>\n    <tr>\n      <th>2018-06-29</th>\n      <td>2018-06-29</td>\n      <td>10700</td>\n      <td>10550</td>\n      <td>10900</td>\n      <td>9990</td>\n      <td>170253</td>\n      <td>2018</td>\n      <td>2018-06</td>\n      <td>2018-06-29</td>\n    </tr>\n    <tr>\n      <th>2018-06-28</th>\n      <td>2018-06-28</td>\n      <td>10400</td>\n      <td>10900</td>\n      <td>10950</td>\n      <td>10150</td>\n      <td>155769</td>\n      <td>2018</td>\n      <td>2018-06</td>\n      <td>2018-06-28</td>\n    </tr>\n    <tr>\n      <th>2018-06-27</th>\n      <td>2018-06-27</td>\n      <td>10900</td>\n      <td>10800</td>\n      <td>11050</td>\n      <td>10500</td>\n      <td>133548</td>\n      <td>2018</td>\n      <td>2018-06</td>\n      <td>2018-06-27</td>\n    </tr>\n    <tr>\n      <th>2018-06-26</th>\n      <td>2018-06-26</td>\n      <td>10800</td>\n      <td>10900</td>\n      <td>11000</td>\n      <td>10700</td>\n      <td>63039</td>\n      <td>2018</td>\n      <td>2018-06</td>\n      <td>2018-06-26</td>\n    </tr>\n  </tbody>\n</table>\n</div>"
     },
     "metadata": {},
     "execution_count": 56
    }
   ],
   "source": [
    "df.head()"
   ]
  },
  {
   "cell_type": "code",
   "execution_count": 57,
   "metadata": {},
   "outputs": [],
   "source": [
    "df.drop('Date',axis=1,inplace=True)"
   ]
  },
  {
   "cell_type": "code",
   "execution_count": 58,
   "metadata": {},
   "outputs": [
    {
     "output_type": "execute_result",
     "data": {
      "text/plain": [
       "            Close  Start   High    Low  Volume  Year    Month         Day\n",
       "Date_new                                                                 \n",
       "2018-07-02  10100  10850  10900  10000  137977  2018  2018-07  2018-07-02\n",
       "2018-06-29  10700  10550  10900   9990  170253  2018  2018-06  2018-06-29\n",
       "2018-06-28  10400  10900  10950  10150  155769  2018  2018-06  2018-06-28\n",
       "2018-06-27  10900  10800  11050  10500  133548  2018  2018-06  2018-06-27\n",
       "2018-06-26  10800  10900  11000  10700   63039  2018  2018-06  2018-06-26"
      ],
      "text/html": "<div>\n<style scoped>\n    .dataframe tbody tr th:only-of-type {\n        vertical-align: middle;\n    }\n\n    .dataframe tbody tr th {\n        vertical-align: top;\n    }\n\n    .dataframe thead th {\n        text-align: right;\n    }\n</style>\n<table border=\"1\" class=\"dataframe\">\n  <thead>\n    <tr style=\"text-align: right;\">\n      <th></th>\n      <th>Close</th>\n      <th>Start</th>\n      <th>High</th>\n      <th>Low</th>\n      <th>Volume</th>\n      <th>Year</th>\n      <th>Month</th>\n      <th>Day</th>\n    </tr>\n    <tr>\n      <th>Date_new</th>\n      <th></th>\n      <th></th>\n      <th></th>\n      <th></th>\n      <th></th>\n      <th></th>\n      <th></th>\n      <th></th>\n    </tr>\n  </thead>\n  <tbody>\n    <tr>\n      <th>2018-07-02</th>\n      <td>10100</td>\n      <td>10850</td>\n      <td>10900</td>\n      <td>10000</td>\n      <td>137977</td>\n      <td>2018</td>\n      <td>2018-07</td>\n      <td>2018-07-02</td>\n    </tr>\n    <tr>\n      <th>2018-06-29</th>\n      <td>10700</td>\n      <td>10550</td>\n      <td>10900</td>\n      <td>9990</td>\n      <td>170253</td>\n      <td>2018</td>\n      <td>2018-06</td>\n      <td>2018-06-29</td>\n    </tr>\n    <tr>\n      <th>2018-06-28</th>\n      <td>10400</td>\n      <td>10900</td>\n      <td>10950</td>\n      <td>10150</td>\n      <td>155769</td>\n      <td>2018</td>\n      <td>2018-06</td>\n      <td>2018-06-28</td>\n    </tr>\n    <tr>\n      <th>2018-06-27</th>\n      <td>10900</td>\n      <td>10800</td>\n      <td>11050</td>\n      <td>10500</td>\n      <td>133548</td>\n      <td>2018</td>\n      <td>2018-06</td>\n      <td>2018-06-27</td>\n    </tr>\n    <tr>\n      <th>2018-06-26</th>\n      <td>10800</td>\n      <td>10900</td>\n      <td>11000</td>\n      <td>10700</td>\n      <td>63039</td>\n      <td>2018</td>\n      <td>2018-06</td>\n      <td>2018-06-26</td>\n    </tr>\n  </tbody>\n</table>\n</div>"
     },
     "metadata": {},
     "execution_count": 58
    }
   ],
   "source": [
    "df.head()"
   ]
  },
  {
   "cell_type": "code",
   "execution_count": 59,
   "metadata": {},
   "outputs": [
    {
     "output_type": "execute_result",
     "data": {
      "text/plain": [
       "DatetimeIndex(['2018-07-02', '2018-06-29', '2018-06-28', '2018-06-27',\n",
       "               '2018-06-26', '2018-06-25', '2018-06-22', '2018-06-21',\n",
       "               '2018-06-20', '2018-06-19', '2018-06-18', '2018-06-15',\n",
       "               '2018-06-14', '2018-06-12', '2018-06-11', '2018-06-08',\n",
       "               '2018-06-07', '2018-06-05', '2018-06-04', '2018-06-01'],\n",
       "              dtype='datetime64[ns]', name='Date_new', freq=None)"
      ]
     },
     "metadata": {},
     "execution_count": 59
    }
   ],
   "source": [
    "df.index"
   ]
  },
  {
   "cell_type": "code",
   "execution_count": 60,
   "metadata": {},
   "outputs": [
    {
     "output_type": "execute_result",
     "data": {
      "text/plain": [
       "            Close  Start   High    Low  Volume  Year    Month         Day\n",
       "Date_new                                                                 \n",
       "2018-07-02  10100  10850  10900  10000  137977  2018  2018-07  2018-07-02"
      ],
      "text/html": "<div>\n<style scoped>\n    .dataframe tbody tr th:only-of-type {\n        vertical-align: middle;\n    }\n\n    .dataframe tbody tr th {\n        vertical-align: top;\n    }\n\n    .dataframe thead th {\n        text-align: right;\n    }\n</style>\n<table border=\"1\" class=\"dataframe\">\n  <thead>\n    <tr style=\"text-align: right;\">\n      <th></th>\n      <th>Close</th>\n      <th>Start</th>\n      <th>High</th>\n      <th>Low</th>\n      <th>Volume</th>\n      <th>Year</th>\n      <th>Month</th>\n      <th>Day</th>\n    </tr>\n    <tr>\n      <th>Date_new</th>\n      <th></th>\n      <th></th>\n      <th></th>\n      <th></th>\n      <th></th>\n      <th></th>\n      <th></th>\n      <th></th>\n    </tr>\n  </thead>\n  <tbody>\n    <tr>\n      <th>2018-07-02</th>\n      <td>10100</td>\n      <td>10850</td>\n      <td>10900</td>\n      <td>10000</td>\n      <td>137977</td>\n      <td>2018</td>\n      <td>2018-07</td>\n      <td>2018-07-02</td>\n    </tr>\n  </tbody>\n</table>\n</div>"
     },
     "metadata": {},
     "execution_count": 60
    }
   ],
   "source": [
    "df.loc['2018-07']"
   ]
  },
  {
   "cell_type": "code",
   "execution_count": 66,
   "metadata": {},
   "outputs": [
    {
     "output_type": "stream",
     "name": "stdout",
     "text": [
      "            Close  Start   High    Low  Volume  Year    Month         Day\nDate_new                                                                 \n2018-06-29  10700  10550  10900   9990  170253  2018  2018-06  2018-06-29\n2018-06-28  10400  10900  10950  10150  155769  2018  2018-06  2018-06-28\n2018-06-27  10900  10800  11050  10500  133548  2018  2018-06  2018-06-27\n2018-06-26  10800  10900  11000  10700   63039  2018  2018-06  2018-06-26\n2018-06-25  11150  11400  11450  11000   55519  2018  2018-06  2018-06-25\n2018-06-22  11300  11250  11450  10750  134805  2018  2018-06  2018-06-22\n2018-06-21  11200  11350  11750  11200  133002  2018  2018-06  2018-06-21\n2018-06-20  11550  11200  11600  10900  308596  2018  2018-06  2018-06-20\n2018-06-19  11300  11850  11950  11300  180656  2018  2018-06  2018-06-19\n2018-06-18  12000  13400  13400  12000  309787  2018  2018-06  2018-06-18\n2018-06-15  13400  13600  13600  12900  201376  2018  2018-06  2018-06-15\n2018-06-14  13450  13200  13700  13150  347451  2018  2018-06  2018-06-14\n2018-06-12  13200  12200  13300  12050  558148  2018  2018-06  2018-06-12\n2018-06-11  11950  12000  12250  11950   62293  2018  2018-06  2018-06-11\n2018-06-08  11950  11950  12200  11800   59258  2018  2018-06  2018-06-08\n2018-06-07  11950  12200  12300  11900   49088  2018  2018-06  2018-06-07\n2018-06-05  12150  11800  12250  11800   42485  2018  2018-06  2018-06-05\n2018-06-04  11900  11900  12200  11700   25171  2018  2018-06  2018-06-04\n2018-06-01  11900  11800  12100  11750   32062  2018  2018-06  2018-06-01\n            Start   High\nDate_new                \n2018-06-29  10550  10900\n2018-06-28  10900  10950\n2018-06-27  10800  11050\n2018-06-26  10900  11000\n2018-06-25  11400  11450\n2018-06-22  11250  11450\n2018-06-21  11350  11750\n2018-06-20  11200  11600\n2018-06-19  11850  11950\n2018-06-18  13400  13400\n2018-06-15  13600  13600\n2018-06-14  13200  13700\n2018-06-12  12200  13300\n2018-06-11  12000  12250\n2018-06-08  11950  12200\n2018-06-07  12200  12300\n2018-06-05  11800  12250\n2018-06-04  11900  12200\n2018-06-01  11800  12100\n            Close  Start   High    Low  Volume  Year    Month         Day\nDate_new                                                                 \n2018-07-02  10100  10850  10900  10000  137977  2018  2018-07  2018-07-02\n"
     ]
    }
   ],
   "source": [
    "print(df.loc['2018-06'])\n",
    "print(df.loc['2018-06','Start':'High'])\n",
    "print(df.loc['2018-07-02'])"
   ]
  },
  {
   "cell_type": "code",
   "execution_count": 67,
   "metadata": {},
   "outputs": [
    {
     "output_type": "stream",
     "name": "stdout",
     "text": [
      "            Close  Start   High    Low  Volume  Year    Month         Day\nDate_new                                                                 \n2018-07-02  10100  10850  10900  10000  137977  2018  2018-07  2018-07-02\n2018-06-29  10700  10550  10900   9990  170253  2018  2018-06  2018-06-29\n2018-06-28  10400  10900  10950  10150  155769  2018  2018-06  2018-06-28\n2018-06-27  10900  10800  11050  10500  133548  2018  2018-06  2018-06-27\n2018-06-26  10800  10900  11000  10700   63039  2018  2018-06  2018-06-26\n2018-06-25  11150  11400  11450  11000   55519  2018  2018-06  2018-06-25\n2018-06-22  11300  11250  11450  10750  134805  2018  2018-06  2018-06-22\n2018-06-21  11200  11350  11750  11200  133002  2018  2018-06  2018-06-21\n2018-06-20  11550  11200  11600  10900  308596  2018  2018-06  2018-06-20\n2018-06-19  11300  11850  11950  11300  180656  2018  2018-06  2018-06-19\n2018-06-18  12000  13400  13400  12000  309787  2018  2018-06  2018-06-18\n2018-06-15  13400  13600  13600  12900  201376  2018  2018-06  2018-06-15\n2018-06-14  13450  13200  13700  13150  347451  2018  2018-06  2018-06-14\n2018-06-12  13200  12200  13300  12050  558148  2018  2018-06  2018-06-12\n2018-06-11  11950  12000  12250  11950   62293  2018  2018-06  2018-06-11\n"
     ]
    }
   ],
   "source": [
    "print(df.loc['2018-07-02':'2018-06-11'])"
   ]
  },
  {
   "cell_type": "code",
   "execution_count": 68,
   "metadata": {},
   "outputs": [
    {
     "output_type": "stream",
     "name": "stdout",
     "text": [
      "2020-11-15 00:00:00\n"
     ]
    }
   ],
   "source": [
    "today = pd.to_datetime('2020-11-15')\n",
    "print(today)"
   ]
  },
  {
   "cell_type": "code",
   "execution_count": 69,
   "metadata": {},
   "outputs": [
    {
     "output_type": "execute_result",
     "data": {
      "text/plain": [
       "TimedeltaIndex(['867 days', '870 days', '871 days', '872 days', '873 days',\n",
       "                '874 days', '877 days', '878 days', '879 days', '880 days',\n",
       "                '881 days', '884 days', '885 days', '887 days', '888 days',\n",
       "                '891 days', '892 days', '894 days', '895 days', '898 days'],\n",
       "               dtype='timedelta64[ns]', name='Date_new', freq=None)"
      ]
     },
     "metadata": {},
     "execution_count": 69
    }
   ],
   "source": [
    "today - df.index"
   ]
  },
  {
   "cell_type": "code",
   "execution_count": 71,
   "metadata": {},
   "outputs": [],
   "source": [
    "df['-day'] = today - df.index"
   ]
  },
  {
   "cell_type": "code",
   "execution_count": 72,
   "metadata": {},
   "outputs": [
    {
     "output_type": "execute_result",
     "data": {
      "text/plain": [
       "            Close  Start   High    Low  Volume  Year    Month         Day  \\\n",
       "Date_new                                                                    \n",
       "2018-07-02  10100  10850  10900  10000  137977  2018  2018-07  2018-07-02   \n",
       "2018-06-29  10700  10550  10900   9990  170253  2018  2018-06  2018-06-29   \n",
       "2018-06-28  10400  10900  10950  10150  155769  2018  2018-06  2018-06-28   \n",
       "2018-06-27  10900  10800  11050  10500  133548  2018  2018-06  2018-06-27   \n",
       "2018-06-26  10800  10900  11000  10700   63039  2018  2018-06  2018-06-26   \n",
       "\n",
       "               -day  \n",
       "Date_new             \n",
       "2018-07-02 867 days  \n",
       "2018-06-29 870 days  \n",
       "2018-06-28 871 days  \n",
       "2018-06-27 872 days  \n",
       "2018-06-26 873 days  "
      ],
      "text/html": "<div>\n<style scoped>\n    .dataframe tbody tr th:only-of-type {\n        vertical-align: middle;\n    }\n\n    .dataframe tbody tr th {\n        vertical-align: top;\n    }\n\n    .dataframe thead th {\n        text-align: right;\n    }\n</style>\n<table border=\"1\" class=\"dataframe\">\n  <thead>\n    <tr style=\"text-align: right;\">\n      <th></th>\n      <th>Close</th>\n      <th>Start</th>\n      <th>High</th>\n      <th>Low</th>\n      <th>Volume</th>\n      <th>Year</th>\n      <th>Month</th>\n      <th>Day</th>\n      <th>-day</th>\n    </tr>\n    <tr>\n      <th>Date_new</th>\n      <th></th>\n      <th></th>\n      <th></th>\n      <th></th>\n      <th></th>\n      <th></th>\n      <th></th>\n      <th></th>\n      <th></th>\n    </tr>\n  </thead>\n  <tbody>\n    <tr>\n      <th>2018-07-02</th>\n      <td>10100</td>\n      <td>10850</td>\n      <td>10900</td>\n      <td>10000</td>\n      <td>137977</td>\n      <td>2018</td>\n      <td>2018-07</td>\n      <td>2018-07-02</td>\n      <td>867 days</td>\n    </tr>\n    <tr>\n      <th>2018-06-29</th>\n      <td>10700</td>\n      <td>10550</td>\n      <td>10900</td>\n      <td>9990</td>\n      <td>170253</td>\n      <td>2018</td>\n      <td>2018-06</td>\n      <td>2018-06-29</td>\n      <td>870 days</td>\n    </tr>\n    <tr>\n      <th>2018-06-28</th>\n      <td>10400</td>\n      <td>10900</td>\n      <td>10950</td>\n      <td>10150</td>\n      <td>155769</td>\n      <td>2018</td>\n      <td>2018-06</td>\n      <td>2018-06-28</td>\n      <td>871 days</td>\n    </tr>\n    <tr>\n      <th>2018-06-27</th>\n      <td>10900</td>\n      <td>10800</td>\n      <td>11050</td>\n      <td>10500</td>\n      <td>133548</td>\n      <td>2018</td>\n      <td>2018-06</td>\n      <td>2018-06-27</td>\n      <td>872 days</td>\n    </tr>\n    <tr>\n      <th>2018-06-26</th>\n      <td>10800</td>\n      <td>10900</td>\n      <td>11000</td>\n      <td>10700</td>\n      <td>63039</td>\n      <td>2018</td>\n      <td>2018-06</td>\n      <td>2018-06-26</td>\n      <td>873 days</td>\n    </tr>\n  </tbody>\n</table>\n</div>"
     },
     "metadata": {},
     "execution_count": 72
    }
   ],
   "source": [
    "df.head()"
   ]
  },
  {
   "cell_type": "code",
   "execution_count": null,
   "metadata": {},
   "outputs": [],
   "source": []
  }
 ]
}