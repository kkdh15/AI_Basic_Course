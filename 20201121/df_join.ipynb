{
 "metadata": {
  "language_info": {
   "codemirror_mode": {
    "name": "ipython",
    "version": 3
   },
   "file_extension": ".py",
   "mimetype": "text/x-python",
   "name": "python",
   "nbconvert_exporter": "python",
   "pygments_lexer": "ipython3",
   "version": "3.7.9-final"
  },
  "orig_nbformat": 2,
  "kernelspec": {
   "name": "python3",
   "display_name": "Python 3.7.9 64-bit ('python_3.7': conda)",
   "metadata": {
    "interpreter": {
     "hash": "2ef9295e5707b050a7247f8aef1527b1df91510008d346980af256f412b3227d"
    }
   }
  }
 },
 "nbformat": 4,
 "nbformat_minor": 2,
 "cells": [
  {
   "cell_type": "code",
   "execution_count": 1,
   "metadata": {},
   "outputs": [],
   "source": [
    "import pandas as pd"
   ]
  },
  {
   "cell_type": "code",
   "execution_count": 2,
   "metadata": {},
   "outputs": [],
   "source": [
    "df1 = pd.read_excel(\"C:/Users/82109/Desktop/Study/AI Basic Course/data/stock price.xlsx\",index_col='id')\n",
    "df2 = pd.read_excel(\"C:/Users/82109/Desktop/Study/AI Basic Course/data/stock valuation.xlsx\",index_col='id')"
   ]
  },
  {
   "cell_type": "code",
   "execution_count": 3,
   "metadata": {},
   "outputs": [
    {
     "output_type": "execute_result",
     "data": {
      "text/plain": [
       "   stock_name          value   price    name           eps       bps  \\\n",
       "id                                                                     \n",
       "1        한미약품   59385.666667  421000     NaN           NaN       NaN   \n",
       "2      CJ E&M   58540.666667   98900  CJ E&M   6301.333333   54068.0   \n",
       "3       엔에스쇼핑   14558.666667   13200     NaN           NaN       NaN   \n",
       "4         이마트  239230.833333  254500     이마트  18268.166667  295780.0   \n",
       "5      녹십자엠에스     468.833333   10200     NaN           NaN       NaN   \n",
       "\n",
       "          per       pbr  \n",
       "id                       \n",
       "1         NaN       NaN  \n",
       "2   15.695091  1.829178  \n",
       "3         NaN       NaN  \n",
       "4   13.931338  0.860437  \n",
       "5         NaN       NaN  "
      ],
      "text/html": "<div>\n<style scoped>\n    .dataframe tbody tr th:only-of-type {\n        vertical-align: middle;\n    }\n\n    .dataframe tbody tr th {\n        vertical-align: top;\n    }\n\n    .dataframe thead th {\n        text-align: right;\n    }\n</style>\n<table border=\"1\" class=\"dataframe\">\n  <thead>\n    <tr style=\"text-align: right;\">\n      <th></th>\n      <th>stock_name</th>\n      <th>value</th>\n      <th>price</th>\n      <th>name</th>\n      <th>eps</th>\n      <th>bps</th>\n      <th>per</th>\n      <th>pbr</th>\n    </tr>\n    <tr>\n      <th>id</th>\n      <th></th>\n      <th></th>\n      <th></th>\n      <th></th>\n      <th></th>\n      <th></th>\n      <th></th>\n      <th></th>\n    </tr>\n  </thead>\n  <tbody>\n    <tr>\n      <th>1</th>\n      <td>한미약품</td>\n      <td>59385.666667</td>\n      <td>421000</td>\n      <td>NaN</td>\n      <td>NaN</td>\n      <td>NaN</td>\n      <td>NaN</td>\n      <td>NaN</td>\n    </tr>\n    <tr>\n      <th>2</th>\n      <td>CJ E&amp;M</td>\n      <td>58540.666667</td>\n      <td>98900</td>\n      <td>CJ E&amp;M</td>\n      <td>6301.333333</td>\n      <td>54068.0</td>\n      <td>15.695091</td>\n      <td>1.829178</td>\n    </tr>\n    <tr>\n      <th>3</th>\n      <td>엔에스쇼핑</td>\n      <td>14558.666667</td>\n      <td>13200</td>\n      <td>NaN</td>\n      <td>NaN</td>\n      <td>NaN</td>\n      <td>NaN</td>\n      <td>NaN</td>\n    </tr>\n    <tr>\n      <th>4</th>\n      <td>이마트</td>\n      <td>239230.833333</td>\n      <td>254500</td>\n      <td>이마트</td>\n      <td>18268.166667</td>\n      <td>295780.0</td>\n      <td>13.931338</td>\n      <td>0.860437</td>\n    </tr>\n    <tr>\n      <th>5</th>\n      <td>녹십자엠에스</td>\n      <td>468.833333</td>\n      <td>10200</td>\n      <td>NaN</td>\n      <td>NaN</td>\n      <td>NaN</td>\n      <td>NaN</td>\n      <td>NaN</td>\n    </tr>\n  </tbody>\n</table>\n</div>"
     },
     "metadata": {},
     "execution_count": 3
    }
   ],
   "source": [
    "df3 = df1.join(df2) # index = key\n",
    "df3.head()"
   ]
  },
  {
   "cell_type": "code",
   "execution_count": 4,
   "metadata": {},
   "outputs": [
    {
     "output_type": "stream",
     "name": "stdout",
     "text": [
      "   stock_name          value   price    name           eps     bps        per  \\\nid                                                                              \n2      CJ E&M   58540.666667   98900  CJ E&M   6301.333333   54068  15.695091   \n4         이마트  239230.833333  254500     이마트  18268.166667  295780  13.931338   \n6         삼양사   82750.000000   82000     삼양사   5741.000000  108090  14.283226   \n7         종근당   40293.666667  100500     종근당   3990.333333   40684  25.185866   \n10     모두투어리츠    3093.333333    3475  모두투어리츠     85.166667    5335  40.802348   \n\n         pbr  \nid            \n2   1.829178  \n4   0.860437  \n6   0.758627  \n7   2.470259  \n10  0.651359  \n"
     ]
    }
   ],
   "source": [
    "df4 = df1.join(df2,how='inner')\n",
    "print(df4)"
   ]
  },
  {
   "cell_type": "code",
   "execution_count": null,
   "metadata": {},
   "outputs": [],
   "source": []
  }
 ]
}