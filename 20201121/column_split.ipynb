{
 "metadata": {
  "language_info": {
   "codemirror_mode": {
    "name": "ipython",
    "version": 3
   },
   "file_extension": ".py",
   "mimetype": "text/x-python",
   "name": "python",
   "nbconvert_exporter": "python",
   "pygments_lexer": "ipython3",
   "version": "3.7.9-final"
  },
  "orig_nbformat": 2,
  "kernelspec": {
   "name": "python3",
   "display_name": "Python 3.7.9 64-bit ('python_3.7': conda)",
   "metadata": {
    "interpreter": {
     "hash": "2ef9295e5707b050a7247f8aef1527b1df91510008d346980af256f412b3227d"
    }
   }
  }
 },
 "nbformat": 4,
 "nbformat_minor": 2,
 "cells": [
  {
   "cell_type": "code",
   "execution_count": 1,
   "metadata": {},
   "outputs": [],
   "source": [
    "import pandas as pd"
   ]
  },
  {
   "cell_type": "code",
   "execution_count": 4,
   "metadata": {},
   "outputs": [
    {
     "output_type": "execute_result",
     "data": {
      "text/plain": [
       "         Date  Close  Start   High    Low  Volume\n",
       "0  2018-07-02  10100  10850  10900  10000  137977\n",
       "1  2018-06-29  10700  10550  10900   9990  170253\n",
       "2  2018-06-28  10400  10900  10950  10150  155769\n",
       "3  2018-06-27  10900  10800  11050  10500  133548\n",
       "4  2018-06-26  10800  10900  11000  10700   63039"
      ],
      "text/html": "<div>\n<style scoped>\n    .dataframe tbody tr th:only-of-type {\n        vertical-align: middle;\n    }\n\n    .dataframe tbody tr th {\n        vertical-align: top;\n    }\n\n    .dataframe thead th {\n        text-align: right;\n    }\n</style>\n<table border=\"1\" class=\"dataframe\">\n  <thead>\n    <tr style=\"text-align: right;\">\n      <th></th>\n      <th>Date</th>\n      <th>Close</th>\n      <th>Start</th>\n      <th>High</th>\n      <th>Low</th>\n      <th>Volume</th>\n    </tr>\n  </thead>\n  <tbody>\n    <tr>\n      <th>0</th>\n      <td>2018-07-02</td>\n      <td>10100</td>\n      <td>10850</td>\n      <td>10900</td>\n      <td>10000</td>\n      <td>137977</td>\n    </tr>\n    <tr>\n      <th>1</th>\n      <td>2018-06-29</td>\n      <td>10700</td>\n      <td>10550</td>\n      <td>10900</td>\n      <td>9990</td>\n      <td>170253</td>\n    </tr>\n    <tr>\n      <th>2</th>\n      <td>2018-06-28</td>\n      <td>10400</td>\n      <td>10900</td>\n      <td>10950</td>\n      <td>10150</td>\n      <td>155769</td>\n    </tr>\n    <tr>\n      <th>3</th>\n      <td>2018-06-27</td>\n      <td>10900</td>\n      <td>10800</td>\n      <td>11050</td>\n      <td>10500</td>\n      <td>133548</td>\n    </tr>\n    <tr>\n      <th>4</th>\n      <td>2018-06-26</td>\n      <td>10800</td>\n      <td>10900</td>\n      <td>11000</td>\n      <td>10700</td>\n      <td>63039</td>\n    </tr>\n  </tbody>\n</table>\n</div>"
     },
     "metadata": {},
     "execution_count": 4
    }
   ],
   "source": [
    "df = pd.read_csv('./stock-data.csv')\n",
    "df.head()"
   ]
  },
  {
   "cell_type": "code",
   "execution_count": 5,
   "metadata": {},
   "outputs": [
    {
     "output_type": "execute_result",
     "data": {
      "text/plain": [
       "         Date  Close  Start   High    Low  Volume        Date_New\n",
       "0  2018-07-02  10100  10850  10900  10000  137977  [2018, 07, 02]\n",
       "1  2018-06-29  10700  10550  10900   9990  170253  [2018, 06, 29]\n",
       "2  2018-06-28  10400  10900  10950  10150  155769  [2018, 06, 28]\n",
       "3  2018-06-27  10900  10800  11050  10500  133548  [2018, 06, 27]\n",
       "4  2018-06-26  10800  10900  11000  10700   63039  [2018, 06, 26]"
      ],
      "text/html": "<div>\n<style scoped>\n    .dataframe tbody tr th:only-of-type {\n        vertical-align: middle;\n    }\n\n    .dataframe tbody tr th {\n        vertical-align: top;\n    }\n\n    .dataframe thead th {\n        text-align: right;\n    }\n</style>\n<table border=\"1\" class=\"dataframe\">\n  <thead>\n    <tr style=\"text-align: right;\">\n      <th></th>\n      <th>Date</th>\n      <th>Close</th>\n      <th>Start</th>\n      <th>High</th>\n      <th>Low</th>\n      <th>Volume</th>\n      <th>Date_New</th>\n    </tr>\n  </thead>\n  <tbody>\n    <tr>\n      <th>0</th>\n      <td>2018-07-02</td>\n      <td>10100</td>\n      <td>10850</td>\n      <td>10900</td>\n      <td>10000</td>\n      <td>137977</td>\n      <td>[2018, 07, 02]</td>\n    </tr>\n    <tr>\n      <th>1</th>\n      <td>2018-06-29</td>\n      <td>10700</td>\n      <td>10550</td>\n      <td>10900</td>\n      <td>9990</td>\n      <td>170253</td>\n      <td>[2018, 06, 29]</td>\n    </tr>\n    <tr>\n      <th>2</th>\n      <td>2018-06-28</td>\n      <td>10400</td>\n      <td>10900</td>\n      <td>10950</td>\n      <td>10150</td>\n      <td>155769</td>\n      <td>[2018, 06, 28]</td>\n    </tr>\n    <tr>\n      <th>3</th>\n      <td>2018-06-27</td>\n      <td>10900</td>\n      <td>10800</td>\n      <td>11050</td>\n      <td>10500</td>\n      <td>133548</td>\n      <td>[2018, 06, 27]</td>\n    </tr>\n    <tr>\n      <th>4</th>\n      <td>2018-06-26</td>\n      <td>10800</td>\n      <td>10900</td>\n      <td>11000</td>\n      <td>10700</td>\n      <td>63039</td>\n      <td>[2018, 06, 26]</td>\n    </tr>\n  </tbody>\n</table>\n</div>"
     },
     "metadata": {},
     "execution_count": 5
    }
   ],
   "source": [
    "df['Date_New'] = df['Date'].str.split('-')\n",
    "df.head()"
   ]
  },
  {
   "cell_type": "code",
   "execution_count": 7,
   "metadata": {},
   "outputs": [
    {
     "output_type": "execute_result",
     "data": {
      "text/plain": [
       "         Date  Close  Start   High    Low  Volume        Date_New  Year Month  \\\n",
       "0  2018-07-02  10100  10850  10900  10000  137977  [2018, 07, 02]  2018    07   \n",
       "1  2018-06-29  10700  10550  10900   9990  170253  [2018, 06, 29]  2018    06   \n",
       "2  2018-06-28  10400  10900  10950  10150  155769  [2018, 06, 28]  2018    06   \n",
       "3  2018-06-27  10900  10800  11050  10500  133548  [2018, 06, 27]  2018    06   \n",
       "4  2018-06-26  10800  10900  11000  10700   63039  [2018, 06, 26]  2018    06   \n",
       "\n",
       "  Day  \n",
       "0  02  \n",
       "1  29  \n",
       "2  28  \n",
       "3  27  \n",
       "4  26  "
      ],
      "text/html": "<div>\n<style scoped>\n    .dataframe tbody tr th:only-of-type {\n        vertical-align: middle;\n    }\n\n    .dataframe tbody tr th {\n        vertical-align: top;\n    }\n\n    .dataframe thead th {\n        text-align: right;\n    }\n</style>\n<table border=\"1\" class=\"dataframe\">\n  <thead>\n    <tr style=\"text-align: right;\">\n      <th></th>\n      <th>Date</th>\n      <th>Close</th>\n      <th>Start</th>\n      <th>High</th>\n      <th>Low</th>\n      <th>Volume</th>\n      <th>Date_New</th>\n      <th>Year</th>\n      <th>Month</th>\n      <th>Day</th>\n    </tr>\n  </thead>\n  <tbody>\n    <tr>\n      <th>0</th>\n      <td>2018-07-02</td>\n      <td>10100</td>\n      <td>10850</td>\n      <td>10900</td>\n      <td>10000</td>\n      <td>137977</td>\n      <td>[2018, 07, 02]</td>\n      <td>2018</td>\n      <td>07</td>\n      <td>02</td>\n    </tr>\n    <tr>\n      <th>1</th>\n      <td>2018-06-29</td>\n      <td>10700</td>\n      <td>10550</td>\n      <td>10900</td>\n      <td>9990</td>\n      <td>170253</td>\n      <td>[2018, 06, 29]</td>\n      <td>2018</td>\n      <td>06</td>\n      <td>29</td>\n    </tr>\n    <tr>\n      <th>2</th>\n      <td>2018-06-28</td>\n      <td>10400</td>\n      <td>10900</td>\n      <td>10950</td>\n      <td>10150</td>\n      <td>155769</td>\n      <td>[2018, 06, 28]</td>\n      <td>2018</td>\n      <td>06</td>\n      <td>28</td>\n    </tr>\n    <tr>\n      <th>3</th>\n      <td>2018-06-27</td>\n      <td>10900</td>\n      <td>10800</td>\n      <td>11050</td>\n      <td>10500</td>\n      <td>133548</td>\n      <td>[2018, 06, 27]</td>\n      <td>2018</td>\n      <td>06</td>\n      <td>27</td>\n    </tr>\n    <tr>\n      <th>4</th>\n      <td>2018-06-26</td>\n      <td>10800</td>\n      <td>10900</td>\n      <td>11000</td>\n      <td>10700</td>\n      <td>63039</td>\n      <td>[2018, 06, 26]</td>\n      <td>2018</td>\n      <td>06</td>\n      <td>26</td>\n    </tr>\n  </tbody>\n</table>\n</div>"
     },
     "metadata": {},
     "execution_count": 7
    }
   ],
   "source": [
    "df['Year'] = df['Date_New'].str.get(0)\n",
    "df['Month'] = df['Date_New'].str.get(1)\n",
    "df['Day'] = df['Date_New'].str.get(2)\n",
    "df.head()"
   ]
  },
  {
   "cell_type": "code",
   "execution_count": null,
   "metadata": {},
   "outputs": [],
   "source": []
  }
 ]
}