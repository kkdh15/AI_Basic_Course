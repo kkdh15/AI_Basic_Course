{
 "metadata": {
  "language_info": {
   "codemirror_mode": {
    "name": "ipython",
    "version": 3
   },
   "file_extension": ".py",
   "mimetype": "text/x-python",
   "name": "python",
   "nbconvert_exporter": "python",
   "pygments_lexer": "ipython3",
   "version": "3.7.9-final"
  },
  "orig_nbformat": 2,
  "kernelspec": {
   "name": "Python 3.7.9 64-bit ('python_3.7': conda)",
   "display_name": "Python 3.7.9 64-bit ('python_3.7': conda)",
   "metadata": {
    "interpreter": {
     "hash": "2ef9295e5707b050a7247f8aef1527b1df91510008d346980af256f412b3227d"
    }
   }
  }
 },
 "nbformat": 4,
 "nbformat_minor": 2,
 "cells": [
  {
   "cell_type": "code",
   "execution_count": 1,
   "metadata": {},
   "outputs": [],
   "source": [
    "import pandas as pd"
   ]
  },
  {
   "cell_type": "code",
   "execution_count": 2,
   "metadata": {},
   "outputs": [],
   "source": [
    "file_name = 'https://www.seoul.go.kr/coronaV/coronaStatus.do'"
   ]
  },
  {
   "cell_type": "code",
   "execution_count": 4,
   "metadata": {},
   "outputs": [],
   "source": [
    "tables = pd.read_html(file_name)"
   ]
  },
  {
   "cell_type": "code",
   "execution_count": 5,
   "metadata": {},
   "outputs": [
    {
     "output_type": "execute_result",
     "data": {
      "text/plain": [
       "57"
      ]
     },
     "metadata": {},
     "execution_count": 5
    }
   ],
   "source": [
    "len(tables)"
   ]
  },
  {
   "cell_type": "code",
   "execution_count": 6,
   "metadata": {},
   "outputs": [
    {
     "output_type": "execute_result",
     "data": {
      "text/plain": [
       "     종로구   중구  용산구  성동구  광진구 동대문구\n",
       "0     98   68  150  160  146  197\n",
       "1      0    0    0   +9    0   +5\n",
       "2    중랑구  성북구  강북구  도봉구  노원구  은평구\n",
       "3    211  363  161  232  337  281\n",
       "4      0   +3   +2    0    0   +1\n",
       "5   서대문구  마포구  양천구  강서구  구로구  금천구\n",
       "6    162  190  199  320  210   99\n",
       "7     +9    0    0   +4    0   +1\n",
       "8   영등포구  동작구  관악구  서초구  강남구  송파구\n",
       "9    226  272  486  246  374  434\n",
       "10    +6   +1    0   +1   +4   +2\n",
       "11   강동구   기타  NaN  NaN  NaN  NaN\n",
       "12   210  494  NaN  NaN  NaN  NaN\n",
       "13    +3   +3  NaN  NaN  NaN  NaN"
      ],
      "text/html": "<div>\n<style scoped>\n    .dataframe tbody tr th:only-of-type {\n        vertical-align: middle;\n    }\n\n    .dataframe tbody tr th {\n        vertical-align: top;\n    }\n\n    .dataframe thead th {\n        text-align: right;\n    }\n</style>\n<table border=\"1\" class=\"dataframe\">\n  <thead>\n    <tr style=\"text-align: right;\">\n      <th></th>\n      <th>종로구</th>\n      <th>중구</th>\n      <th>용산구</th>\n      <th>성동구</th>\n      <th>광진구</th>\n      <th>동대문구</th>\n    </tr>\n  </thead>\n  <tbody>\n    <tr>\n      <th>0</th>\n      <td>98</td>\n      <td>68</td>\n      <td>150</td>\n      <td>160</td>\n      <td>146</td>\n      <td>197</td>\n    </tr>\n    <tr>\n      <th>1</th>\n      <td>0</td>\n      <td>0</td>\n      <td>0</td>\n      <td>+9</td>\n      <td>0</td>\n      <td>+5</td>\n    </tr>\n    <tr>\n      <th>2</th>\n      <td>중랑구</td>\n      <td>성북구</td>\n      <td>강북구</td>\n      <td>도봉구</td>\n      <td>노원구</td>\n      <td>은평구</td>\n    </tr>\n    <tr>\n      <th>3</th>\n      <td>211</td>\n      <td>363</td>\n      <td>161</td>\n      <td>232</td>\n      <td>337</td>\n      <td>281</td>\n    </tr>\n    <tr>\n      <th>4</th>\n      <td>0</td>\n      <td>+3</td>\n      <td>+2</td>\n      <td>0</td>\n      <td>0</td>\n      <td>+1</td>\n    </tr>\n    <tr>\n      <th>5</th>\n      <td>서대문구</td>\n      <td>마포구</td>\n      <td>양천구</td>\n      <td>강서구</td>\n      <td>구로구</td>\n      <td>금천구</td>\n    </tr>\n    <tr>\n      <th>6</th>\n      <td>162</td>\n      <td>190</td>\n      <td>199</td>\n      <td>320</td>\n      <td>210</td>\n      <td>99</td>\n    </tr>\n    <tr>\n      <th>7</th>\n      <td>+9</td>\n      <td>0</td>\n      <td>0</td>\n      <td>+4</td>\n      <td>0</td>\n      <td>+1</td>\n    </tr>\n    <tr>\n      <th>8</th>\n      <td>영등포구</td>\n      <td>동작구</td>\n      <td>관악구</td>\n      <td>서초구</td>\n      <td>강남구</td>\n      <td>송파구</td>\n    </tr>\n    <tr>\n      <th>9</th>\n      <td>226</td>\n      <td>272</td>\n      <td>486</td>\n      <td>246</td>\n      <td>374</td>\n      <td>434</td>\n    </tr>\n    <tr>\n      <th>10</th>\n      <td>+6</td>\n      <td>+1</td>\n      <td>0</td>\n      <td>+1</td>\n      <td>+4</td>\n      <td>+2</td>\n    </tr>\n    <tr>\n      <th>11</th>\n      <td>강동구</td>\n      <td>기타</td>\n      <td>NaN</td>\n      <td>NaN</td>\n      <td>NaN</td>\n      <td>NaN</td>\n    </tr>\n    <tr>\n      <th>12</th>\n      <td>210</td>\n      <td>494</td>\n      <td>NaN</td>\n      <td>NaN</td>\n      <td>NaN</td>\n      <td>NaN</td>\n    </tr>\n    <tr>\n      <th>13</th>\n      <td>+3</td>\n      <td>+3</td>\n      <td>NaN</td>\n      <td>NaN</td>\n      <td>NaN</td>\n      <td>NaN</td>\n    </tr>\n  </tbody>\n</table>\n</div>"
     },
     "metadata": {},
     "execution_count": 6
    }
   ],
   "source": [
    "df = tables[1]\n",
    "df"
   ]
  },
  {
   "cell_type": "code",
   "execution_count": 7,
   "metadata": {},
   "outputs": [
    {
     "output_type": "execute_result",
     "data": {
      "text/plain": [
       "     소계  해외유입  동대문구 에이스희망케어센터 관련  성동구 노인요양시설 관련  강남구 역삼역 관련  강남구 헬스장 관련  \\\n",
       "0  6326   473                 34              6          11          45   \n",
       "\n",
       "   서초구 빌딩 관련  강서구 보험회사 관련  서울음악 교습 관련  용산구 소재 의류업체  ...  용인시 동문골프 모임 관련  \\\n",
       "0         10           20          23            7  ...              28   \n",
       "\n",
       "   동대문구 한국산업 인력공단  송파구 시장 관련  종로구 녹음실 관련  송파구 소재 교회 관련  송파구 소재 병원 관련  언론인 관련  \\\n",
       "0               4          5           5             7            21       5   \n",
       "\n",
       "   타 시·도 확진자 접촉자    기타  감염경로 조사중  \n",
       "0            275  4227      1067  \n",
       "\n",
       "[1 rows x 22 columns]"
      ],
      "text/html": "<div>\n<style scoped>\n    .dataframe tbody tr th:only-of-type {\n        vertical-align: middle;\n    }\n\n    .dataframe tbody tr th {\n        vertical-align: top;\n    }\n\n    .dataframe thead th {\n        text-align: right;\n    }\n</style>\n<table border=\"1\" class=\"dataframe\">\n  <thead>\n    <tr style=\"text-align: right;\">\n      <th></th>\n      <th>소계</th>\n      <th>해외유입</th>\n      <th>동대문구 에이스희망케어센터 관련</th>\n      <th>성동구 노인요양시설 관련</th>\n      <th>강남구 역삼역 관련</th>\n      <th>강남구 헬스장 관련</th>\n      <th>서초구 빌딩 관련</th>\n      <th>강서구 보험회사 관련</th>\n      <th>서울음악 교습 관련</th>\n      <th>용산구 소재 의류업체</th>\n      <th>...</th>\n      <th>용인시 동문골프 모임 관련</th>\n      <th>동대문구 한국산업 인력공단</th>\n      <th>송파구 시장 관련</th>\n      <th>종로구 녹음실 관련</th>\n      <th>송파구 소재 교회 관련</th>\n      <th>송파구 소재 병원 관련</th>\n      <th>언론인 관련</th>\n      <th>타 시·도 확진자 접촉자</th>\n      <th>기타</th>\n      <th>감염경로 조사중</th>\n    </tr>\n  </thead>\n  <tbody>\n    <tr>\n      <th>0</th>\n      <td>6326</td>\n      <td>473</td>\n      <td>34</td>\n      <td>6</td>\n      <td>11</td>\n      <td>45</td>\n      <td>10</td>\n      <td>20</td>\n      <td>23</td>\n      <td>7</td>\n      <td>...</td>\n      <td>28</td>\n      <td>4</td>\n      <td>5</td>\n      <td>5</td>\n      <td>7</td>\n      <td>21</td>\n      <td>5</td>\n      <td>275</td>\n      <td>4227</td>\n      <td>1067</td>\n    </tr>\n  </tbody>\n</table>\n<p>1 rows × 22 columns</p>\n</div>"
     },
     "metadata": {},
     "execution_count": 7
    }
   ],
   "source": [
    "df2 = tables[2]\n",
    "df2"
   ]
  },
  {
   "cell_type": "code",
   "execution_count": null,
   "metadata": {},
   "outputs": [],
   "source": []
  }
 ]
}