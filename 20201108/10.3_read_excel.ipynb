{
 "metadata": {
  "language_info": {
   "codemirror_mode": {
    "name": "ipython",
    "version": 3
   },
   "file_extension": ".py",
   "mimetype": "text/x-python",
   "name": "python",
   "nbconvert_exporter": "python",
   "pygments_lexer": "ipython3",
   "version": "3.7.9-final"
  },
  "orig_nbformat": 2,
  "kernelspec": {
   "name": "python3",
   "display_name": "Python 3.7.9 64-bit ('python_3.7': conda)",
   "metadata": {
    "interpreter": {
     "hash": "2ef9295e5707b050a7247f8aef1527b1df91510008d346980af256f412b3227d"
    }
   }
  }
 },
 "nbformat": 4,
 "nbformat_minor": 2,
 "cells": [
  {
   "cell_type": "code",
   "execution_count": 1,
   "metadata": {},
   "outputs": [],
   "source": [
    "import pandas as pd\n",
    "import os"
   ]
  },
  {
   "cell_type": "code",
   "execution_count": 2,
   "metadata": {},
   "outputs": [
    {
     "output_type": "stream",
     "name": "stdout",
     "text": [
      "c:\\Users\\82109\\Desktop\\Study\\AI Basic Course\\20201108\n"
     ]
    }
   ],
   "source": [
    "print(os.getcwd())"
   ]
  },
  {
   "cell_type": "code",
   "execution_count": 3,
   "metadata": {},
   "outputs": [
    {
     "output_type": "execute_result",
     "data": {
      "text/plain": [
       "'c:\\\\Users\\\\82109\\\\Desktop\\\\Study\\\\AI Basic Course\\\\20201108\\\\test.xlsx'"
      ]
     },
     "metadata": {},
     "execution_count": 3
    }
   ],
   "source": [
    "file_name = 'test.xlsx'\n",
    "file_path = os.getcwd() + '\\\\' + file_name\n",
    "file_path"
   ]
  },
  {
   "cell_type": "code",
   "execution_count": 4,
   "metadata": {},
   "outputs": [
    {
     "output_type": "execute_result",
     "data": {
      "text/plain": [
       "    활동실적별(1)  활동실적별(2)    2017    2018    2019\n",
       "0   출동건수 (건)        소계  805194  837628  893606\n",
       "1   구조건수 (건)        소계  655485  663526  719228\n",
       "2   구조인원 (명)        소계  115595  104335   99922\n",
       "3  미처리건수 (건)        소계  149709  174102  174378\n",
       "4       1일평균        소계    2206       -       -\n",
       "5        NaN  출동건수 (건)    2206    2295       -\n",
       "6        NaN  구조건수 (건)    1796    1818    1970\n",
       "7        NaN  구조인원 (명)     317     286     274"
      ],
      "text/html": "<div>\n<style scoped>\n    .dataframe tbody tr th:only-of-type {\n        vertical-align: middle;\n    }\n\n    .dataframe tbody tr th {\n        vertical-align: top;\n    }\n\n    .dataframe thead th {\n        text-align: right;\n    }\n</style>\n<table border=\"1\" class=\"dataframe\">\n  <thead>\n    <tr style=\"text-align: right;\">\n      <th></th>\n      <th>활동실적별(1)</th>\n      <th>활동실적별(2)</th>\n      <th>2017</th>\n      <th>2018</th>\n      <th>2019</th>\n    </tr>\n  </thead>\n  <tbody>\n    <tr>\n      <th>0</th>\n      <td>출동건수 (건)</td>\n      <td>소계</td>\n      <td>805194</td>\n      <td>837628</td>\n      <td>893606</td>\n    </tr>\n    <tr>\n      <th>1</th>\n      <td>구조건수 (건)</td>\n      <td>소계</td>\n      <td>655485</td>\n      <td>663526</td>\n      <td>719228</td>\n    </tr>\n    <tr>\n      <th>2</th>\n      <td>구조인원 (명)</td>\n      <td>소계</td>\n      <td>115595</td>\n      <td>104335</td>\n      <td>99922</td>\n    </tr>\n    <tr>\n      <th>3</th>\n      <td>미처리건수 (건)</td>\n      <td>소계</td>\n      <td>149709</td>\n      <td>174102</td>\n      <td>174378</td>\n    </tr>\n    <tr>\n      <th>4</th>\n      <td>1일평균</td>\n      <td>소계</td>\n      <td>2206</td>\n      <td>-</td>\n      <td>-</td>\n    </tr>\n    <tr>\n      <th>5</th>\n      <td>NaN</td>\n      <td>출동건수 (건)</td>\n      <td>2206</td>\n      <td>2295</td>\n      <td>-</td>\n    </tr>\n    <tr>\n      <th>6</th>\n      <td>NaN</td>\n      <td>구조건수 (건)</td>\n      <td>1796</td>\n      <td>1818</td>\n      <td>1970</td>\n    </tr>\n    <tr>\n      <th>7</th>\n      <td>NaN</td>\n      <td>구조인원 (명)</td>\n      <td>317</td>\n      <td>286</td>\n      <td>274</td>\n    </tr>\n  </tbody>\n</table>\n</div>"
     },
     "metadata": {},
     "execution_count": 4
    }
   ],
   "source": [
    "df1 = pd.read_excel(file_path)\n",
    "df1"
   ]
  },
  {
   "cell_type": "code",
   "execution_count": null,
   "metadata": {},
   "outputs": [],
   "source": []
  }
 ]
}