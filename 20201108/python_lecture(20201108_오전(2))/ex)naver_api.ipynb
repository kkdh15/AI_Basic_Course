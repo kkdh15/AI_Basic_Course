{
 "metadata": {
  "language_info": {
   "codemirror_mode": {
    "name": "ipython",
    "version": 3
   },
   "file_extension": ".py",
   "mimetype": "text/x-python",
   "name": "python",
   "nbconvert_exporter": "python",
   "pygments_lexer": "ipython3",
   "version": "3.8.3-candidate"
  },
  "orig_nbformat": 2,
  "kernelspec": {
   "name": "Python 3.8.3 64-bit",
   "display_name": "Python 3.8.3 64-bit",
   "metadata": {
    "interpreter": {
     "hash": "5de8c1c686d05d9ca8fe863d4d842c92f498e7b7b0bdb1297a2151a07308c6e5"
    }
   }
  }
 },
 "nbformat": 4,
 "nbformat_minor": 2,
 "cells": [
  {
   "cell_type": "code",
   "execution_count": 1,
   "metadata": {},
   "outputs": [],
   "source": [
    "import urllib.request"
   ]
  },
  {
   "cell_type": "code",
   "execution_count": 2,
   "metadata": {},
   "outputs": [],
   "source": [
    "search_result = urllib.parse.quote(\"제주도\")\n",
    "url = \"https://openapi.naver.com/v1/search/blog.json?query=\" + search_result"
   ]
  },
  {
   "cell_type": "code",
   "execution_count": 3,
   "metadata": {},
   "outputs": [],
   "source": [
    "id = \"JKG7vZwzMYsYNLbB3aJK\"\n",
    "pw = \"LRP54YypfA\""
   ]
  },
  {
   "cell_type": "code",
   "execution_count": 4,
   "metadata": {},
   "outputs": [],
   "source": [
    "request = urllib.request.Request(url)\n",
    "request.add_header(\"X-Naver-Client-Id\", id)\n",
    "request.add_header(\"X-Naver-Client-Secret\", pw)"
   ]
  },
  {
   "cell_type": "code",
   "execution_count": 5,
   "metadata": {},
   "outputs": [
    {
     "output_type": "stream",
     "name": "stdout",
     "text": [
      "200\n"
     ]
    }
   ],
   "source": [
    "response = urllib.request.urlopen(request)\n",
    "print(response.getcode()) #200 정상"
   ]
  },
  {
   "cell_type": "code",
   "execution_count": 6,
   "metadata": {},
   "outputs": [
    {
     "output_type": "execute_result",
     "data": {
      "text/plain": [
       "http.client.HTTPResponse"
      ]
     },
     "metadata": {},
     "execution_count": 6
    }
   ],
   "source": [
    "type(response)"
   ]
  },
  {
   "cell_type": "code",
   "execution_count": 13,
   "metadata": {},
   "outputs": [
    {
     "output_type": "stream",
     "name": "stdout",
     "text": [
      "{\n\"lastBuildDate\": \"Sun, 08 Nov 2020 13:46:16 +0900\",\n\"total\": 7890512,\n\"start\": 1,\n\"display\": 10,\n\"items\": [\n{\n\"title\": \"이국적인 오션뷰 <b>제주도</b> 펜션\",\n\"link\": \"https:\\/\\/blog.naver.com\\/bada3347?Redirect=Log&logNo=222130367936\",\n\"description\": \"며칠 전, 기념으로 <b>제주도</b> 여행을 갔다 왔는데요. 그때 하루 묵었던 <b>제주도</b> 펜션은 휴양지 못지않은 뷰에 시설도 깔끔해 기억에 남는 곳이에요. 제주특별자치도 서귀포시 호근동 1641-2 비스비제주팜빌리지 064-739... \",\n\"bloggername\": \"바다의 맛있는 사진여행\",\n\"bloggerlink\": \"https://blog.naver.com/bada3347\",\n\"postdate\": \"20201029\"\n\n},\n{\n\"title\": \"<b>제주도</b> 해루질, 직접 제주 문어 잡기\",\n\"link\": \"https:\\/\\/blog.naver.com\\/sseotaiji?Redirect=Log&logNo=222135655226\",\n\"description\": \"<b>제주도</b> 해루질, 직접 제주 문어 잡기 . 벌써 11월이 왔어요! 그래서 춥다! 그래서 오늘은 나만을 위한... 싶었는데 아는분이 재밌는거하러 간다고해서 지난 주말에 따라갔어요~ 바로 <b>제주도</b> 해루질하는데 따라... \",\n\"bloggername\": \"치와니의 여행과 사진\",\n\"bloggerlink\": \"https://blog.naver.com/sseotaiji\",\n\"postdate\": \"20201104\"\n\n},\n{\n\"title\": \"<b>제주도</b> 렌트카 저렴하게 할인받고 출발\",\n\"link\": \"https:\\/\\/blog.naver.com\\/uni7741?Redirect=Log&logNo=222128992463\",\n\"description\": \"어디에서 출발을 해도 한시간이면 갈수가 있는 곳이고 <b>제주도</b> 렌트카 이용해서 편하게 여행을 다닐수도... 나오는데 <b>제주도</b> 렌트카 차량 안전이나 편의 옵션도 한번에 확인이 가능하고 각 업체별 리뷰나... \",\n\"bloggername\": \"둔켈의 여행 그리고 이야기\",\n\"bloggerlink\": \"https://blog.naver.com/uni7741\",\n\"postdate\": \"20201029\"\n\n},\n{\n\"title\": \"<b>제주도</b> 렌트카 완전자차 제주속으로 팰리세이드\",\n\"link\": \"https:\\/\\/blog.naver.com\\/face8901?Redirect=Log&logNo=222138062720\",\n\"description\": \"<b>제주도</b> 렌트카 완전자차 제주속으로 팰리세이드 현대자동차에서 맥스크루즈의 후속으로 지난 2018년... 최근 억새 명소를 보기 위해 <b>제주도</b>에 있는 여러 렌트카 업체를 가격비교로 보다 저렴하게 이용하게... \",\n\"bloggername\": \"설이오빠 제주 일상 블로그\",\n\"bloggerlink\": \"https://blog.naver.com/face8901\",\n\"postdate\": \"20201107\"\n\n},\n{\n\"title\": \"쌓아주는 <b>제주도</b> 횟집 외 맛집들\",\n\"link\": \"https:\\/\\/blog.naver.com\\/eogusdk890?Redirect=Log&logNo=222116255516\",\n\"description\": \"<b>제주도</b> 미팅이 있어 최근에 아주 오랜만에 비행기타고 다녀왔었어요 워낙에 볼거리와 먹거리가 넘치는곳이라 처음갔을때의 열정적인 관광모드가 생각이 나네요 워낙 만족하고 맛있었던 <b>제주도</b> 횟집을... \",\n\"bloggername\": \"바리유와 쑤지닝의 부부공간\",\n\"bloggerlink\": \"https://blog.naver.com/eogusdk890\",\n\"postdate\": \"20201015\"\n\n},\n{\n\"title\": \"그립게 하는 <b>제주도</b> 맛집 모음\",\n\"link\": \"https:\\/\\/blog.naver.com\\/selyhr?Redirect=Log&logNo=222138107539\",\n\"description\": \"지난 주말에는 친구들이랑 <b>제주도</b>로 여행을 다녀왔어요. 바다 근처에 가면 꼭 먹어줘야 하는 갈치조림이 먹고 싶어 미리 알아둔 <b>제주도</b> 맛집에도 들렀답니다. 맛도 좋고 서비스도 뛰어나 흡족스러운 시간을... \",\n\"bloggername\": \"我好想念你\",\n\"bloggerlink\": \"https://blog.naver.com/selyhr\",\n\"postdate\": \"20201107\"\n\n},\n{\n\"title\": \"재밌었던 <b>제주도</b> 귤따기체험\",\n\"link\": \"https:\\/\\/blog.naver.com\\/kidari0727?Redirect=Log&logNo=222117590575\",\n\"description\": \"워낙에 귤을 좋아하는 나와 친구는 하루 온종일 <b>제주도</b> 귤따기체험 하고 왔어요. 항상 사서 먹기만 했던... 입구로 들어가기 전부터 세워져 있던 <b>제주도</b> 귤따기체험 농장의 표지판 덕에 더 빨리 위치를 찾을 수... \",\n\"bloggername\": \"호로락 우도 여행기\",\n\"bloggerlink\": \"https://blog.naver.com/kidari0727\",\n\"postdate\": \"20201016\"\n\n},\n{\n\"title\": \"나만알고싶은 <b>제주도</b> 횟집\",\n\"link\": \"https:\\/\\/blog.naver.com\\/zlzlen87?Redirect=Log&logNo=222098722017\",\n\"description\": \"그래서 함덕해수욕장 근처 <b>제주도</b> 횟집을 찾게 되었답니다. 근처 해안도로 옆에 있는 곰막이라는... 가게로 들어와보니 대기석이 잘 되어있는 것이 평소에도 사람들이 많이 찾는 <b>제주도</b> 횟집인 것 같더라구요.... \",\n\"bloggername\": \"와니지니 이야기\",\n\"bloggerlink\": \"https://blog.naver.com/zlzlen87\",\n\"postdate\": \"20200925\"\n\n},\n{\n\"title\": \"보통 아닌 <b>제주도</b> 갈치조림 맛집 모음\",\n\"link\": \"https:\\/\\/blog.naver.com\\/youriful?Redirect=Log&logNo=222122679565\",\n\"description\": \"얼마 전 가족들과 <b>제주도</b> 갈치조림 맛집에 다녀왔는데요. 식욕을 자극하는 달큰맵쌀했던 비법소스에 졸여진 음식을 한번 맛 본 뒤로 자꾸 생각나서 여러분께도 소개해드리려고 합니다! 1. <b>제주도</b> 애월 광해... \",\n\"bloggername\": \"Youriful day 'ᴗ'ෆ\",\n\"bloggerlink\": \"https://blog.naver.com/youriful\",\n\"postdate\": \"20201022\"\n\n},\n{\n\"title\": \"중독이었던 <b>제주도</b> 맛집 리스트\",\n\"link\": \"https:\\/\\/blog.naver.com\\/turpu?Redirect=Log&logNo=222093578592\",\n\"description\": \"지난달 지인들이랑 <b>제주도</b> 투어를 다녀왔는데요 sns에서도 인기가 많은 만큼 바다향에 포옥 빠지고 왔던 <b>제주도</b> 맛집부터 디저트 맛난 장소를 소개해봅니다. 이번에 방문한 <b>제주도</b> 어가는 노형 성당에서 네비가... \",\n\"bloggername\": \"여행을 꿈꾸는 사내\",\n\"bloggerlink\": \"https://blog.naver.com/turpu\",\n\"postdate\": \"20200919\"\n\n}\n]\n}\n\n"
     ]
    }
   ],
   "source": [
    "print(response.read().decode('utf-8'))"
   ]
  },
  {
   "cell_type": "code",
   "execution_count": 7,
   "metadata": {},
   "outputs": [],
   "source": [
    "import json"
   ]
  },
  {
   "cell_type": "code",
   "execution_count": 7,
   "metadata": {},
   "outputs": [
    {
     "output_type": "error",
     "ename": "NameError",
     "evalue": "name 'response' is not defined",
     "traceback": [
      "\u001b[1;31m---------------------------------------------------------------------------\u001b[0m",
      "\u001b[1;31mNameError\u001b[0m                                 Traceback (most recent call last)",
      "\u001b[1;32m<ipython-input-7-656487cf1792>\u001b[0m in \u001b[0;36m<module>\u001b[1;34m\u001b[0m\n\u001b[1;32m----> 1\u001b[1;33m \u001b[0mjson_str\u001b[0m \u001b[1;33m=\u001b[0m \u001b[0mresponse\u001b[0m\u001b[1;33m.\u001b[0m\u001b[0mread\u001b[0m\u001b[1;33m(\u001b[0m\u001b[1;33m)\u001b[0m\u001b[1;33m.\u001b[0m\u001b[0mdecode\u001b[0m\u001b[1;33m(\u001b[0m\u001b[1;34m'utf-8'\u001b[0m\u001b[1;33m)\u001b[0m\u001b[1;33m\u001b[0m\u001b[1;33m\u001b[0m\u001b[0m\n\u001b[0m",
      "\u001b[1;31mNameError\u001b[0m: name 'response' is not defined"
     ]
    }
   ],
   "source": [
    "json_str = response.read().decode('utf-8')\n"
   ]
  },
  {
   "cell_type": "code",
   "execution_count": null,
   "metadata": {},
   "outputs": [],
   "source": []
  }
 ]
}